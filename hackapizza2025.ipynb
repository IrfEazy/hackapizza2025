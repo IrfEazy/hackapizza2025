{
 "cells": [
  {
   "cell_type": "code",
   "execution_count": 1,
   "metadata": {},
   "outputs": [],
   "source": [
    "from ibm_watsonx_ai import Credentials\n",
    "from ibm_watsonx_ai.foundation_models import ModelInference"
   ]
  },
  {
   "cell_type": "code",
   "execution_count": 8,
   "metadata": {},
   "outputs": [],
   "source": [
    "from pprint import pprint"
   ]
  },
  {
   "cell_type": "code",
   "execution_count": 2,
   "metadata": {},
   "outputs": [],
   "source": [
    "credentials = Credentials(\n",
    "    url=\"https://us-south.ml.cloud.ibm.com\",\n",
    "    api_key=\"AnzfgthfcrfRzttoXGiKZUJDMRlcB3w4uemf0PJGFFT5\"\n",
    ")"
   ]
  },
  {
   "cell_type": "code",
   "execution_count": null,
   "metadata": {},
   "outputs": [],
   "source": [
    "model = ModelInference(\n",
    "    model_id=\"mistralai/mistral-large\", # Che conosciamo bene 😊🏆 \n",
    "    credentials=credentials,\n",
    "    project_id=\"5c33debb-5a25-4bfe-8392-ede4b20884fe\",\n",
    "    params={\n",
    "        \"max_tokens\": 200\n",
    "      }\n",
    ")\n",
    "\n",
    "result = model.chat()\n",
    "\n",
    "print(result['choices'][0]['message']['content'])"
   ]
  },
  {
   "cell_type": "code",
   "execution_count": 88,
   "metadata": {},
   "outputs": [
    {
     "name": "stdout",
     "output_type": "stream",
     "text": [
      "data/Menu/Sapore del Dune.pdf\n"
     ]
    },
    {
     "name": "stderr",
     "output_type": "stream",
     "text": [
      "INFO: HTTP Request: POST https://api.cloud.llamaindex.ai/api/parsing/upload \"HTTP/1.1 200 OK\"\n"
     ]
    },
    {
     "name": "stdout",
     "output_type": "stream",
     "text": [
      "Started parsing the file under job_id 603b0d1d-275b-4a5f-b65f-7406188c4d21\n"
     ]
    },
    {
     "name": "stderr",
     "output_type": "stream",
     "text": [
      "INFO: HTTP Request: GET https://api.cloud.llamaindex.ai/api/parsing/job/603b0d1d-275b-4a5f-b65f-7406188c4d21 \"HTTP/1.1 200 OK\"\n",
      "INFO: HTTP Request: GET https://api.cloud.llamaindex.ai/api/parsing/job/603b0d1d-275b-4a5f-b65f-7406188c4d21 \"HTTP/1.1 200 OK\"\n",
      "INFO: HTTP Request: GET https://api.cloud.llamaindex.ai/api/parsing/job/603b0d1d-275b-4a5f-b65f-7406188c4d21 \"HTTP/1.1 200 OK\"\n",
      "INFO: HTTP Request: GET https://api.cloud.llamaindex.ai/api/parsing/job/603b0d1d-275b-4a5f-b65f-7406188c4d21 \"HTTP/1.1 200 OK\"\n",
      "INFO: HTTP Request: GET https://api.cloud.llamaindex.ai/api/parsing/job/603b0d1d-275b-4a5f-b65f-7406188c4d21 \"HTTP/1.1 200 OK\"\n",
      "INFO: HTTP Request: GET https://api.cloud.llamaindex.ai/api/parsing/job/603b0d1d-275b-4a5f-b65f-7406188c4d21 \"HTTP/1.1 200 OK\"\n",
      "INFO: HTTP Request: GET https://api.cloud.llamaindex.ai/api/parsing/job/603b0d1d-275b-4a5f-b65f-7406188c4d21 \"HTTP/1.1 200 OK\"\n",
      "INFO: HTTP Request: GET https://api.cloud.llamaindex.ai/api/parsing/job/603b0d1d-275b-4a5f-b65f-7406188c4d21 \"HTTP/1.1 200 OK\"\n",
      "INFO: HTTP Request: GET https://api.cloud.llamaindex.ai/api/parsing/job/603b0d1d-275b-4a5f-b65f-7406188c4d21 \"HTTP/1.1 200 OK\"\n",
      "INFO: HTTP Request: GET https://api.cloud.llamaindex.ai/api/parsing/job/603b0d1d-275b-4a5f-b65f-7406188c4d21 \"HTTP/1.1 200 OK\"\n",
      "INFO: HTTP Request: GET https://api.cloud.llamaindex.ai/api/parsing/job/603b0d1d-275b-4a5f-b65f-7406188c4d21/result/text \"HTTP/1.1 200 OK\"\n"
     ]
    },
    {
     "name": "stdout",
     "output_type": "stream",
     "text": [
      "data/Menu/Universo Gastronomico di Namecc.pdf\n"
     ]
    },
    {
     "name": "stderr",
     "output_type": "stream",
     "text": [
      "INFO: HTTP Request: POST https://api.cloud.llamaindex.ai/api/parsing/upload \"HTTP/1.1 200 OK\"\n"
     ]
    },
    {
     "name": "stdout",
     "output_type": "stream",
     "text": [
      "Started parsing the file under job_id 60ba5f3a-9088-4d9c-a68a-942ff59e7ab0\n"
     ]
    },
    {
     "name": "stderr",
     "output_type": "stream",
     "text": [
      "INFO: HTTP Request: GET https://api.cloud.llamaindex.ai/api/parsing/job/60ba5f3a-9088-4d9c-a68a-942ff59e7ab0 \"HTTP/1.1 200 OK\"\n",
      "INFO: HTTP Request: GET https://api.cloud.llamaindex.ai/api/parsing/job/60ba5f3a-9088-4d9c-a68a-942ff59e7ab0 \"HTTP/1.1 200 OK\"\n",
      "INFO: HTTP Request: GET https://api.cloud.llamaindex.ai/api/parsing/job/60ba5f3a-9088-4d9c-a68a-942ff59e7ab0 \"HTTP/1.1 200 OK\"\n",
      "INFO: HTTP Request: GET https://api.cloud.llamaindex.ai/api/parsing/job/60ba5f3a-9088-4d9c-a68a-942ff59e7ab0 \"HTTP/1.1 200 OK\"\n",
      "INFO: HTTP Request: GET https://api.cloud.llamaindex.ai/api/parsing/job/60ba5f3a-9088-4d9c-a68a-942ff59e7ab0 \"HTTP/1.1 200 OK\"\n",
      "INFO: HTTP Request: GET https://api.cloud.llamaindex.ai/api/parsing/job/60ba5f3a-9088-4d9c-a68a-942ff59e7ab0 \"HTTP/1.1 200 OK\"\n",
      "INFO: HTTP Request: GET https://api.cloud.llamaindex.ai/api/parsing/job/60ba5f3a-9088-4d9c-a68a-942ff59e7ab0 \"HTTP/1.1 200 OK\"\n",
      "INFO: HTTP Request: GET https://api.cloud.llamaindex.ai/api/parsing/job/60ba5f3a-9088-4d9c-a68a-942ff59e7ab0 \"HTTP/1.1 200 OK\"\n",
      "INFO: HTTP Request: GET https://api.cloud.llamaindex.ai/api/parsing/job/60ba5f3a-9088-4d9c-a68a-942ff59e7ab0 \"HTTP/1.1 200 OK\"\n",
      "INFO: HTTP Request: GET https://api.cloud.llamaindex.ai/api/parsing/job/60ba5f3a-9088-4d9c-a68a-942ff59e7ab0 \"HTTP/1.1 200 OK\"\n",
      "INFO: HTTP Request: GET https://api.cloud.llamaindex.ai/api/parsing/job/60ba5f3a-9088-4d9c-a68a-942ff59e7ab0/result/text \"HTTP/1.1 200 OK\"\n"
     ]
    },
    {
     "name": "stdout",
     "output_type": "stream",
     "text": [
      "data/Menu/L Equilibrio Quantico.pdf\n"
     ]
    },
    {
     "name": "stderr",
     "output_type": "stream",
     "text": [
      "INFO: HTTP Request: POST https://api.cloud.llamaindex.ai/api/parsing/upload \"HTTP/1.1 200 OK\"\n"
     ]
    },
    {
     "name": "stdout",
     "output_type": "stream",
     "text": [
      "Started parsing the file under job_id 827366bd-4128-4c00-bb40-d57070d6a2e8\n"
     ]
    },
    {
     "name": "stderr",
     "output_type": "stream",
     "text": [
      "INFO: HTTP Request: GET https://api.cloud.llamaindex.ai/api/parsing/job/827366bd-4128-4c00-bb40-d57070d6a2e8 \"HTTP/1.1 200 OK\"\n",
      "INFO: HTTP Request: GET https://api.cloud.llamaindex.ai/api/parsing/job/827366bd-4128-4c00-bb40-d57070d6a2e8 \"HTTP/1.1 200 OK\"\n",
      "INFO: HTTP Request: GET https://api.cloud.llamaindex.ai/api/parsing/job/827366bd-4128-4c00-bb40-d57070d6a2e8 \"HTTP/1.1 200 OK\"\n",
      "INFO: HTTP Request: GET https://api.cloud.llamaindex.ai/api/parsing/job/827366bd-4128-4c00-bb40-d57070d6a2e8 \"HTTP/1.1 200 OK\"\n",
      "INFO: HTTP Request: GET https://api.cloud.llamaindex.ai/api/parsing/job/827366bd-4128-4c00-bb40-d57070d6a2e8 \"HTTP/1.1 200 OK\"\n",
      "INFO: HTTP Request: GET https://api.cloud.llamaindex.ai/api/parsing/job/827366bd-4128-4c00-bb40-d57070d6a2e8 \"HTTP/1.1 200 OK\"\n",
      "INFO: HTTP Request: GET https://api.cloud.llamaindex.ai/api/parsing/job/827366bd-4128-4c00-bb40-d57070d6a2e8 \"HTTP/1.1 200 OK\"\n",
      "INFO: HTTP Request: GET https://api.cloud.llamaindex.ai/api/parsing/job/827366bd-4128-4c00-bb40-d57070d6a2e8 \"HTTP/1.1 200 OK\"\n",
      "INFO: HTTP Request: GET https://api.cloud.llamaindex.ai/api/parsing/job/827366bd-4128-4c00-bb40-d57070d6a2e8 \"HTTP/1.1 200 OK\"\n",
      "INFO: HTTP Request: GET https://api.cloud.llamaindex.ai/api/parsing/job/827366bd-4128-4c00-bb40-d57070d6a2e8/result/text \"HTTP/1.1 200 OK\"\n"
     ]
    },
    {
     "name": "stdout",
     "output_type": "stream",
     "text": [
      "data/Menu/L Architetto dell Universo.pdf\n"
     ]
    },
    {
     "name": "stderr",
     "output_type": "stream",
     "text": [
      "INFO: HTTP Request: POST https://api.cloud.llamaindex.ai/api/parsing/upload \"HTTP/1.1 200 OK\"\n"
     ]
    },
    {
     "name": "stdout",
     "output_type": "stream",
     "text": [
      "Started parsing the file under job_id d1913265-c1bf-45dd-a624-6a6a2098961b\n"
     ]
    },
    {
     "name": "stderr",
     "output_type": "stream",
     "text": [
      "INFO: HTTP Request: GET https://api.cloud.llamaindex.ai/api/parsing/job/d1913265-c1bf-45dd-a624-6a6a2098961b \"HTTP/1.1 200 OK\"\n",
      "INFO: HTTP Request: GET https://api.cloud.llamaindex.ai/api/parsing/job/d1913265-c1bf-45dd-a624-6a6a2098961b \"HTTP/1.1 200 OK\"\n",
      "INFO: HTTP Request: GET https://api.cloud.llamaindex.ai/api/parsing/job/d1913265-c1bf-45dd-a624-6a6a2098961b \"HTTP/1.1 200 OK\"\n",
      "INFO: HTTP Request: GET https://api.cloud.llamaindex.ai/api/parsing/job/d1913265-c1bf-45dd-a624-6a6a2098961b \"HTTP/1.1 200 OK\"\n",
      "INFO: HTTP Request: GET https://api.cloud.llamaindex.ai/api/parsing/job/d1913265-c1bf-45dd-a624-6a6a2098961b \"HTTP/1.1 200 OK\"\n",
      "INFO: HTTP Request: GET https://api.cloud.llamaindex.ai/api/parsing/job/d1913265-c1bf-45dd-a624-6a6a2098961b \"HTTP/1.1 200 OK\"\n",
      "INFO: HTTP Request: GET https://api.cloud.llamaindex.ai/api/parsing/job/d1913265-c1bf-45dd-a624-6a6a2098961b \"HTTP/1.1 200 OK\"\n",
      "INFO: HTTP Request: GET https://api.cloud.llamaindex.ai/api/parsing/job/d1913265-c1bf-45dd-a624-6a6a2098961b \"HTTP/1.1 200 OK\"\n",
      "INFO: HTTP Request: GET https://api.cloud.llamaindex.ai/api/parsing/job/d1913265-c1bf-45dd-a624-6a6a2098961b \"HTTP/1.1 200 OK\"\n",
      "INFO: HTTP Request: GET https://api.cloud.llamaindex.ai/api/parsing/job/d1913265-c1bf-45dd-a624-6a6a2098961b \"HTTP/1.1 200 OK\"\n"
     ]
    },
    {
     "name": "stdout",
     "output_type": "stream",
     "text": [
      "."
     ]
    },
    {
     "name": "stderr",
     "output_type": "stream",
     "text": [
      "INFO: HTTP Request: GET https://api.cloud.llamaindex.ai/api/parsing/job/d1913265-c1bf-45dd-a624-6a6a2098961b \"HTTP/1.1 200 OK\"\n",
      "INFO: HTTP Request: GET https://api.cloud.llamaindex.ai/api/parsing/job/d1913265-c1bf-45dd-a624-6a6a2098961b \"HTTP/1.1 200 OK\"\n",
      "INFO: HTTP Request: GET https://api.cloud.llamaindex.ai/api/parsing/job/d1913265-c1bf-45dd-a624-6a6a2098961b/result/text \"HTTP/1.1 200 OK\"\n"
     ]
    },
    {
     "name": "stdout",
     "output_type": "stream",
     "text": [
      "data/Menu/L Essenza Cosmica.pdf\n"
     ]
    },
    {
     "name": "stderr",
     "output_type": "stream",
     "text": [
      "INFO: HTTP Request: POST https://api.cloud.llamaindex.ai/api/parsing/upload \"HTTP/1.1 200 OK\"\n"
     ]
    },
    {
     "name": "stdout",
     "output_type": "stream",
     "text": [
      "Started parsing the file under job_id b93a7f9a-3f86-43dd-ab53-599254fd909f\n"
     ]
    },
    {
     "name": "stderr",
     "output_type": "stream",
     "text": [
      "INFO: HTTP Request: GET https://api.cloud.llamaindex.ai/api/parsing/job/b93a7f9a-3f86-43dd-ab53-599254fd909f \"HTTP/1.1 200 OK\"\n",
      "INFO: HTTP Request: GET https://api.cloud.llamaindex.ai/api/parsing/job/b93a7f9a-3f86-43dd-ab53-599254fd909f \"HTTP/1.1 200 OK\"\n",
      "INFO: HTTP Request: GET https://api.cloud.llamaindex.ai/api/parsing/job/b93a7f9a-3f86-43dd-ab53-599254fd909f \"HTTP/1.1 200 OK\"\n",
      "INFO: HTTP Request: GET https://api.cloud.llamaindex.ai/api/parsing/job/b93a7f9a-3f86-43dd-ab53-599254fd909f \"HTTP/1.1 200 OK\"\n",
      "INFO: HTTP Request: GET https://api.cloud.llamaindex.ai/api/parsing/job/b93a7f9a-3f86-43dd-ab53-599254fd909f \"HTTP/1.1 200 OK\"\n",
      "INFO: HTTP Request: GET https://api.cloud.llamaindex.ai/api/parsing/job/b93a7f9a-3f86-43dd-ab53-599254fd909f \"HTTP/1.1 200 OK\"\n",
      "INFO: HTTP Request: GET https://api.cloud.llamaindex.ai/api/parsing/job/b93a7f9a-3f86-43dd-ab53-599254fd909f \"HTTP/1.1 200 OK\"\n",
      "INFO: HTTP Request: GET https://api.cloud.llamaindex.ai/api/parsing/job/b93a7f9a-3f86-43dd-ab53-599254fd909f \"HTTP/1.1 200 OK\"\n",
      "INFO: HTTP Request: GET https://api.cloud.llamaindex.ai/api/parsing/job/b93a7f9a-3f86-43dd-ab53-599254fd909f \"HTTP/1.1 200 OK\"\n",
      "INFO: HTTP Request: GET https://api.cloud.llamaindex.ai/api/parsing/job/b93a7f9a-3f86-43dd-ab53-599254fd909f \"HTTP/1.1 200 OK\"\n"
     ]
    },
    {
     "name": "stdout",
     "output_type": "stream",
     "text": [
      "."
     ]
    },
    {
     "name": "stderr",
     "output_type": "stream",
     "text": [
      "INFO: HTTP Request: GET https://api.cloud.llamaindex.ai/api/parsing/job/b93a7f9a-3f86-43dd-ab53-599254fd909f \"HTTP/1.1 200 OK\"\n",
      "INFO: HTTP Request: GET https://api.cloud.llamaindex.ai/api/parsing/job/b93a7f9a-3f86-43dd-ab53-599254fd909f \"HTTP/1.1 200 OK\"\n",
      "INFO: HTTP Request: GET https://api.cloud.llamaindex.ai/api/parsing/job/b93a7f9a-3f86-43dd-ab53-599254fd909f/result/text \"HTTP/1.1 200 OK\"\n"
     ]
    },
    {
     "name": "stdout",
     "output_type": "stream",
     "text": [
      "data/Menu/Stelle Astrofisiche.pdf\n"
     ]
    },
    {
     "name": "stderr",
     "output_type": "stream",
     "text": [
      "INFO: HTTP Request: POST https://api.cloud.llamaindex.ai/api/parsing/upload \"HTTP/1.1 200 OK\"\n"
     ]
    },
    {
     "name": "stdout",
     "output_type": "stream",
     "text": [
      "Started parsing the file under job_id cf98a527-6280-4949-ae6d-b02929814811\n"
     ]
    },
    {
     "name": "stderr",
     "output_type": "stream",
     "text": [
      "INFO: HTTP Request: GET https://api.cloud.llamaindex.ai/api/parsing/job/cf98a527-6280-4949-ae6d-b02929814811 \"HTTP/1.1 200 OK\"\n",
      "INFO: HTTP Request: GET https://api.cloud.llamaindex.ai/api/parsing/job/cf98a527-6280-4949-ae6d-b02929814811 \"HTTP/1.1 200 OK\"\n",
      "INFO: HTTP Request: GET https://api.cloud.llamaindex.ai/api/parsing/job/cf98a527-6280-4949-ae6d-b02929814811 \"HTTP/1.1 200 OK\"\n",
      "INFO: HTTP Request: GET https://api.cloud.llamaindex.ai/api/parsing/job/cf98a527-6280-4949-ae6d-b02929814811 \"HTTP/1.1 200 OK\"\n",
      "INFO: HTTP Request: GET https://api.cloud.llamaindex.ai/api/parsing/job/cf98a527-6280-4949-ae6d-b02929814811 \"HTTP/1.1 200 OK\"\n",
      "INFO: HTTP Request: GET https://api.cloud.llamaindex.ai/api/parsing/job/cf98a527-6280-4949-ae6d-b02929814811 \"HTTP/1.1 200 OK\"\n",
      "INFO: HTTP Request: GET https://api.cloud.llamaindex.ai/api/parsing/job/cf98a527-6280-4949-ae6d-b02929814811 \"HTTP/1.1 200 OK\"\n",
      "INFO: HTTP Request: GET https://api.cloud.llamaindex.ai/api/parsing/job/cf98a527-6280-4949-ae6d-b02929814811 \"HTTP/1.1 200 OK\"\n",
      "INFO: HTTP Request: GET https://api.cloud.llamaindex.ai/api/parsing/job/cf98a527-6280-4949-ae6d-b02929814811 \"HTTP/1.1 200 OK\"\n",
      "INFO: HTTP Request: GET https://api.cloud.llamaindex.ai/api/parsing/job/cf98a527-6280-4949-ae6d-b02929814811 \"HTTP/1.1 200 OK\"\n",
      "INFO: HTTP Request: GET https://api.cloud.llamaindex.ai/api/parsing/job/cf98a527-6280-4949-ae6d-b02929814811/result/text \"HTTP/1.1 200 OK\"\n"
     ]
    },
    {
     "name": "stdout",
     "output_type": "stream",
     "text": [
      "data/Menu/L Essenza di Asgard.pdf\n"
     ]
    },
    {
     "name": "stderr",
     "output_type": "stream",
     "text": [
      "INFO: HTTP Request: POST https://api.cloud.llamaindex.ai/api/parsing/upload \"HTTP/1.1 200 OK\"\n"
     ]
    },
    {
     "name": "stdout",
     "output_type": "stream",
     "text": [
      "Started parsing the file under job_id 7513a462-4a92-4a27-82c5-59ea2af258b3\n"
     ]
    },
    {
     "name": "stderr",
     "output_type": "stream",
     "text": [
      "INFO: HTTP Request: GET https://api.cloud.llamaindex.ai/api/parsing/job/7513a462-4a92-4a27-82c5-59ea2af258b3 \"HTTP/1.1 200 OK\"\n",
      "INFO: HTTP Request: GET https://api.cloud.llamaindex.ai/api/parsing/job/7513a462-4a92-4a27-82c5-59ea2af258b3 \"HTTP/1.1 200 OK\"\n",
      "INFO: HTTP Request: GET https://api.cloud.llamaindex.ai/api/parsing/job/7513a462-4a92-4a27-82c5-59ea2af258b3 \"HTTP/1.1 200 OK\"\n",
      "INFO: HTTP Request: GET https://api.cloud.llamaindex.ai/api/parsing/job/7513a462-4a92-4a27-82c5-59ea2af258b3 \"HTTP/1.1 200 OK\"\n",
      "INFO: HTTP Request: GET https://api.cloud.llamaindex.ai/api/parsing/job/7513a462-4a92-4a27-82c5-59ea2af258b3 \"HTTP/1.1 200 OK\"\n",
      "INFO: HTTP Request: GET https://api.cloud.llamaindex.ai/api/parsing/job/7513a462-4a92-4a27-82c5-59ea2af258b3 \"HTTP/1.1 200 OK\"\n",
      "INFO: HTTP Request: GET https://api.cloud.llamaindex.ai/api/parsing/job/7513a462-4a92-4a27-82c5-59ea2af258b3 \"HTTP/1.1 200 OK\"\n",
      "INFO: HTTP Request: GET https://api.cloud.llamaindex.ai/api/parsing/job/7513a462-4a92-4a27-82c5-59ea2af258b3 \"HTTP/1.1 200 OK\"\n",
      "INFO: HTTP Request: GET https://api.cloud.llamaindex.ai/api/parsing/job/7513a462-4a92-4a27-82c5-59ea2af258b3/result/text \"HTTP/1.1 200 OK\"\n"
     ]
    },
    {
     "name": "stdout",
     "output_type": "stream",
     "text": [
      "data/Menu/Eco di Pandora.pdf\n"
     ]
    },
    {
     "name": "stderr",
     "output_type": "stream",
     "text": [
      "INFO: HTTP Request: POST https://api.cloud.llamaindex.ai/api/parsing/upload \"HTTP/1.1 200 OK\"\n"
     ]
    },
    {
     "name": "stdout",
     "output_type": "stream",
     "text": [
      "Started parsing the file under job_id 43bab9d7-7e09-449d-aa81-4a51e1a76f37\n"
     ]
    },
    {
     "name": "stderr",
     "output_type": "stream",
     "text": [
      "INFO: HTTP Request: GET https://api.cloud.llamaindex.ai/api/parsing/job/43bab9d7-7e09-449d-aa81-4a51e1a76f37 \"HTTP/1.1 200 OK\"\n",
      "INFO: HTTP Request: GET https://api.cloud.llamaindex.ai/api/parsing/job/43bab9d7-7e09-449d-aa81-4a51e1a76f37 \"HTTP/1.1 200 OK\"\n",
      "INFO: HTTP Request: GET https://api.cloud.llamaindex.ai/api/parsing/job/43bab9d7-7e09-449d-aa81-4a51e1a76f37 \"HTTP/1.1 200 OK\"\n",
      "INFO: HTTP Request: GET https://api.cloud.llamaindex.ai/api/parsing/job/43bab9d7-7e09-449d-aa81-4a51e1a76f37 \"HTTP/1.1 200 OK\"\n",
      "INFO: HTTP Request: GET https://api.cloud.llamaindex.ai/api/parsing/job/43bab9d7-7e09-449d-aa81-4a51e1a76f37 \"HTTP/1.1 200 OK\"\n",
      "INFO: HTTP Request: GET https://api.cloud.llamaindex.ai/api/parsing/job/43bab9d7-7e09-449d-aa81-4a51e1a76f37 \"HTTP/1.1 200 OK\"\n",
      "INFO: HTTP Request: GET https://api.cloud.llamaindex.ai/api/parsing/job/43bab9d7-7e09-449d-aa81-4a51e1a76f37 \"HTTP/1.1 200 OK\"\n",
      "INFO: HTTP Request: GET https://api.cloud.llamaindex.ai/api/parsing/job/43bab9d7-7e09-449d-aa81-4a51e1a76f37 \"HTTP/1.1 200 OK\"\n",
      "INFO: HTTP Request: GET https://api.cloud.llamaindex.ai/api/parsing/job/43bab9d7-7e09-449d-aa81-4a51e1a76f37 \"HTTP/1.1 200 OK\"\n",
      "INFO: HTTP Request: GET https://api.cloud.llamaindex.ai/api/parsing/job/43bab9d7-7e09-449d-aa81-4a51e1a76f37 \"HTTP/1.1 200 OK\"\n",
      "INFO: HTTP Request: GET https://api.cloud.llamaindex.ai/api/parsing/job/43bab9d7-7e09-449d-aa81-4a51e1a76f37/result/text \"HTTP/1.1 200 OK\"\n"
     ]
    },
    {
     "name": "stdout",
     "output_type": "stream",
     "text": [
      "data/Menu/L Eco dei Sapori.pdf\n"
     ]
    },
    {
     "name": "stderr",
     "output_type": "stream",
     "text": [
      "INFO: HTTP Request: POST https://api.cloud.llamaindex.ai/api/parsing/upload \"HTTP/1.1 200 OK\"\n"
     ]
    },
    {
     "name": "stdout",
     "output_type": "stream",
     "text": [
      "Started parsing the file under job_id 257765ff-bb33-4b42-ac34-dd9dc8947930\n"
     ]
    },
    {
     "name": "stderr",
     "output_type": "stream",
     "text": [
      "INFO: HTTP Request: GET https://api.cloud.llamaindex.ai/api/parsing/job/257765ff-bb33-4b42-ac34-dd9dc8947930 \"HTTP/1.1 200 OK\"\n",
      "INFO: HTTP Request: GET https://api.cloud.llamaindex.ai/api/parsing/job/257765ff-bb33-4b42-ac34-dd9dc8947930 \"HTTP/1.1 200 OK\"\n",
      "INFO: HTTP Request: GET https://api.cloud.llamaindex.ai/api/parsing/job/257765ff-bb33-4b42-ac34-dd9dc8947930 \"HTTP/1.1 200 OK\"\n",
      "INFO: HTTP Request: GET https://api.cloud.llamaindex.ai/api/parsing/job/257765ff-bb33-4b42-ac34-dd9dc8947930 \"HTTP/1.1 200 OK\"\n",
      "INFO: HTTP Request: GET https://api.cloud.llamaindex.ai/api/parsing/job/257765ff-bb33-4b42-ac34-dd9dc8947930 \"HTTP/1.1 200 OK\"\n",
      "INFO: HTTP Request: GET https://api.cloud.llamaindex.ai/api/parsing/job/257765ff-bb33-4b42-ac34-dd9dc8947930 \"HTTP/1.1 200 OK\"\n",
      "INFO: HTTP Request: GET https://api.cloud.llamaindex.ai/api/parsing/job/257765ff-bb33-4b42-ac34-dd9dc8947930 \"HTTP/1.1 200 OK\"\n",
      "INFO: HTTP Request: GET https://api.cloud.llamaindex.ai/api/parsing/job/257765ff-bb33-4b42-ac34-dd9dc8947930 \"HTTP/1.1 200 OK\"\n",
      "INFO: HTTP Request: GET https://api.cloud.llamaindex.ai/api/parsing/job/257765ff-bb33-4b42-ac34-dd9dc8947930/result/text \"HTTP/1.1 200 OK\"\n"
     ]
    },
    {
     "name": "stdout",
     "output_type": "stream",
     "text": [
      "data/Menu/L Essenza delle Dune.pdf\n"
     ]
    },
    {
     "name": "stderr",
     "output_type": "stream",
     "text": [
      "INFO: HTTP Request: POST https://api.cloud.llamaindex.ai/api/parsing/upload \"HTTP/1.1 200 OK\"\n"
     ]
    },
    {
     "name": "stdout",
     "output_type": "stream",
     "text": [
      "Started parsing the file under job_id 60bd4e2c-f5f5-4b13-aaaa-7f1ebbe58598\n"
     ]
    },
    {
     "name": "stderr",
     "output_type": "stream",
     "text": [
      "INFO: HTTP Request: GET https://api.cloud.llamaindex.ai/api/parsing/job/60bd4e2c-f5f5-4b13-aaaa-7f1ebbe58598 \"HTTP/1.1 200 OK\"\n",
      "INFO: HTTP Request: GET https://api.cloud.llamaindex.ai/api/parsing/job/60bd4e2c-f5f5-4b13-aaaa-7f1ebbe58598 \"HTTP/1.1 200 OK\"\n",
      "INFO: HTTP Request: GET https://api.cloud.llamaindex.ai/api/parsing/job/60bd4e2c-f5f5-4b13-aaaa-7f1ebbe58598 \"HTTP/1.1 200 OK\"\n",
      "INFO: HTTP Request: GET https://api.cloud.llamaindex.ai/api/parsing/job/60bd4e2c-f5f5-4b13-aaaa-7f1ebbe58598 \"HTTP/1.1 200 OK\"\n",
      "INFO: HTTP Request: GET https://api.cloud.llamaindex.ai/api/parsing/job/60bd4e2c-f5f5-4b13-aaaa-7f1ebbe58598 \"HTTP/1.1 200 OK\"\n",
      "INFO: HTTP Request: GET https://api.cloud.llamaindex.ai/api/parsing/job/60bd4e2c-f5f5-4b13-aaaa-7f1ebbe58598 \"HTTP/1.1 200 OK\"\n",
      "INFO: HTTP Request: GET https://api.cloud.llamaindex.ai/api/parsing/job/60bd4e2c-f5f5-4b13-aaaa-7f1ebbe58598 \"HTTP/1.1 200 OK\"\n",
      "INFO: HTTP Request: GET https://api.cloud.llamaindex.ai/api/parsing/job/60bd4e2c-f5f5-4b13-aaaa-7f1ebbe58598 \"HTTP/1.1 200 OK\"\n",
      "INFO: HTTP Request: GET https://api.cloud.llamaindex.ai/api/parsing/job/60bd4e2c-f5f5-4b13-aaaa-7f1ebbe58598 \"HTTP/1.1 200 OK\"\n",
      "INFO: HTTP Request: GET https://api.cloud.llamaindex.ai/api/parsing/job/60bd4e2c-f5f5-4b13-aaaa-7f1ebbe58598 \"HTTP/1.1 200 OK\"\n",
      "INFO: HTTP Request: GET https://api.cloud.llamaindex.ai/api/parsing/job/60bd4e2c-f5f5-4b13-aaaa-7f1ebbe58598/result/text \"HTTP/1.1 200 OK\"\n"
     ]
    },
    {
     "name": "stdout",
     "output_type": "stream",
     "text": [
      "data/Menu/L Universo in Cucina.pdf\n"
     ]
    },
    {
     "name": "stderr",
     "output_type": "stream",
     "text": [
      "INFO: HTTP Request: POST https://api.cloud.llamaindex.ai/api/parsing/upload \"HTTP/1.1 200 OK\"\n"
     ]
    },
    {
     "name": "stdout",
     "output_type": "stream",
     "text": [
      "Started parsing the file under job_id 243ce3eb-fdb2-4586-93af-182b6c4816c4\n"
     ]
    },
    {
     "name": "stderr",
     "output_type": "stream",
     "text": [
      "INFO: HTTP Request: GET https://api.cloud.llamaindex.ai/api/parsing/job/243ce3eb-fdb2-4586-93af-182b6c4816c4 \"HTTP/1.1 200 OK\"\n",
      "INFO: HTTP Request: GET https://api.cloud.llamaindex.ai/api/parsing/job/243ce3eb-fdb2-4586-93af-182b6c4816c4 \"HTTP/1.1 200 OK\"\n",
      "INFO: HTTP Request: GET https://api.cloud.llamaindex.ai/api/parsing/job/243ce3eb-fdb2-4586-93af-182b6c4816c4 \"HTTP/1.1 200 OK\"\n",
      "INFO: HTTP Request: GET https://api.cloud.llamaindex.ai/api/parsing/job/243ce3eb-fdb2-4586-93af-182b6c4816c4 \"HTTP/1.1 200 OK\"\n",
      "INFO: HTTP Request: GET https://api.cloud.llamaindex.ai/api/parsing/job/243ce3eb-fdb2-4586-93af-182b6c4816c4 \"HTTP/1.1 200 OK\"\n",
      "INFO: HTTP Request: GET https://api.cloud.llamaindex.ai/api/parsing/job/243ce3eb-fdb2-4586-93af-182b6c4816c4 \"HTTP/1.1 200 OK\"\n",
      "INFO: HTTP Request: GET https://api.cloud.llamaindex.ai/api/parsing/job/243ce3eb-fdb2-4586-93af-182b6c4816c4 \"HTTP/1.1 200 OK\"\n",
      "INFO: HTTP Request: GET https://api.cloud.llamaindex.ai/api/parsing/job/243ce3eb-fdb2-4586-93af-182b6c4816c4 \"HTTP/1.1 200 OK\"\n",
      "INFO: HTTP Request: GET https://api.cloud.llamaindex.ai/api/parsing/job/243ce3eb-fdb2-4586-93af-182b6c4816c4 \"HTTP/1.1 200 OK\"\n",
      "INFO: HTTP Request: GET https://api.cloud.llamaindex.ai/api/parsing/job/243ce3eb-fdb2-4586-93af-182b6c4816c4 \"HTTP/1.1 200 OK\"\n"
     ]
    },
    {
     "name": "stdout",
     "output_type": "stream",
     "text": [
      "."
     ]
    },
    {
     "name": "stderr",
     "output_type": "stream",
     "text": [
      "INFO: HTTP Request: GET https://api.cloud.llamaindex.ai/api/parsing/job/243ce3eb-fdb2-4586-93af-182b6c4816c4 \"HTTP/1.1 200 OK\"\n",
      "INFO: HTTP Request: GET https://api.cloud.llamaindex.ai/api/parsing/job/243ce3eb-fdb2-4586-93af-182b6c4816c4 \"HTTP/1.1 200 OK\"\n",
      "INFO: HTTP Request: GET https://api.cloud.llamaindex.ai/api/parsing/job/243ce3eb-fdb2-4586-93af-182b6c4816c4 \"HTTP/1.1 200 OK\"\n",
      "INFO: HTTP Request: GET https://api.cloud.llamaindex.ai/api/parsing/job/243ce3eb-fdb2-4586-93af-182b6c4816c4 \"HTTP/1.1 200 OK\"\n",
      "INFO: HTTP Request: GET https://api.cloud.llamaindex.ai/api/parsing/job/243ce3eb-fdb2-4586-93af-182b6c4816c4 \"HTTP/1.1 200 OK\"\n",
      "INFO: HTTP Request: GET https://api.cloud.llamaindex.ai/api/parsing/job/243ce3eb-fdb2-4586-93af-182b6c4816c4 \"HTTP/1.1 200 OK\"\n",
      "INFO: HTTP Request: GET https://api.cloud.llamaindex.ai/api/parsing/job/243ce3eb-fdb2-4586-93af-182b6c4816c4 \"HTTP/1.1 200 OK\"\n",
      "INFO: HTTP Request: GET https://api.cloud.llamaindex.ai/api/parsing/job/243ce3eb-fdb2-4586-93af-182b6c4816c4 \"HTTP/1.1 200 OK\"\n",
      "INFO: HTTP Request: GET https://api.cloud.llamaindex.ai/api/parsing/job/243ce3eb-fdb2-4586-93af-182b6c4816c4 \"HTTP/1.1 200 OK\"\n",
      "INFO: HTTP Request: GET https://api.cloud.llamaindex.ai/api/parsing/job/243ce3eb-fdb2-4586-93af-182b6c4816c4 \"HTTP/1.1 200 OK\"\n"
     ]
    },
    {
     "name": "stdout",
     "output_type": "stream",
     "text": [
      "."
     ]
    },
    {
     "name": "stderr",
     "output_type": "stream",
     "text": [
      "INFO: HTTP Request: GET https://api.cloud.llamaindex.ai/api/parsing/job/243ce3eb-fdb2-4586-93af-182b6c4816c4 \"HTTP/1.1 200 OK\"\n",
      "INFO: HTTP Request: GET https://api.cloud.llamaindex.ai/api/parsing/job/243ce3eb-fdb2-4586-93af-182b6c4816c4 \"HTTP/1.1 200 OK\"\n",
      "INFO: HTTP Request: GET https://api.cloud.llamaindex.ai/api/parsing/job/243ce3eb-fdb2-4586-93af-182b6c4816c4 \"HTTP/1.1 200 OK\"\n",
      "INFO: HTTP Request: GET https://api.cloud.llamaindex.ai/api/parsing/job/243ce3eb-fdb2-4586-93af-182b6c4816c4 \"HTTP/1.1 200 OK\"\n",
      "INFO: HTTP Request: GET https://api.cloud.llamaindex.ai/api/parsing/job/243ce3eb-fdb2-4586-93af-182b6c4816c4 \"HTTP/1.1 200 OK\"\n",
      "INFO: HTTP Request: GET https://api.cloud.llamaindex.ai/api/parsing/job/243ce3eb-fdb2-4586-93af-182b6c4816c4 \"HTTP/1.1 200 OK\"\n",
      "INFO: HTTP Request: GET https://api.cloud.llamaindex.ai/api/parsing/job/243ce3eb-fdb2-4586-93af-182b6c4816c4 \"HTTP/1.1 200 OK\"\n",
      "INFO: HTTP Request: GET https://api.cloud.llamaindex.ai/api/parsing/job/243ce3eb-fdb2-4586-93af-182b6c4816c4 \"HTTP/1.1 200 OK\"\n",
      "INFO: HTTP Request: GET https://api.cloud.llamaindex.ai/api/parsing/job/243ce3eb-fdb2-4586-93af-182b6c4816c4 \"HTTP/1.1 200 OK\"\n",
      "INFO: HTTP Request: GET https://api.cloud.llamaindex.ai/api/parsing/job/243ce3eb-fdb2-4586-93af-182b6c4816c4 \"HTTP/1.1 200 OK\"\n"
     ]
    },
    {
     "name": "stdout",
     "output_type": "stream",
     "text": [
      "."
     ]
    },
    {
     "name": "stderr",
     "output_type": "stream",
     "text": [
      "INFO: HTTP Request: GET https://api.cloud.llamaindex.ai/api/parsing/job/243ce3eb-fdb2-4586-93af-182b6c4816c4 \"HTTP/1.1 200 OK\"\n",
      "INFO: HTTP Request: GET https://api.cloud.llamaindex.ai/api/parsing/job/243ce3eb-fdb2-4586-93af-182b6c4816c4 \"HTTP/1.1 200 OK\"\n",
      "INFO: HTTP Request: GET https://api.cloud.llamaindex.ai/api/parsing/job/243ce3eb-fdb2-4586-93af-182b6c4816c4 \"HTTP/1.1 200 OK\"\n",
      "INFO: HTTP Request: GET https://api.cloud.llamaindex.ai/api/parsing/job/243ce3eb-fdb2-4586-93af-182b6c4816c4 \"HTTP/1.1 200 OK\"\n",
      "INFO: HTTP Request: GET https://api.cloud.llamaindex.ai/api/parsing/job/243ce3eb-fdb2-4586-93af-182b6c4816c4 \"HTTP/1.1 200 OK\"\n",
      "INFO: HTTP Request: GET https://api.cloud.llamaindex.ai/api/parsing/job/243ce3eb-fdb2-4586-93af-182b6c4816c4 \"HTTP/1.1 200 OK\"\n",
      "INFO: HTTP Request: GET https://api.cloud.llamaindex.ai/api/parsing/job/243ce3eb-fdb2-4586-93af-182b6c4816c4 \"HTTP/1.1 200 OK\"\n",
      "INFO: HTTP Request: GET https://api.cloud.llamaindex.ai/api/parsing/job/243ce3eb-fdb2-4586-93af-182b6c4816c4 \"HTTP/1.1 200 OK\"\n",
      "INFO: HTTP Request: GET https://api.cloud.llamaindex.ai/api/parsing/job/243ce3eb-fdb2-4586-93af-182b6c4816c4/result/text \"HTTP/1.1 200 OK\"\n"
     ]
    },
    {
     "name": "stdout",
     "output_type": "stream",
     "text": [
      "data/Menu/Cosmica Essenza.pdf\n"
     ]
    },
    {
     "name": "stderr",
     "output_type": "stream",
     "text": [
      "INFO: HTTP Request: POST https://api.cloud.llamaindex.ai/api/parsing/upload \"HTTP/1.1 200 OK\"\n"
     ]
    },
    {
     "name": "stdout",
     "output_type": "stream",
     "text": [
      "Started parsing the file under job_id b104e09e-3f8a-4d05-99c7-2729946532d8\n"
     ]
    },
    {
     "name": "stderr",
     "output_type": "stream",
     "text": [
      "INFO: HTTP Request: GET https://api.cloud.llamaindex.ai/api/parsing/job/b104e09e-3f8a-4d05-99c7-2729946532d8 \"HTTP/1.1 200 OK\"\n",
      "INFO: HTTP Request: GET https://api.cloud.llamaindex.ai/api/parsing/job/b104e09e-3f8a-4d05-99c7-2729946532d8 \"HTTP/1.1 200 OK\"\n",
      "INFO: HTTP Request: GET https://api.cloud.llamaindex.ai/api/parsing/job/b104e09e-3f8a-4d05-99c7-2729946532d8 \"HTTP/1.1 200 OK\"\n",
      "INFO: HTTP Request: GET https://api.cloud.llamaindex.ai/api/parsing/job/b104e09e-3f8a-4d05-99c7-2729946532d8 \"HTTP/1.1 200 OK\"\n",
      "INFO: HTTP Request: GET https://api.cloud.llamaindex.ai/api/parsing/job/b104e09e-3f8a-4d05-99c7-2729946532d8 \"HTTP/1.1 200 OK\"\n",
      "INFO: HTTP Request: GET https://api.cloud.llamaindex.ai/api/parsing/job/b104e09e-3f8a-4d05-99c7-2729946532d8 \"HTTP/1.1 200 OK\"\n",
      "INFO: HTTP Request: GET https://api.cloud.llamaindex.ai/api/parsing/job/b104e09e-3f8a-4d05-99c7-2729946532d8 \"HTTP/1.1 200 OK\"\n",
      "INFO: HTTP Request: GET https://api.cloud.llamaindex.ai/api/parsing/job/b104e09e-3f8a-4d05-99c7-2729946532d8 \"HTTP/1.1 200 OK\"\n",
      "INFO: HTTP Request: GET https://api.cloud.llamaindex.ai/api/parsing/job/b104e09e-3f8a-4d05-99c7-2729946532d8 \"HTTP/1.1 200 OK\"\n",
      "INFO: HTTP Request: GET https://api.cloud.llamaindex.ai/api/parsing/job/b104e09e-3f8a-4d05-99c7-2729946532d8 \"HTTP/1.1 200 OK\"\n"
     ]
    },
    {
     "name": "stdout",
     "output_type": "stream",
     "text": [
      "."
     ]
    },
    {
     "name": "stderr",
     "output_type": "stream",
     "text": [
      "INFO: HTTP Request: GET https://api.cloud.llamaindex.ai/api/parsing/job/b104e09e-3f8a-4d05-99c7-2729946532d8 \"HTTP/1.1 200 OK\"\n",
      "INFO: HTTP Request: GET https://api.cloud.llamaindex.ai/api/parsing/job/b104e09e-3f8a-4d05-99c7-2729946532d8 \"HTTP/1.1 200 OK\"\n",
      "INFO: HTTP Request: GET https://api.cloud.llamaindex.ai/api/parsing/job/b104e09e-3f8a-4d05-99c7-2729946532d8 \"HTTP/1.1 200 OK\"\n",
      "INFO: HTTP Request: GET https://api.cloud.llamaindex.ai/api/parsing/job/b104e09e-3f8a-4d05-99c7-2729946532d8 \"HTTP/1.1 200 OK\"\n",
      "INFO: HTTP Request: GET https://api.cloud.llamaindex.ai/api/parsing/job/b104e09e-3f8a-4d05-99c7-2729946532d8 \"HTTP/1.1 200 OK\"\n",
      "INFO: HTTP Request: GET https://api.cloud.llamaindex.ai/api/parsing/job/b104e09e-3f8a-4d05-99c7-2729946532d8 \"HTTP/1.1 200 OK\"\n",
      "INFO: HTTP Request: GET https://api.cloud.llamaindex.ai/api/parsing/job/b104e09e-3f8a-4d05-99c7-2729946532d8 \"HTTP/1.1 200 OK\"\n",
      "INFO: HTTP Request: GET https://api.cloud.llamaindex.ai/api/parsing/job/b104e09e-3f8a-4d05-99c7-2729946532d8 \"HTTP/1.1 200 OK\"\n",
      "INFO: HTTP Request: GET https://api.cloud.llamaindex.ai/api/parsing/job/b104e09e-3f8a-4d05-99c7-2729946532d8 \"HTTP/1.1 200 OK\"\n",
      "INFO: HTTP Request: GET https://api.cloud.llamaindex.ai/api/parsing/job/b104e09e-3f8a-4d05-99c7-2729946532d8 \"HTTP/1.1 200 OK\"\n"
     ]
    },
    {
     "name": "stdout",
     "output_type": "stream",
     "text": [
      "."
     ]
    },
    {
     "name": "stderr",
     "output_type": "stream",
     "text": [
      "INFO: HTTP Request: GET https://api.cloud.llamaindex.ai/api/parsing/job/b104e09e-3f8a-4d05-99c7-2729946532d8 \"HTTP/1.1 200 OK\"\n",
      "INFO: HTTP Request: GET https://api.cloud.llamaindex.ai/api/parsing/job/b104e09e-3f8a-4d05-99c7-2729946532d8 \"HTTP/1.1 200 OK\"\n",
      "INFO: HTTP Request: GET https://api.cloud.llamaindex.ai/api/parsing/job/b104e09e-3f8a-4d05-99c7-2729946532d8 \"HTTP/1.1 200 OK\"\n",
      "INFO: HTTP Request: GET https://api.cloud.llamaindex.ai/api/parsing/job/b104e09e-3f8a-4d05-99c7-2729946532d8 \"HTTP/1.1 200 OK\"\n",
      "INFO: HTTP Request: GET https://api.cloud.llamaindex.ai/api/parsing/job/b104e09e-3f8a-4d05-99c7-2729946532d8 \"HTTP/1.1 200 OK\"\n",
      "INFO: HTTP Request: GET https://api.cloud.llamaindex.ai/api/parsing/job/b104e09e-3f8a-4d05-99c7-2729946532d8 \"HTTP/1.1 200 OK\"\n",
      "INFO: HTTP Request: GET https://api.cloud.llamaindex.ai/api/parsing/job/b104e09e-3f8a-4d05-99c7-2729946532d8 \"HTTP/1.1 200 OK\"\n",
      "INFO: HTTP Request: GET https://api.cloud.llamaindex.ai/api/parsing/job/b104e09e-3f8a-4d05-99c7-2729946532d8 \"HTTP/1.1 200 OK\"\n",
      "INFO: HTTP Request: GET https://api.cloud.llamaindex.ai/api/parsing/job/b104e09e-3f8a-4d05-99c7-2729946532d8 \"HTTP/1.1 200 OK\"\n",
      "INFO: HTTP Request: GET https://api.cloud.llamaindex.ai/api/parsing/job/b104e09e-3f8a-4d05-99c7-2729946532d8 \"HTTP/1.1 200 OK\"\n"
     ]
    },
    {
     "name": "stdout",
     "output_type": "stream",
     "text": [
      "."
     ]
    },
    {
     "name": "stderr",
     "output_type": "stream",
     "text": [
      "INFO: HTTP Request: GET https://api.cloud.llamaindex.ai/api/parsing/job/b104e09e-3f8a-4d05-99c7-2729946532d8 \"HTTP/1.1 200 OK\"\n",
      "INFO: HTTP Request: GET https://api.cloud.llamaindex.ai/api/parsing/job/b104e09e-3f8a-4d05-99c7-2729946532d8 \"HTTP/1.1 200 OK\"\n",
      "INFO: HTTP Request: GET https://api.cloud.llamaindex.ai/api/parsing/job/b104e09e-3f8a-4d05-99c7-2729946532d8 \"HTTP/1.1 200 OK\"\n",
      "INFO: HTTP Request: GET https://api.cloud.llamaindex.ai/api/parsing/job/b104e09e-3f8a-4d05-99c7-2729946532d8 \"HTTP/1.1 200 OK\"\n",
      "INFO: HTTP Request: GET https://api.cloud.llamaindex.ai/api/parsing/job/b104e09e-3f8a-4d05-99c7-2729946532d8 \"HTTP/1.1 200 OK\"\n",
      "INFO: HTTP Request: GET https://api.cloud.llamaindex.ai/api/parsing/job/b104e09e-3f8a-4d05-99c7-2729946532d8 \"HTTP/1.1 200 OK\"\n",
      "INFO: HTTP Request: GET https://api.cloud.llamaindex.ai/api/parsing/job/b104e09e-3f8a-4d05-99c7-2729946532d8 \"HTTP/1.1 200 OK\"\n",
      "INFO: HTTP Request: GET https://api.cloud.llamaindex.ai/api/parsing/job/b104e09e-3f8a-4d05-99c7-2729946532d8 \"HTTP/1.1 200 OK\"\n",
      "INFO: HTTP Request: GET https://api.cloud.llamaindex.ai/api/parsing/job/b104e09e-3f8a-4d05-99c7-2729946532d8 \"HTTP/1.1 200 OK\"\n",
      "INFO: HTTP Request: GET https://api.cloud.llamaindex.ai/api/parsing/job/b104e09e-3f8a-4d05-99c7-2729946532d8 \"HTTP/1.1 200 OK\"\n"
     ]
    },
    {
     "name": "stdout",
     "output_type": "stream",
     "text": [
      "."
     ]
    },
    {
     "name": "stderr",
     "output_type": "stream",
     "text": [
      "INFO: HTTP Request: GET https://api.cloud.llamaindex.ai/api/parsing/job/b104e09e-3f8a-4d05-99c7-2729946532d8 \"HTTP/1.1 200 OK\"\n",
      "INFO: HTTP Request: GET https://api.cloud.llamaindex.ai/api/parsing/job/b104e09e-3f8a-4d05-99c7-2729946532d8 \"HTTP/1.1 200 OK\"\n",
      "INFO: HTTP Request: GET https://api.cloud.llamaindex.ai/api/parsing/job/b104e09e-3f8a-4d05-99c7-2729946532d8 \"HTTP/1.1 200 OK\"\n",
      "INFO: HTTP Request: GET https://api.cloud.llamaindex.ai/api/parsing/job/b104e09e-3f8a-4d05-99c7-2729946532d8 \"HTTP/1.1 200 OK\"\n",
      "INFO: HTTP Request: GET https://api.cloud.llamaindex.ai/api/parsing/job/b104e09e-3f8a-4d05-99c7-2729946532d8 \"HTTP/1.1 200 OK\"\n",
      "INFO: HTTP Request: GET https://api.cloud.llamaindex.ai/api/parsing/job/b104e09e-3f8a-4d05-99c7-2729946532d8 \"HTTP/1.1 200 OK\"\n",
      "INFO: HTTP Request: GET https://api.cloud.llamaindex.ai/api/parsing/job/b104e09e-3f8a-4d05-99c7-2729946532d8 \"HTTP/1.1 200 OK\"\n",
      "INFO: HTTP Request: GET https://api.cloud.llamaindex.ai/api/parsing/job/b104e09e-3f8a-4d05-99c7-2729946532d8 \"HTTP/1.1 200 OK\"\n",
      "INFO: HTTP Request: GET https://api.cloud.llamaindex.ai/api/parsing/job/b104e09e-3f8a-4d05-99c7-2729946532d8 \"HTTP/1.1 200 OK\"\n",
      "INFO: HTTP Request: GET https://api.cloud.llamaindex.ai/api/parsing/job/b104e09e-3f8a-4d05-99c7-2729946532d8 \"HTTP/1.1 200 OK\"\n"
     ]
    },
    {
     "name": "stdout",
     "output_type": "stream",
     "text": [
      "."
     ]
    },
    {
     "name": "stderr",
     "output_type": "stream",
     "text": [
      "INFO: HTTP Request: GET https://api.cloud.llamaindex.ai/api/parsing/job/b104e09e-3f8a-4d05-99c7-2729946532d8 \"HTTP/1.1 200 OK\"\n",
      "INFO: HTTP Request: GET https://api.cloud.llamaindex.ai/api/parsing/job/b104e09e-3f8a-4d05-99c7-2729946532d8 \"HTTP/1.1 200 OK\"\n",
      "INFO: HTTP Request: GET https://api.cloud.llamaindex.ai/api/parsing/job/b104e09e-3f8a-4d05-99c7-2729946532d8 \"HTTP/1.1 200 OK\"\n",
      "INFO: HTTP Request: GET https://api.cloud.llamaindex.ai/api/parsing/job/b104e09e-3f8a-4d05-99c7-2729946532d8 \"HTTP/1.1 200 OK\"\n",
      "INFO: HTTP Request: GET https://api.cloud.llamaindex.ai/api/parsing/job/b104e09e-3f8a-4d05-99c7-2729946532d8 \"HTTP/1.1 200 OK\"\n",
      "INFO: HTTP Request: GET https://api.cloud.llamaindex.ai/api/parsing/job/b104e09e-3f8a-4d05-99c7-2729946532d8 \"HTTP/1.1 200 OK\"\n",
      "INFO: HTTP Request: GET https://api.cloud.llamaindex.ai/api/parsing/job/b104e09e-3f8a-4d05-99c7-2729946532d8 \"HTTP/1.1 200 OK\"\n",
      "INFO: HTTP Request: GET https://api.cloud.llamaindex.ai/api/parsing/job/b104e09e-3f8a-4d05-99c7-2729946532d8 \"HTTP/1.1 200 OK\"\n",
      "INFO: HTTP Request: GET https://api.cloud.llamaindex.ai/api/parsing/job/b104e09e-3f8a-4d05-99c7-2729946532d8 \"HTTP/1.1 200 OK\"\n",
      "INFO: HTTP Request: GET https://api.cloud.llamaindex.ai/api/parsing/job/b104e09e-3f8a-4d05-99c7-2729946532d8 \"HTTP/1.1 200 OK\"\n"
     ]
    },
    {
     "name": "stdout",
     "output_type": "stream",
     "text": [
      "."
     ]
    },
    {
     "name": "stderr",
     "output_type": "stream",
     "text": [
      "INFO: HTTP Request: GET https://api.cloud.llamaindex.ai/api/parsing/job/b104e09e-3f8a-4d05-99c7-2729946532d8 \"HTTP/1.1 200 OK\"\n",
      "INFO: HTTP Request: GET https://api.cloud.llamaindex.ai/api/parsing/job/b104e09e-3f8a-4d05-99c7-2729946532d8 \"HTTP/1.1 200 OK\"\n",
      "INFO: HTTP Request: GET https://api.cloud.llamaindex.ai/api/parsing/job/b104e09e-3f8a-4d05-99c7-2729946532d8 \"HTTP/1.1 200 OK\"\n",
      "INFO: HTTP Request: GET https://api.cloud.llamaindex.ai/api/parsing/job/b104e09e-3f8a-4d05-99c7-2729946532d8 \"HTTP/1.1 200 OK\"\n",
      "INFO: HTTP Request: GET https://api.cloud.llamaindex.ai/api/parsing/job/b104e09e-3f8a-4d05-99c7-2729946532d8 \"HTTP/1.1 200 OK\"\n",
      "INFO: HTTP Request: GET https://api.cloud.llamaindex.ai/api/parsing/job/b104e09e-3f8a-4d05-99c7-2729946532d8 \"HTTP/1.1 200 OK\"\n",
      "INFO: HTTP Request: GET https://api.cloud.llamaindex.ai/api/parsing/job/b104e09e-3f8a-4d05-99c7-2729946532d8 \"HTTP/1.1 200 OK\"\n",
      "INFO: HTTP Request: GET https://api.cloud.llamaindex.ai/api/parsing/job/b104e09e-3f8a-4d05-99c7-2729946532d8 \"HTTP/1.1 200 OK\"\n",
      "INFO: HTTP Request: GET https://api.cloud.llamaindex.ai/api/parsing/job/b104e09e-3f8a-4d05-99c7-2729946532d8 \"HTTP/1.1 200 OK\"\n",
      "INFO: HTTP Request: GET https://api.cloud.llamaindex.ai/api/parsing/job/b104e09e-3f8a-4d05-99c7-2729946532d8 \"HTTP/1.1 200 OK\"\n"
     ]
    },
    {
     "name": "stdout",
     "output_type": "stream",
     "text": [
      "."
     ]
    },
    {
     "name": "stderr",
     "output_type": "stream",
     "text": [
      "INFO: HTTP Request: GET https://api.cloud.llamaindex.ai/api/parsing/job/b104e09e-3f8a-4d05-99c7-2729946532d8 \"HTTP/1.1 200 OK\"\n",
      "INFO: HTTP Request: GET https://api.cloud.llamaindex.ai/api/parsing/job/b104e09e-3f8a-4d05-99c7-2729946532d8 \"HTTP/1.1 200 OK\"\n",
      "INFO: HTTP Request: GET https://api.cloud.llamaindex.ai/api/parsing/job/b104e09e-3f8a-4d05-99c7-2729946532d8 \"HTTP/1.1 200 OK\"\n",
      "INFO: HTTP Request: GET https://api.cloud.llamaindex.ai/api/parsing/job/b104e09e-3f8a-4d05-99c7-2729946532d8 \"HTTP/1.1 200 OK\"\n",
      "INFO: HTTP Request: GET https://api.cloud.llamaindex.ai/api/parsing/job/b104e09e-3f8a-4d05-99c7-2729946532d8 \"HTTP/1.1 200 OK\"\n",
      "INFO: HTTP Request: GET https://api.cloud.llamaindex.ai/api/parsing/job/b104e09e-3f8a-4d05-99c7-2729946532d8 \"HTTP/1.1 200 OK\"\n",
      "INFO: HTTP Request: GET https://api.cloud.llamaindex.ai/api/parsing/job/b104e09e-3f8a-4d05-99c7-2729946532d8 \"HTTP/1.1 200 OK\"\n",
      "INFO: HTTP Request: GET https://api.cloud.llamaindex.ai/api/parsing/job/b104e09e-3f8a-4d05-99c7-2729946532d8 \"HTTP/1.1 200 OK\"\n",
      "INFO: HTTP Request: GET https://api.cloud.llamaindex.ai/api/parsing/job/b104e09e-3f8a-4d05-99c7-2729946532d8 \"HTTP/1.1 200 OK\"\n",
      "INFO: HTTP Request: GET https://api.cloud.llamaindex.ai/api/parsing/job/b104e09e-3f8a-4d05-99c7-2729946532d8 \"HTTP/1.1 200 OK\"\n"
     ]
    },
    {
     "name": "stdout",
     "output_type": "stream",
     "text": [
      "."
     ]
    },
    {
     "name": "stderr",
     "output_type": "stream",
     "text": [
      "INFO: HTTP Request: GET https://api.cloud.llamaindex.ai/api/parsing/job/b104e09e-3f8a-4d05-99c7-2729946532d8 \"HTTP/1.1 200 OK\"\n",
      "INFO: HTTP Request: GET https://api.cloud.llamaindex.ai/api/parsing/job/b104e09e-3f8a-4d05-99c7-2729946532d8 \"HTTP/1.1 200 OK\"\n",
      "INFO: HTTP Request: GET https://api.cloud.llamaindex.ai/api/parsing/job/b104e09e-3f8a-4d05-99c7-2729946532d8 \"HTTP/1.1 200 OK\"\n",
      "INFO: HTTP Request: GET https://api.cloud.llamaindex.ai/api/parsing/job/b104e09e-3f8a-4d05-99c7-2729946532d8 \"HTTP/1.1 200 OK\"\n",
      "INFO: HTTP Request: GET https://api.cloud.llamaindex.ai/api/parsing/job/b104e09e-3f8a-4d05-99c7-2729946532d8 \"HTTP/1.1 200 OK\"\n",
      "INFO: HTTP Request: GET https://api.cloud.llamaindex.ai/api/parsing/job/b104e09e-3f8a-4d05-99c7-2729946532d8 \"HTTP/1.1 200 OK\"\n",
      "INFO: HTTP Request: GET https://api.cloud.llamaindex.ai/api/parsing/job/b104e09e-3f8a-4d05-99c7-2729946532d8 \"HTTP/1.1 200 OK\"\n",
      "INFO: HTTP Request: GET https://api.cloud.llamaindex.ai/api/parsing/job/b104e09e-3f8a-4d05-99c7-2729946532d8 \"HTTP/1.1 200 OK\"\n",
      "INFO: HTTP Request: GET https://api.cloud.llamaindex.ai/api/parsing/job/b104e09e-3f8a-4d05-99c7-2729946532d8 \"HTTP/1.1 200 OK\"\n",
      "INFO: HTTP Request: GET https://api.cloud.llamaindex.ai/api/parsing/job/b104e09e-3f8a-4d05-99c7-2729946532d8 \"HTTP/1.1 200 OK\"\n"
     ]
    },
    {
     "name": "stdout",
     "output_type": "stream",
     "text": [
      "."
     ]
    },
    {
     "name": "stderr",
     "output_type": "stream",
     "text": [
      "INFO: HTTP Request: GET https://api.cloud.llamaindex.ai/api/parsing/job/b104e09e-3f8a-4d05-99c7-2729946532d8 \"HTTP/1.1 200 OK\"\n",
      "INFO: HTTP Request: GET https://api.cloud.llamaindex.ai/api/parsing/job/b104e09e-3f8a-4d05-99c7-2729946532d8 \"HTTP/1.1 200 OK\"\n",
      "INFO: HTTP Request: GET https://api.cloud.llamaindex.ai/api/parsing/job/b104e09e-3f8a-4d05-99c7-2729946532d8 \"HTTP/1.1 200 OK\"\n",
      "INFO: HTTP Request: GET https://api.cloud.llamaindex.ai/api/parsing/job/b104e09e-3f8a-4d05-99c7-2729946532d8 \"HTTP/1.1 200 OK\"\n",
      "INFO: HTTP Request: GET https://api.cloud.llamaindex.ai/api/parsing/job/b104e09e-3f8a-4d05-99c7-2729946532d8 \"HTTP/1.1 200 OK\"\n",
      "INFO: HTTP Request: GET https://api.cloud.llamaindex.ai/api/parsing/job/b104e09e-3f8a-4d05-99c7-2729946532d8 \"HTTP/1.1 200 OK\"\n",
      "INFO: HTTP Request: GET https://api.cloud.llamaindex.ai/api/parsing/job/b104e09e-3f8a-4d05-99c7-2729946532d8 \"HTTP/1.1 200 OK\"\n",
      "INFO: HTTP Request: GET https://api.cloud.llamaindex.ai/api/parsing/job/b104e09e-3f8a-4d05-99c7-2729946532d8 \"HTTP/1.1 200 OK\"\n",
      "INFO: HTTP Request: GET https://api.cloud.llamaindex.ai/api/parsing/job/b104e09e-3f8a-4d05-99c7-2729946532d8 \"HTTP/1.1 200 OK\"\n",
      "INFO: HTTP Request: GET https://api.cloud.llamaindex.ai/api/parsing/job/b104e09e-3f8a-4d05-99c7-2729946532d8 \"HTTP/1.1 200 OK\"\n"
     ]
    },
    {
     "name": "stdout",
     "output_type": "stream",
     "text": [
      "."
     ]
    },
    {
     "name": "stderr",
     "output_type": "stream",
     "text": [
      "INFO: HTTP Request: GET https://api.cloud.llamaindex.ai/api/parsing/job/b104e09e-3f8a-4d05-99c7-2729946532d8 \"HTTP/1.1 200 OK\"\n",
      "INFO: HTTP Request: GET https://api.cloud.llamaindex.ai/api/parsing/job/b104e09e-3f8a-4d05-99c7-2729946532d8 \"HTTP/1.1 200 OK\"\n",
      "INFO: HTTP Request: GET https://api.cloud.llamaindex.ai/api/parsing/job/b104e09e-3f8a-4d05-99c7-2729946532d8 \"HTTP/1.1 200 OK\"\n",
      "INFO: HTTP Request: GET https://api.cloud.llamaindex.ai/api/parsing/job/b104e09e-3f8a-4d05-99c7-2729946532d8 \"HTTP/1.1 200 OK\"\n",
      "INFO: HTTP Request: GET https://api.cloud.llamaindex.ai/api/parsing/job/b104e09e-3f8a-4d05-99c7-2729946532d8 \"HTTP/1.1 200 OK\"\n",
      "INFO: HTTP Request: GET https://api.cloud.llamaindex.ai/api/parsing/job/b104e09e-3f8a-4d05-99c7-2729946532d8 \"HTTP/1.1 200 OK\"\n",
      "INFO: HTTP Request: GET https://api.cloud.llamaindex.ai/api/parsing/job/b104e09e-3f8a-4d05-99c7-2729946532d8 \"HTTP/1.1 200 OK\"\n",
      "INFO: HTTP Request: GET https://api.cloud.llamaindex.ai/api/parsing/job/b104e09e-3f8a-4d05-99c7-2729946532d8 \"HTTP/1.1 200 OK\"\n",
      "INFO: HTTP Request: GET https://api.cloud.llamaindex.ai/api/parsing/job/b104e09e-3f8a-4d05-99c7-2729946532d8 \"HTTP/1.1 200 OK\"\n",
      "INFO: HTTP Request: GET https://api.cloud.llamaindex.ai/api/parsing/job/b104e09e-3f8a-4d05-99c7-2729946532d8 \"HTTP/1.1 200 OK\"\n"
     ]
    },
    {
     "name": "stdout",
     "output_type": "stream",
     "text": [
      "."
     ]
    },
    {
     "name": "stderr",
     "output_type": "stream",
     "text": [
      "INFO: HTTP Request: GET https://api.cloud.llamaindex.ai/api/parsing/job/b104e09e-3f8a-4d05-99c7-2729946532d8 \"HTTP/1.1 200 OK\"\n",
      "INFO: HTTP Request: GET https://api.cloud.llamaindex.ai/api/parsing/job/b104e09e-3f8a-4d05-99c7-2729946532d8 \"HTTP/1.1 200 OK\"\n",
      "INFO: HTTP Request: GET https://api.cloud.llamaindex.ai/api/parsing/job/b104e09e-3f8a-4d05-99c7-2729946532d8 \"HTTP/1.1 200 OK\"\n",
      "INFO: HTTP Request: GET https://api.cloud.llamaindex.ai/api/parsing/job/b104e09e-3f8a-4d05-99c7-2729946532d8 \"HTTP/1.1 200 OK\"\n",
      "INFO: HTTP Request: GET https://api.cloud.llamaindex.ai/api/parsing/job/b104e09e-3f8a-4d05-99c7-2729946532d8 \"HTTP/1.1 200 OK\"\n",
      "INFO: HTTP Request: GET https://api.cloud.llamaindex.ai/api/parsing/job/b104e09e-3f8a-4d05-99c7-2729946532d8 \"HTTP/1.1 200 OK\"\n",
      "INFO: HTTP Request: GET https://api.cloud.llamaindex.ai/api/parsing/job/b104e09e-3f8a-4d05-99c7-2729946532d8 \"HTTP/1.1 200 OK\"\n",
      "INFO: HTTP Request: GET https://api.cloud.llamaindex.ai/api/parsing/job/b104e09e-3f8a-4d05-99c7-2729946532d8 \"HTTP/1.1 200 OK\"\n",
      "INFO: HTTP Request: GET https://api.cloud.llamaindex.ai/api/parsing/job/b104e09e-3f8a-4d05-99c7-2729946532d8 \"HTTP/1.1 200 OK\"\n",
      "INFO: HTTP Request: GET https://api.cloud.llamaindex.ai/api/parsing/job/b104e09e-3f8a-4d05-99c7-2729946532d8 \"HTTP/1.1 200 OK\"\n"
     ]
    },
    {
     "name": "stdout",
     "output_type": "stream",
     "text": [
      "."
     ]
    },
    {
     "name": "stderr",
     "output_type": "stream",
     "text": [
      "INFO: HTTP Request: GET https://api.cloud.llamaindex.ai/api/parsing/job/b104e09e-3f8a-4d05-99c7-2729946532d8 \"HTTP/1.1 200 OK\"\n",
      "INFO: HTTP Request: GET https://api.cloud.llamaindex.ai/api/parsing/job/b104e09e-3f8a-4d05-99c7-2729946532d8 \"HTTP/1.1 200 OK\"\n",
      "INFO: HTTP Request: GET https://api.cloud.llamaindex.ai/api/parsing/job/b104e09e-3f8a-4d05-99c7-2729946532d8 \"HTTP/1.1 200 OK\"\n",
      "INFO: HTTP Request: GET https://api.cloud.llamaindex.ai/api/parsing/job/b104e09e-3f8a-4d05-99c7-2729946532d8 \"HTTP/1.1 200 OK\"\n",
      "INFO: HTTP Request: GET https://api.cloud.llamaindex.ai/api/parsing/job/b104e09e-3f8a-4d05-99c7-2729946532d8 \"HTTP/1.1 200 OK\"\n",
      "INFO: HTTP Request: GET https://api.cloud.llamaindex.ai/api/parsing/job/b104e09e-3f8a-4d05-99c7-2729946532d8 \"HTTP/1.1 200 OK\"\n",
      "INFO: HTTP Request: GET https://api.cloud.llamaindex.ai/api/parsing/job/b104e09e-3f8a-4d05-99c7-2729946532d8 \"HTTP/1.1 200 OK\"\n",
      "INFO: HTTP Request: GET https://api.cloud.llamaindex.ai/api/parsing/job/b104e09e-3f8a-4d05-99c7-2729946532d8 \"HTTP/1.1 200 OK\"\n",
      "INFO: HTTP Request: GET https://api.cloud.llamaindex.ai/api/parsing/job/b104e09e-3f8a-4d05-99c7-2729946532d8 \"HTTP/1.1 200 OK\"\n",
      "INFO: HTTP Request: GET https://api.cloud.llamaindex.ai/api/parsing/job/b104e09e-3f8a-4d05-99c7-2729946532d8 \"HTTP/1.1 200 OK\"\n"
     ]
    },
    {
     "name": "stdout",
     "output_type": "stream",
     "text": [
      "."
     ]
    },
    {
     "name": "stderr",
     "output_type": "stream",
     "text": [
      "INFO: HTTP Request: GET https://api.cloud.llamaindex.ai/api/parsing/job/b104e09e-3f8a-4d05-99c7-2729946532d8 \"HTTP/1.1 200 OK\"\n",
      "INFO: HTTP Request: GET https://api.cloud.llamaindex.ai/api/parsing/job/b104e09e-3f8a-4d05-99c7-2729946532d8 \"HTTP/1.1 200 OK\"\n",
      "INFO: HTTP Request: GET https://api.cloud.llamaindex.ai/api/parsing/job/b104e09e-3f8a-4d05-99c7-2729946532d8 \"HTTP/1.1 200 OK\"\n",
      "INFO: HTTP Request: GET https://api.cloud.llamaindex.ai/api/parsing/job/b104e09e-3f8a-4d05-99c7-2729946532d8 \"HTTP/1.1 200 OK\"\n",
      "INFO: HTTP Request: GET https://api.cloud.llamaindex.ai/api/parsing/job/b104e09e-3f8a-4d05-99c7-2729946532d8 \"HTTP/1.1 200 OK\"\n",
      "INFO: HTTP Request: GET https://api.cloud.llamaindex.ai/api/parsing/job/b104e09e-3f8a-4d05-99c7-2729946532d8 \"HTTP/1.1 200 OK\"\n",
      "INFO: HTTP Request: GET https://api.cloud.llamaindex.ai/api/parsing/job/b104e09e-3f8a-4d05-99c7-2729946532d8 \"HTTP/1.1 200 OK\"\n",
      "INFO: HTTP Request: GET https://api.cloud.llamaindex.ai/api/parsing/job/b104e09e-3f8a-4d05-99c7-2729946532d8 \"HTTP/1.1 200 OK\"\n",
      "INFO: HTTP Request: GET https://api.cloud.llamaindex.ai/api/parsing/job/b104e09e-3f8a-4d05-99c7-2729946532d8 \"HTTP/1.1 200 OK\"\n",
      "INFO: HTTP Request: GET https://api.cloud.llamaindex.ai/api/parsing/job/b104e09e-3f8a-4d05-99c7-2729946532d8 \"HTTP/1.1 200 OK\"\n"
     ]
    },
    {
     "name": "stdout",
     "output_type": "stream",
     "text": [
      "."
     ]
    },
    {
     "name": "stderr",
     "output_type": "stream",
     "text": [
      "INFO: HTTP Request: GET https://api.cloud.llamaindex.ai/api/parsing/job/b104e09e-3f8a-4d05-99c7-2729946532d8 \"HTTP/1.1 200 OK\"\n",
      "INFO: HTTP Request: GET https://api.cloud.llamaindex.ai/api/parsing/job/b104e09e-3f8a-4d05-99c7-2729946532d8 \"HTTP/1.1 200 OK\"\n",
      "INFO: HTTP Request: GET https://api.cloud.llamaindex.ai/api/parsing/job/b104e09e-3f8a-4d05-99c7-2729946532d8 \"HTTP/1.1 200 OK\"\n",
      "INFO: HTTP Request: GET https://api.cloud.llamaindex.ai/api/parsing/job/b104e09e-3f8a-4d05-99c7-2729946532d8 \"HTTP/1.1 200 OK\"\n",
      "INFO: HTTP Request: GET https://api.cloud.llamaindex.ai/api/parsing/job/b104e09e-3f8a-4d05-99c7-2729946532d8 \"HTTP/1.1 200 OK\"\n",
      "INFO: HTTP Request: GET https://api.cloud.llamaindex.ai/api/parsing/job/b104e09e-3f8a-4d05-99c7-2729946532d8 \"HTTP/1.1 200 OK\"\n",
      "INFO: HTTP Request: GET https://api.cloud.llamaindex.ai/api/parsing/job/b104e09e-3f8a-4d05-99c7-2729946532d8/result/text \"HTTP/1.1 200 OK\"\n"
     ]
    },
    {
     "name": "stdout",
     "output_type": "stream",
     "text": [
      "data/Menu/L Oasi delle Dune Stellari.pdf\n"
     ]
    },
    {
     "name": "stderr",
     "output_type": "stream",
     "text": [
      "INFO: HTTP Request: POST https://api.cloud.llamaindex.ai/api/parsing/upload \"HTTP/1.1 200 OK\"\n"
     ]
    },
    {
     "name": "stdout",
     "output_type": "stream",
     "text": [
      "Started parsing the file under job_id d1be1138-2e77-47ad-94cb-efc4e0e6acc0\n"
     ]
    },
    {
     "name": "stderr",
     "output_type": "stream",
     "text": [
      "INFO: HTTP Request: GET https://api.cloud.llamaindex.ai/api/parsing/job/d1be1138-2e77-47ad-94cb-efc4e0e6acc0 \"HTTP/1.1 200 OK\"\n",
      "INFO: HTTP Request: GET https://api.cloud.llamaindex.ai/api/parsing/job/d1be1138-2e77-47ad-94cb-efc4e0e6acc0 \"HTTP/1.1 200 OK\"\n",
      "INFO: HTTP Request: GET https://api.cloud.llamaindex.ai/api/parsing/job/d1be1138-2e77-47ad-94cb-efc4e0e6acc0 \"HTTP/1.1 200 OK\"\n",
      "INFO: HTTP Request: GET https://api.cloud.llamaindex.ai/api/parsing/job/d1be1138-2e77-47ad-94cb-efc4e0e6acc0 \"HTTP/1.1 200 OK\"\n",
      "INFO: HTTP Request: GET https://api.cloud.llamaindex.ai/api/parsing/job/d1be1138-2e77-47ad-94cb-efc4e0e6acc0 \"HTTP/1.1 200 OK\"\n",
      "INFO: HTTP Request: GET https://api.cloud.llamaindex.ai/api/parsing/job/d1be1138-2e77-47ad-94cb-efc4e0e6acc0 \"HTTP/1.1 200 OK\"\n",
      "INFO: HTTP Request: GET https://api.cloud.llamaindex.ai/api/parsing/job/d1be1138-2e77-47ad-94cb-efc4e0e6acc0 \"HTTP/1.1 200 OK\"\n",
      "INFO: HTTP Request: GET https://api.cloud.llamaindex.ai/api/parsing/job/d1be1138-2e77-47ad-94cb-efc4e0e6acc0 \"HTTP/1.1 200 OK\"\n",
      "INFO: HTTP Request: GET https://api.cloud.llamaindex.ai/api/parsing/job/d1be1138-2e77-47ad-94cb-efc4e0e6acc0 \"HTTP/1.1 200 OK\"\n",
      "INFO: HTTP Request: GET https://api.cloud.llamaindex.ai/api/parsing/job/d1be1138-2e77-47ad-94cb-efc4e0e6acc0 \"HTTP/1.1 200 OK\"\n"
     ]
    },
    {
     "name": "stdout",
     "output_type": "stream",
     "text": [
      "."
     ]
    },
    {
     "name": "stderr",
     "output_type": "stream",
     "text": [
      "INFO: HTTP Request: GET https://api.cloud.llamaindex.ai/api/parsing/job/d1be1138-2e77-47ad-94cb-efc4e0e6acc0 \"HTTP/1.1 200 OK\"\n",
      "INFO: HTTP Request: GET https://api.cloud.llamaindex.ai/api/parsing/job/d1be1138-2e77-47ad-94cb-efc4e0e6acc0 \"HTTP/1.1 200 OK\"\n",
      "INFO: HTTP Request: GET https://api.cloud.llamaindex.ai/api/parsing/job/d1be1138-2e77-47ad-94cb-efc4e0e6acc0 \"HTTP/1.1 200 OK\"\n",
      "INFO: HTTP Request: GET https://api.cloud.llamaindex.ai/api/parsing/job/d1be1138-2e77-47ad-94cb-efc4e0e6acc0 \"HTTP/1.1 200 OK\"\n",
      "INFO: HTTP Request: GET https://api.cloud.llamaindex.ai/api/parsing/job/d1be1138-2e77-47ad-94cb-efc4e0e6acc0 \"HTTP/1.1 200 OK\"\n",
      "INFO: HTTP Request: GET https://api.cloud.llamaindex.ai/api/parsing/job/d1be1138-2e77-47ad-94cb-efc4e0e6acc0/result/text \"HTTP/1.1 200 OK\"\n"
     ]
    },
    {
     "name": "stdout",
     "output_type": "stream",
     "text": [
      "data/Menu/Le Stelle Danzanti.pdf\n"
     ]
    },
    {
     "name": "stderr",
     "output_type": "stream",
     "text": [
      "INFO: HTTP Request: POST https://api.cloud.llamaindex.ai/api/parsing/upload \"HTTP/1.1 200 OK\"\n"
     ]
    },
    {
     "name": "stdout",
     "output_type": "stream",
     "text": [
      "Started parsing the file under job_id ca291bb1-2b04-4f70-9564-427334d74030\n"
     ]
    },
    {
     "name": "stderr",
     "output_type": "stream",
     "text": [
      "INFO: HTTP Request: GET https://api.cloud.llamaindex.ai/api/parsing/job/ca291bb1-2b04-4f70-9564-427334d74030 \"HTTP/1.1 200 OK\"\n",
      "INFO: HTTP Request: GET https://api.cloud.llamaindex.ai/api/parsing/job/ca291bb1-2b04-4f70-9564-427334d74030 \"HTTP/1.1 200 OK\"\n",
      "INFO: HTTP Request: GET https://api.cloud.llamaindex.ai/api/parsing/job/ca291bb1-2b04-4f70-9564-427334d74030 \"HTTP/1.1 200 OK\"\n",
      "INFO: HTTP Request: GET https://api.cloud.llamaindex.ai/api/parsing/job/ca291bb1-2b04-4f70-9564-427334d74030 \"HTTP/1.1 200 OK\"\n",
      "INFO: HTTP Request: GET https://api.cloud.llamaindex.ai/api/parsing/job/ca291bb1-2b04-4f70-9564-427334d74030 \"HTTP/1.1 200 OK\"\n",
      "INFO: HTTP Request: GET https://api.cloud.llamaindex.ai/api/parsing/job/ca291bb1-2b04-4f70-9564-427334d74030 \"HTTP/1.1 200 OK\"\n",
      "INFO: HTTP Request: GET https://api.cloud.llamaindex.ai/api/parsing/job/ca291bb1-2b04-4f70-9564-427334d74030 \"HTTP/1.1 200 OK\"\n",
      "INFO: HTTP Request: GET https://api.cloud.llamaindex.ai/api/parsing/job/ca291bb1-2b04-4f70-9564-427334d74030 \"HTTP/1.1 200 OK\"\n",
      "INFO: HTTP Request: GET https://api.cloud.llamaindex.ai/api/parsing/job/ca291bb1-2b04-4f70-9564-427334d74030 \"HTTP/1.1 200 OK\"\n",
      "INFO: HTTP Request: GET https://api.cloud.llamaindex.ai/api/parsing/job/ca291bb1-2b04-4f70-9564-427334d74030 \"HTTP/1.1 200 OK\"\n"
     ]
    },
    {
     "name": "stdout",
     "output_type": "stream",
     "text": [
      "."
     ]
    },
    {
     "name": "stderr",
     "output_type": "stream",
     "text": [
      "INFO: HTTP Request: GET https://api.cloud.llamaindex.ai/api/parsing/job/ca291bb1-2b04-4f70-9564-427334d74030 \"HTTP/1.1 200 OK\"\n",
      "INFO: HTTP Request: GET https://api.cloud.llamaindex.ai/api/parsing/job/ca291bb1-2b04-4f70-9564-427334d74030 \"HTTP/1.1 200 OK\"\n",
      "INFO: HTTP Request: GET https://api.cloud.llamaindex.ai/api/parsing/job/ca291bb1-2b04-4f70-9564-427334d74030 \"HTTP/1.1 200 OK\"\n",
      "INFO: HTTP Request: GET https://api.cloud.llamaindex.ai/api/parsing/job/ca291bb1-2b04-4f70-9564-427334d74030 \"HTTP/1.1 200 OK\"\n",
      "INFO: HTTP Request: GET https://api.cloud.llamaindex.ai/api/parsing/job/ca291bb1-2b04-4f70-9564-427334d74030 \"HTTP/1.1 200 OK\"\n",
      "INFO: HTTP Request: GET https://api.cloud.llamaindex.ai/api/parsing/job/ca291bb1-2b04-4f70-9564-427334d74030 \"HTTP/1.1 200 OK\"\n",
      "INFO: HTTP Request: GET https://api.cloud.llamaindex.ai/api/parsing/job/ca291bb1-2b04-4f70-9564-427334d74030/result/text \"HTTP/1.1 200 OK\"\n"
     ]
    },
    {
     "name": "stdout",
     "output_type": "stream",
     "text": [
      "data/Menu/Sala del Valhalla.pdf\n"
     ]
    },
    {
     "name": "stderr",
     "output_type": "stream",
     "text": [
      "INFO: HTTP Request: POST https://api.cloud.llamaindex.ai/api/parsing/upload \"HTTP/1.1 200 OK\"\n"
     ]
    },
    {
     "name": "stdout",
     "output_type": "stream",
     "text": [
      "Started parsing the file under job_id 57ba0586-f061-4368-80fb-9f66e1b595e0\n"
     ]
    },
    {
     "name": "stderr",
     "output_type": "stream",
     "text": [
      "INFO: HTTP Request: GET https://api.cloud.llamaindex.ai/api/parsing/job/57ba0586-f061-4368-80fb-9f66e1b595e0 \"HTTP/1.1 200 OK\"\n",
      "INFO: HTTP Request: GET https://api.cloud.llamaindex.ai/api/parsing/job/57ba0586-f061-4368-80fb-9f66e1b595e0 \"HTTP/1.1 200 OK\"\n",
      "INFO: HTTP Request: GET https://api.cloud.llamaindex.ai/api/parsing/job/57ba0586-f061-4368-80fb-9f66e1b595e0 \"HTTP/1.1 200 OK\"\n",
      "INFO: HTTP Request: GET https://api.cloud.llamaindex.ai/api/parsing/job/57ba0586-f061-4368-80fb-9f66e1b595e0 \"HTTP/1.1 200 OK\"\n",
      "INFO: HTTP Request: GET https://api.cloud.llamaindex.ai/api/parsing/job/57ba0586-f061-4368-80fb-9f66e1b595e0 \"HTTP/1.1 200 OK\"\n",
      "INFO: HTTP Request: GET https://api.cloud.llamaindex.ai/api/parsing/job/57ba0586-f061-4368-80fb-9f66e1b595e0 \"HTTP/1.1 200 OK\"\n",
      "INFO: HTTP Request: GET https://api.cloud.llamaindex.ai/api/parsing/job/57ba0586-f061-4368-80fb-9f66e1b595e0 \"HTTP/1.1 200 OK\"\n",
      "INFO: HTTP Request: GET https://api.cloud.llamaindex.ai/api/parsing/job/57ba0586-f061-4368-80fb-9f66e1b595e0 \"HTTP/1.1 200 OK\"\n",
      "INFO: HTTP Request: GET https://api.cloud.llamaindex.ai/api/parsing/job/57ba0586-f061-4368-80fb-9f66e1b595e0 \"HTTP/1.1 200 OK\"\n",
      "INFO: HTTP Request: GET https://api.cloud.llamaindex.ai/api/parsing/job/57ba0586-f061-4368-80fb-9f66e1b595e0 \"HTTP/1.1 200 OK\"\n",
      "INFO: HTTP Request: GET https://api.cloud.llamaindex.ai/api/parsing/job/57ba0586-f061-4368-80fb-9f66e1b595e0/result/text \"HTTP/1.1 200 OK\"\n"
     ]
    },
    {
     "name": "stdout",
     "output_type": "stream",
     "text": [
      "data/Menu/Stelle dell Infinito Celestiale.pdf\n"
     ]
    },
    {
     "name": "stderr",
     "output_type": "stream",
     "text": [
      "INFO: HTTP Request: POST https://api.cloud.llamaindex.ai/api/parsing/upload \"HTTP/1.1 200 OK\"\n"
     ]
    },
    {
     "name": "stdout",
     "output_type": "stream",
     "text": [
      "Started parsing the file under job_id ce85a1f5-43ff-49a5-9ce7-0bb72d237b96\n"
     ]
    },
    {
     "name": "stderr",
     "output_type": "stream",
     "text": [
      "INFO: HTTP Request: GET https://api.cloud.llamaindex.ai/api/parsing/job/ce85a1f5-43ff-49a5-9ce7-0bb72d237b96 \"HTTP/1.1 200 OK\"\n",
      "INFO: HTTP Request: GET https://api.cloud.llamaindex.ai/api/parsing/job/ce85a1f5-43ff-49a5-9ce7-0bb72d237b96 \"HTTP/1.1 200 OK\"\n",
      "INFO: HTTP Request: GET https://api.cloud.llamaindex.ai/api/parsing/job/ce85a1f5-43ff-49a5-9ce7-0bb72d237b96 \"HTTP/1.1 200 OK\"\n",
      "INFO: HTTP Request: GET https://api.cloud.llamaindex.ai/api/parsing/job/ce85a1f5-43ff-49a5-9ce7-0bb72d237b96 \"HTTP/1.1 200 OK\"\n",
      "INFO: HTTP Request: GET https://api.cloud.llamaindex.ai/api/parsing/job/ce85a1f5-43ff-49a5-9ce7-0bb72d237b96 \"HTTP/1.1 200 OK\"\n",
      "INFO: HTTP Request: GET https://api.cloud.llamaindex.ai/api/parsing/job/ce85a1f5-43ff-49a5-9ce7-0bb72d237b96 \"HTTP/1.1 200 OK\"\n",
      "INFO: HTTP Request: GET https://api.cloud.llamaindex.ai/api/parsing/job/ce85a1f5-43ff-49a5-9ce7-0bb72d237b96 \"HTTP/1.1 200 OK\"\n",
      "INFO: HTTP Request: GET https://api.cloud.llamaindex.ai/api/parsing/job/ce85a1f5-43ff-49a5-9ce7-0bb72d237b96 \"HTTP/1.1 200 OK\"\n",
      "INFO: HTTP Request: GET https://api.cloud.llamaindex.ai/api/parsing/job/ce85a1f5-43ff-49a5-9ce7-0bb72d237b96 \"HTTP/1.1 200 OK\"\n",
      "INFO: HTTP Request: GET https://api.cloud.llamaindex.ai/api/parsing/job/ce85a1f5-43ff-49a5-9ce7-0bb72d237b96 \"HTTP/1.1 200 OK\"\n"
     ]
    },
    {
     "name": "stdout",
     "output_type": "stream",
     "text": [
      "."
     ]
    },
    {
     "name": "stderr",
     "output_type": "stream",
     "text": [
      "INFO: HTTP Request: GET https://api.cloud.llamaindex.ai/api/parsing/job/ce85a1f5-43ff-49a5-9ce7-0bb72d237b96 \"HTTP/1.1 200 OK\"\n",
      "INFO: HTTP Request: GET https://api.cloud.llamaindex.ai/api/parsing/job/ce85a1f5-43ff-49a5-9ce7-0bb72d237b96 \"HTTP/1.1 200 OK\"\n",
      "INFO: HTTP Request: GET https://api.cloud.llamaindex.ai/api/parsing/job/ce85a1f5-43ff-49a5-9ce7-0bb72d237b96/result/text \"HTTP/1.1 200 OK\"\n"
     ]
    },
    {
     "name": "stdout",
     "output_type": "stream",
     "text": [
      "data/Menu/Ristorante Quantico.pdf\n"
     ]
    },
    {
     "name": "stderr",
     "output_type": "stream",
     "text": [
      "INFO: HTTP Request: POST https://api.cloud.llamaindex.ai/api/parsing/upload \"HTTP/1.1 200 OK\"\n"
     ]
    },
    {
     "name": "stdout",
     "output_type": "stream",
     "text": [
      "Started parsing the file under job_id 414fb5ac-9377-433c-99d9-89aa063905a1\n"
     ]
    },
    {
     "name": "stderr",
     "output_type": "stream",
     "text": [
      "INFO: HTTP Request: GET https://api.cloud.llamaindex.ai/api/parsing/job/414fb5ac-9377-433c-99d9-89aa063905a1 \"HTTP/1.1 200 OK\"\n",
      "INFO: HTTP Request: GET https://api.cloud.llamaindex.ai/api/parsing/job/414fb5ac-9377-433c-99d9-89aa063905a1 \"HTTP/1.1 200 OK\"\n",
      "INFO: HTTP Request: GET https://api.cloud.llamaindex.ai/api/parsing/job/414fb5ac-9377-433c-99d9-89aa063905a1 \"HTTP/1.1 200 OK\"\n",
      "INFO: HTTP Request: GET https://api.cloud.llamaindex.ai/api/parsing/job/414fb5ac-9377-433c-99d9-89aa063905a1 \"HTTP/1.1 200 OK\"\n",
      "INFO: HTTP Request: GET https://api.cloud.llamaindex.ai/api/parsing/job/414fb5ac-9377-433c-99d9-89aa063905a1 \"HTTP/1.1 200 OK\"\n",
      "INFO: HTTP Request: GET https://api.cloud.llamaindex.ai/api/parsing/job/414fb5ac-9377-433c-99d9-89aa063905a1 \"HTTP/1.1 200 OK\"\n",
      "INFO: HTTP Request: GET https://api.cloud.llamaindex.ai/api/parsing/job/414fb5ac-9377-433c-99d9-89aa063905a1 \"HTTP/1.1 200 OK\"\n",
      "INFO: HTTP Request: GET https://api.cloud.llamaindex.ai/api/parsing/job/414fb5ac-9377-433c-99d9-89aa063905a1 \"HTTP/1.1 200 OK\"\n",
      "INFO: HTTP Request: GET https://api.cloud.llamaindex.ai/api/parsing/job/414fb5ac-9377-433c-99d9-89aa063905a1 \"HTTP/1.1 200 OK\"\n",
      "INFO: HTTP Request: GET https://api.cloud.llamaindex.ai/api/parsing/job/414fb5ac-9377-433c-99d9-89aa063905a1 \"HTTP/1.1 200 OK\"\n"
     ]
    },
    {
     "name": "stdout",
     "output_type": "stream",
     "text": [
      "."
     ]
    },
    {
     "name": "stderr",
     "output_type": "stream",
     "text": [
      "INFO: HTTP Request: GET https://api.cloud.llamaindex.ai/api/parsing/job/414fb5ac-9377-433c-99d9-89aa063905a1 \"HTTP/1.1 200 OK\"\n",
      "INFO: HTTP Request: GET https://api.cloud.llamaindex.ai/api/parsing/job/414fb5ac-9377-433c-99d9-89aa063905a1 \"HTTP/1.1 200 OK\"\n",
      "INFO: HTTP Request: GET https://api.cloud.llamaindex.ai/api/parsing/job/414fb5ac-9377-433c-99d9-89aa063905a1 \"HTTP/1.1 200 OK\"\n",
      "INFO: HTTP Request: GET https://api.cloud.llamaindex.ai/api/parsing/job/414fb5ac-9377-433c-99d9-89aa063905a1/result/text \"HTTP/1.1 200 OK\"\n"
     ]
    },
    {
     "name": "stdout",
     "output_type": "stream",
     "text": [
      "data/Menu/Le Dimensioni del Gusto.pdf\n"
     ]
    },
    {
     "name": "stderr",
     "output_type": "stream",
     "text": [
      "INFO: HTTP Request: POST https://api.cloud.llamaindex.ai/api/parsing/upload \"HTTP/1.1 200 OK\"\n"
     ]
    },
    {
     "name": "stdout",
     "output_type": "stream",
     "text": [
      "Started parsing the file under job_id 1c2e6784-5a98-440e-98f6-6f8c90877dad\n"
     ]
    },
    {
     "name": "stderr",
     "output_type": "stream",
     "text": [
      "INFO: HTTP Request: GET https://api.cloud.llamaindex.ai/api/parsing/job/1c2e6784-5a98-440e-98f6-6f8c90877dad \"HTTP/1.1 200 OK\"\n",
      "INFO: HTTP Request: GET https://api.cloud.llamaindex.ai/api/parsing/job/1c2e6784-5a98-440e-98f6-6f8c90877dad \"HTTP/1.1 200 OK\"\n",
      "INFO: HTTP Request: GET https://api.cloud.llamaindex.ai/api/parsing/job/1c2e6784-5a98-440e-98f6-6f8c90877dad/result/text \"HTTP/1.1 200 OK\"\n"
     ]
    },
    {
     "name": "stdout",
     "output_type": "stream",
     "text": [
      "data/Menu/Datapizza.pdf\n"
     ]
    },
    {
     "name": "stderr",
     "output_type": "stream",
     "text": [
      "INFO: HTTP Request: POST https://api.cloud.llamaindex.ai/api/parsing/upload \"HTTP/1.1 200 OK\"\n"
     ]
    },
    {
     "name": "stdout",
     "output_type": "stream",
     "text": [
      "Started parsing the file under job_id 9e7f2cc1-70e1-48cd-9e37-547596ac1125\n"
     ]
    },
    {
     "name": "stderr",
     "output_type": "stream",
     "text": [
      "INFO: HTTP Request: GET https://api.cloud.llamaindex.ai/api/parsing/job/9e7f2cc1-70e1-48cd-9e37-547596ac1125 \"HTTP/1.1 200 OK\"\n",
      "INFO: HTTP Request: GET https://api.cloud.llamaindex.ai/api/parsing/job/9e7f2cc1-70e1-48cd-9e37-547596ac1125 \"HTTP/1.1 200 OK\"\n",
      "INFO: HTTP Request: GET https://api.cloud.llamaindex.ai/api/parsing/job/9e7f2cc1-70e1-48cd-9e37-547596ac1125 \"HTTP/1.1 200 OK\"\n",
      "INFO: HTTP Request: GET https://api.cloud.llamaindex.ai/api/parsing/job/9e7f2cc1-70e1-48cd-9e37-547596ac1125 \"HTTP/1.1 200 OK\"\n",
      "INFO: HTTP Request: GET https://api.cloud.llamaindex.ai/api/parsing/job/9e7f2cc1-70e1-48cd-9e37-547596ac1125 \"HTTP/1.1 200 OK\"\n",
      "INFO: HTTP Request: GET https://api.cloud.llamaindex.ai/api/parsing/job/9e7f2cc1-70e1-48cd-9e37-547596ac1125 \"HTTP/1.1 200 OK\"\n",
      "INFO: HTTP Request: GET https://api.cloud.llamaindex.ai/api/parsing/job/9e7f2cc1-70e1-48cd-9e37-547596ac1125 \"HTTP/1.1 200 OK\"\n",
      "INFO: HTTP Request: GET https://api.cloud.llamaindex.ai/api/parsing/job/9e7f2cc1-70e1-48cd-9e37-547596ac1125 \"HTTP/1.1 200 OK\"\n",
      "INFO: HTTP Request: GET https://api.cloud.llamaindex.ai/api/parsing/job/9e7f2cc1-70e1-48cd-9e37-547596ac1125 \"HTTP/1.1 200 OK\"\n",
      "INFO: HTTP Request: GET https://api.cloud.llamaindex.ai/api/parsing/job/9e7f2cc1-70e1-48cd-9e37-547596ac1125 \"HTTP/1.1 200 OK\"\n"
     ]
    },
    {
     "name": "stdout",
     "output_type": "stream",
     "text": [
      "."
     ]
    },
    {
     "name": "stderr",
     "output_type": "stream",
     "text": [
      "INFO: HTTP Request: GET https://api.cloud.llamaindex.ai/api/parsing/job/9e7f2cc1-70e1-48cd-9e37-547596ac1125 \"HTTP/1.1 200 OK\"\n",
      "INFO: HTTP Request: GET https://api.cloud.llamaindex.ai/api/parsing/job/9e7f2cc1-70e1-48cd-9e37-547596ac1125 \"HTTP/1.1 200 OK\"\n",
      "INFO: HTTP Request: GET https://api.cloud.llamaindex.ai/api/parsing/job/9e7f2cc1-70e1-48cd-9e37-547596ac1125 \"HTTP/1.1 200 OK\"\n",
      "INFO: HTTP Request: GET https://api.cloud.llamaindex.ai/api/parsing/job/9e7f2cc1-70e1-48cd-9e37-547596ac1125 \"HTTP/1.1 200 OK\"\n",
      "INFO: HTTP Request: GET https://api.cloud.llamaindex.ai/api/parsing/job/9e7f2cc1-70e1-48cd-9e37-547596ac1125 \"HTTP/1.1 200 OK\"\n",
      "INFO: HTTP Request: GET https://api.cloud.llamaindex.ai/api/parsing/job/9e7f2cc1-70e1-48cd-9e37-547596ac1125 \"HTTP/1.1 200 OK\"\n",
      "INFO: HTTP Request: GET https://api.cloud.llamaindex.ai/api/parsing/job/9e7f2cc1-70e1-48cd-9e37-547596ac1125 \"HTTP/1.1 200 OK\"\n",
      "INFO: HTTP Request: GET https://api.cloud.llamaindex.ai/api/parsing/job/9e7f2cc1-70e1-48cd-9e37-547596ac1125 \"HTTP/1.1 200 OK\"\n",
      "INFO: HTTP Request: GET https://api.cloud.llamaindex.ai/api/parsing/job/9e7f2cc1-70e1-48cd-9e37-547596ac1125 \"HTTP/1.1 200 OK\"\n",
      "INFO: HTTP Request: GET https://api.cloud.llamaindex.ai/api/parsing/job/9e7f2cc1-70e1-48cd-9e37-547596ac1125 \"HTTP/1.1 200 OK\"\n"
     ]
    },
    {
     "name": "stdout",
     "output_type": "stream",
     "text": [
      "."
     ]
    },
    {
     "name": "stderr",
     "output_type": "stream",
     "text": [
      "INFO: HTTP Request: GET https://api.cloud.llamaindex.ai/api/parsing/job/9e7f2cc1-70e1-48cd-9e37-547596ac1125 \"HTTP/1.1 200 OK\"\n",
      "INFO: HTTP Request: GET https://api.cloud.llamaindex.ai/api/parsing/job/9e7f2cc1-70e1-48cd-9e37-547596ac1125 \"HTTP/1.1 200 OK\"\n",
      "INFO: HTTP Request: GET https://api.cloud.llamaindex.ai/api/parsing/job/9e7f2cc1-70e1-48cd-9e37-547596ac1125 \"HTTP/1.1 200 OK\"\n",
      "INFO: HTTP Request: GET https://api.cloud.llamaindex.ai/api/parsing/job/9e7f2cc1-70e1-48cd-9e37-547596ac1125 \"HTTP/1.1 200 OK\"\n",
      "INFO: HTTP Request: GET https://api.cloud.llamaindex.ai/api/parsing/job/9e7f2cc1-70e1-48cd-9e37-547596ac1125 \"HTTP/1.1 200 OK\"\n",
      "INFO: HTTP Request: GET https://api.cloud.llamaindex.ai/api/parsing/job/9e7f2cc1-70e1-48cd-9e37-547596ac1125 \"HTTP/1.1 200 OK\"\n",
      "INFO: HTTP Request: GET https://api.cloud.llamaindex.ai/api/parsing/job/9e7f2cc1-70e1-48cd-9e37-547596ac1125 \"HTTP/1.1 200 OK\"\n",
      "INFO: HTTP Request: GET https://api.cloud.llamaindex.ai/api/parsing/job/9e7f2cc1-70e1-48cd-9e37-547596ac1125/result/text \"HTTP/1.1 200 OK\"\n"
     ]
    },
    {
     "name": "stdout",
     "output_type": "stream",
     "text": [
      "data/Menu/Tutti a TARSvola.pdf\n"
     ]
    },
    {
     "name": "stderr",
     "output_type": "stream",
     "text": [
      "INFO: HTTP Request: POST https://api.cloud.llamaindex.ai/api/parsing/upload \"HTTP/1.1 200 OK\"\n"
     ]
    },
    {
     "name": "stdout",
     "output_type": "stream",
     "text": [
      "Started parsing the file under job_id 45ce0fa5-a1fc-4d73-b617-e2167fe0e57d\n"
     ]
    },
    {
     "name": "stderr",
     "output_type": "stream",
     "text": [
      "INFO: HTTP Request: GET https://api.cloud.llamaindex.ai/api/parsing/job/45ce0fa5-a1fc-4d73-b617-e2167fe0e57d \"HTTP/1.1 200 OK\"\n",
      "INFO: HTTP Request: GET https://api.cloud.llamaindex.ai/api/parsing/job/45ce0fa5-a1fc-4d73-b617-e2167fe0e57d \"HTTP/1.1 200 OK\"\n",
      "INFO: HTTP Request: GET https://api.cloud.llamaindex.ai/api/parsing/job/45ce0fa5-a1fc-4d73-b617-e2167fe0e57d \"HTTP/1.1 200 OK\"\n",
      "INFO: HTTP Request: GET https://api.cloud.llamaindex.ai/api/parsing/job/45ce0fa5-a1fc-4d73-b617-e2167fe0e57d \"HTTP/1.1 200 OK\"\n",
      "INFO: HTTP Request: GET https://api.cloud.llamaindex.ai/api/parsing/job/45ce0fa5-a1fc-4d73-b617-e2167fe0e57d \"HTTP/1.1 200 OK\"\n",
      "INFO: HTTP Request: GET https://api.cloud.llamaindex.ai/api/parsing/job/45ce0fa5-a1fc-4d73-b617-e2167fe0e57d \"HTTP/1.1 200 OK\"\n",
      "INFO: HTTP Request: GET https://api.cloud.llamaindex.ai/api/parsing/job/45ce0fa5-a1fc-4d73-b617-e2167fe0e57d \"HTTP/1.1 200 OK\"\n",
      "INFO: HTTP Request: GET https://api.cloud.llamaindex.ai/api/parsing/job/45ce0fa5-a1fc-4d73-b617-e2167fe0e57d \"HTTP/1.1 200 OK\"\n",
      "INFO: HTTP Request: GET https://api.cloud.llamaindex.ai/api/parsing/job/45ce0fa5-a1fc-4d73-b617-e2167fe0e57d \"HTTP/1.1 200 OK\"\n",
      "INFO: HTTP Request: GET https://api.cloud.llamaindex.ai/api/parsing/job/45ce0fa5-a1fc-4d73-b617-e2167fe0e57d/result/text \"HTTP/1.1 200 OK\"\n"
     ]
    },
    {
     "name": "stdout",
     "output_type": "stream",
     "text": [
      "data/Menu/Armonia Universale.pdf\n"
     ]
    },
    {
     "name": "stderr",
     "output_type": "stream",
     "text": [
      "INFO: HTTP Request: POST https://api.cloud.llamaindex.ai/api/parsing/upload \"HTTP/1.1 200 OK\"\n"
     ]
    },
    {
     "name": "stdout",
     "output_type": "stream",
     "text": [
      "Started parsing the file under job_id 94687a00-8148-4ab3-bf10-2fb41a83fcae\n"
     ]
    },
    {
     "name": "stderr",
     "output_type": "stream",
     "text": [
      "INFO: HTTP Request: GET https://api.cloud.llamaindex.ai/api/parsing/job/94687a00-8148-4ab3-bf10-2fb41a83fcae \"HTTP/1.1 200 OK\"\n",
      "INFO: HTTP Request: GET https://api.cloud.llamaindex.ai/api/parsing/job/94687a00-8148-4ab3-bf10-2fb41a83fcae \"HTTP/1.1 200 OK\"\n",
      "INFO: HTTP Request: GET https://api.cloud.llamaindex.ai/api/parsing/job/94687a00-8148-4ab3-bf10-2fb41a83fcae \"HTTP/1.1 200 OK\"\n",
      "INFO: HTTP Request: GET https://api.cloud.llamaindex.ai/api/parsing/job/94687a00-8148-4ab3-bf10-2fb41a83fcae \"HTTP/1.1 200 OK\"\n",
      "INFO: HTTP Request: GET https://api.cloud.llamaindex.ai/api/parsing/job/94687a00-8148-4ab3-bf10-2fb41a83fcae \"HTTP/1.1 200 OK\"\n",
      "INFO: HTTP Request: GET https://api.cloud.llamaindex.ai/api/parsing/job/94687a00-8148-4ab3-bf10-2fb41a83fcae \"HTTP/1.1 200 OK\"\n",
      "INFO: HTTP Request: GET https://api.cloud.llamaindex.ai/api/parsing/job/94687a00-8148-4ab3-bf10-2fb41a83fcae \"HTTP/1.1 200 OK\"\n",
      "INFO: HTTP Request: GET https://api.cloud.llamaindex.ai/api/parsing/job/94687a00-8148-4ab3-bf10-2fb41a83fcae \"HTTP/1.1 200 OK\"\n",
      "INFO: HTTP Request: GET https://api.cloud.llamaindex.ai/api/parsing/job/94687a00-8148-4ab3-bf10-2fb41a83fcae \"HTTP/1.1 200 OK\"\n",
      "INFO: HTTP Request: GET https://api.cloud.llamaindex.ai/api/parsing/job/94687a00-8148-4ab3-bf10-2fb41a83fcae/result/text \"HTTP/1.1 200 OK\"\n"
     ]
    },
    {
     "name": "stdout",
     "output_type": "stream",
     "text": [
      "data/Menu/Le Stelle che Ballano.pdf\n"
     ]
    },
    {
     "name": "stderr",
     "output_type": "stream",
     "text": [
      "INFO: HTTP Request: POST https://api.cloud.llamaindex.ai/api/parsing/upload \"HTTP/1.1 200 OK\"\n"
     ]
    },
    {
     "name": "stdout",
     "output_type": "stream",
     "text": [
      "Started parsing the file under job_id aaf3e7a3-83cd-4879-943c-3c1851685c21\n"
     ]
    },
    {
     "name": "stderr",
     "output_type": "stream",
     "text": [
      "INFO: HTTP Request: GET https://api.cloud.llamaindex.ai/api/parsing/job/aaf3e7a3-83cd-4879-943c-3c1851685c21 \"HTTP/1.1 200 OK\"\n",
      "INFO: HTTP Request: GET https://api.cloud.llamaindex.ai/api/parsing/job/aaf3e7a3-83cd-4879-943c-3c1851685c21 \"HTTP/1.1 200 OK\"\n",
      "INFO: HTTP Request: GET https://api.cloud.llamaindex.ai/api/parsing/job/aaf3e7a3-83cd-4879-943c-3c1851685c21 \"HTTP/1.1 200 OK\"\n",
      "INFO: HTTP Request: GET https://api.cloud.llamaindex.ai/api/parsing/job/aaf3e7a3-83cd-4879-943c-3c1851685c21 \"HTTP/1.1 200 OK\"\n",
      "INFO: HTTP Request: GET https://api.cloud.llamaindex.ai/api/parsing/job/aaf3e7a3-83cd-4879-943c-3c1851685c21 \"HTTP/1.1 200 OK\"\n",
      "INFO: HTTP Request: GET https://api.cloud.llamaindex.ai/api/parsing/job/aaf3e7a3-83cd-4879-943c-3c1851685c21 \"HTTP/1.1 200 OK\"\n",
      "INFO: HTTP Request: GET https://api.cloud.llamaindex.ai/api/parsing/job/aaf3e7a3-83cd-4879-943c-3c1851685c21 \"HTTP/1.1 200 OK\"\n",
      "INFO: HTTP Request: GET https://api.cloud.llamaindex.ai/api/parsing/job/aaf3e7a3-83cd-4879-943c-3c1851685c21 \"HTTP/1.1 200 OK\"\n",
      "INFO: HTTP Request: GET https://api.cloud.llamaindex.ai/api/parsing/job/aaf3e7a3-83cd-4879-943c-3c1851685c21 \"HTTP/1.1 200 OK\"\n",
      "INFO: HTTP Request: GET https://api.cloud.llamaindex.ai/api/parsing/job/aaf3e7a3-83cd-4879-943c-3c1851685c21 \"HTTP/1.1 200 OK\"\n"
     ]
    },
    {
     "name": "stdout",
     "output_type": "stream",
     "text": [
      "."
     ]
    },
    {
     "name": "stderr",
     "output_type": "stream",
     "text": [
      "INFO: HTTP Request: GET https://api.cloud.llamaindex.ai/api/parsing/job/aaf3e7a3-83cd-4879-943c-3c1851685c21 \"HTTP/1.1 200 OK\"\n",
      "INFO: HTTP Request: GET https://api.cloud.llamaindex.ai/api/parsing/job/aaf3e7a3-83cd-4879-943c-3c1851685c21 \"HTTP/1.1 200 OK\"\n",
      "INFO: HTTP Request: GET https://api.cloud.llamaindex.ai/api/parsing/job/aaf3e7a3-83cd-4879-943c-3c1851685c21 \"HTTP/1.1 200 OK\"\n",
      "INFO: HTTP Request: GET https://api.cloud.llamaindex.ai/api/parsing/job/aaf3e7a3-83cd-4879-943c-3c1851685c21 \"HTTP/1.1 200 OK\"\n",
      "INFO: HTTP Request: GET https://api.cloud.llamaindex.ai/api/parsing/job/aaf3e7a3-83cd-4879-943c-3c1851685c21/result/text \"HTTP/1.1 200 OK\"\n"
     ]
    },
    {
     "name": "stdout",
     "output_type": "stream",
     "text": [
      "data/Menu/L Etere del Gusto.pdf\n"
     ]
    },
    {
     "name": "stderr",
     "output_type": "stream",
     "text": [
      "INFO: HTTP Request: POST https://api.cloud.llamaindex.ai/api/parsing/upload \"HTTP/1.1 200 OK\"\n"
     ]
    },
    {
     "name": "stdout",
     "output_type": "stream",
     "text": [
      "Started parsing the file under job_id 68a010da-86e7-476e-930a-8b7fe704b0e6\n"
     ]
    },
    {
     "name": "stderr",
     "output_type": "stream",
     "text": [
      "INFO: HTTP Request: GET https://api.cloud.llamaindex.ai/api/parsing/job/68a010da-86e7-476e-930a-8b7fe704b0e6 \"HTTP/1.1 200 OK\"\n",
      "INFO: HTTP Request: GET https://api.cloud.llamaindex.ai/api/parsing/job/68a010da-86e7-476e-930a-8b7fe704b0e6 \"HTTP/1.1 200 OK\"\n",
      "INFO: HTTP Request: GET https://api.cloud.llamaindex.ai/api/parsing/job/68a010da-86e7-476e-930a-8b7fe704b0e6 \"HTTP/1.1 200 OK\"\n",
      "INFO: HTTP Request: GET https://api.cloud.llamaindex.ai/api/parsing/job/68a010da-86e7-476e-930a-8b7fe704b0e6 \"HTTP/1.1 200 OK\"\n",
      "INFO: HTTP Request: GET https://api.cloud.llamaindex.ai/api/parsing/job/68a010da-86e7-476e-930a-8b7fe704b0e6 \"HTTP/1.1 200 OK\"\n",
      "INFO: HTTP Request: GET https://api.cloud.llamaindex.ai/api/parsing/job/68a010da-86e7-476e-930a-8b7fe704b0e6 \"HTTP/1.1 200 OK\"\n",
      "INFO: HTTP Request: GET https://api.cloud.llamaindex.ai/api/parsing/job/68a010da-86e7-476e-930a-8b7fe704b0e6 \"HTTP/1.1 200 OK\"\n",
      "INFO: HTTP Request: GET https://api.cloud.llamaindex.ai/api/parsing/job/68a010da-86e7-476e-930a-8b7fe704b0e6 \"HTTP/1.1 200 OK\"\n",
      "INFO: HTTP Request: GET https://api.cloud.llamaindex.ai/api/parsing/job/68a010da-86e7-476e-930a-8b7fe704b0e6 \"HTTP/1.1 200 OK\"\n",
      "INFO: HTTP Request: GET https://api.cloud.llamaindex.ai/api/parsing/job/68a010da-86e7-476e-930a-8b7fe704b0e6/result/text \"HTTP/1.1 200 OK\"\n"
     ]
    },
    {
     "name": "stdout",
     "output_type": "stream",
     "text": [
      "data/Menu/Essenza dell Infinito.pdf\n"
     ]
    },
    {
     "name": "stderr",
     "output_type": "stream",
     "text": [
      "INFO: HTTP Request: POST https://api.cloud.llamaindex.ai/api/parsing/upload \"HTTP/1.1 200 OK\"\n"
     ]
    },
    {
     "name": "stdout",
     "output_type": "stream",
     "text": [
      "Started parsing the file under job_id 9628c0eb-8656-43c2-9a40-4855b3da2e30\n"
     ]
    },
    {
     "name": "stderr",
     "output_type": "stream",
     "text": [
      "INFO: HTTP Request: GET https://api.cloud.llamaindex.ai/api/parsing/job/9628c0eb-8656-43c2-9a40-4855b3da2e30 \"HTTP/1.1 200 OK\"\n",
      "INFO: HTTP Request: GET https://api.cloud.llamaindex.ai/api/parsing/job/9628c0eb-8656-43c2-9a40-4855b3da2e30 \"HTTP/1.1 200 OK\"\n",
      "INFO: HTTP Request: GET https://api.cloud.llamaindex.ai/api/parsing/job/9628c0eb-8656-43c2-9a40-4855b3da2e30 \"HTTP/1.1 200 OK\"\n",
      "INFO: HTTP Request: GET https://api.cloud.llamaindex.ai/api/parsing/job/9628c0eb-8656-43c2-9a40-4855b3da2e30 \"HTTP/1.1 200 OK\"\n",
      "INFO: HTTP Request: GET https://api.cloud.llamaindex.ai/api/parsing/job/9628c0eb-8656-43c2-9a40-4855b3da2e30 \"HTTP/1.1 200 OK\"\n",
      "INFO: HTTP Request: GET https://api.cloud.llamaindex.ai/api/parsing/job/9628c0eb-8656-43c2-9a40-4855b3da2e30 \"HTTP/1.1 200 OK\"\n",
      "INFO: HTTP Request: GET https://api.cloud.llamaindex.ai/api/parsing/job/9628c0eb-8656-43c2-9a40-4855b3da2e30 \"HTTP/1.1 200 OK\"\n",
      "INFO: HTTP Request: GET https://api.cloud.llamaindex.ai/api/parsing/job/9628c0eb-8656-43c2-9a40-4855b3da2e30 \"HTTP/1.1 200 OK\"\n",
      "INFO: HTTP Request: GET https://api.cloud.llamaindex.ai/api/parsing/job/9628c0eb-8656-43c2-9a40-4855b3da2e30 \"HTTP/1.1 200 OK\"\n",
      "INFO: HTTP Request: GET https://api.cloud.llamaindex.ai/api/parsing/job/9628c0eb-8656-43c2-9a40-4855b3da2e30 \"HTTP/1.1 200 OK\"\n",
      "INFO: HTTP Request: GET https://api.cloud.llamaindex.ai/api/parsing/job/9628c0eb-8656-43c2-9a40-4855b3da2e30/result/text \"HTTP/1.1 200 OK\"\n"
     ]
    },
    {
     "name": "stdout",
     "output_type": "stream",
     "text": [
      "data/Menu/Anima Cosmica.pdf\n"
     ]
    },
    {
     "name": "stderr",
     "output_type": "stream",
     "text": [
      "INFO: HTTP Request: POST https://api.cloud.llamaindex.ai/api/parsing/upload \"HTTP/1.1 200 OK\"\n"
     ]
    },
    {
     "name": "stdout",
     "output_type": "stream",
     "text": [
      "Started parsing the file under job_id 04b8a4de-f475-4409-a4fd-a227ef282431\n"
     ]
    },
    {
     "name": "stderr",
     "output_type": "stream",
     "text": [
      "INFO: HTTP Request: GET https://api.cloud.llamaindex.ai/api/parsing/job/04b8a4de-f475-4409-a4fd-a227ef282431 \"HTTP/1.1 200 OK\"\n",
      "INFO: HTTP Request: GET https://api.cloud.llamaindex.ai/api/parsing/job/04b8a4de-f475-4409-a4fd-a227ef282431 \"HTTP/1.1 200 OK\"\n",
      "INFO: HTTP Request: GET https://api.cloud.llamaindex.ai/api/parsing/job/04b8a4de-f475-4409-a4fd-a227ef282431/result/text \"HTTP/1.1 200 OK\"\n"
     ]
    },
    {
     "name": "stdout",
     "output_type": "stream",
     "text": [
      "data/Menu/Eredita Galattica.pdf\n"
     ]
    },
    {
     "name": "stderr",
     "output_type": "stream",
     "text": [
      "INFO: HTTP Request: POST https://api.cloud.llamaindex.ai/api/parsing/upload \"HTTP/1.1 200 OK\"\n"
     ]
    },
    {
     "name": "stdout",
     "output_type": "stream",
     "text": [
      "Started parsing the file under job_id 1233a97c-a0ad-4a49-ade7-932c2ec65dd9\n"
     ]
    },
    {
     "name": "stderr",
     "output_type": "stream",
     "text": [
      "INFO: HTTP Request: GET https://api.cloud.llamaindex.ai/api/parsing/job/1233a97c-a0ad-4a49-ade7-932c2ec65dd9 \"HTTP/1.1 200 OK\"\n",
      "INFO: HTTP Request: GET https://api.cloud.llamaindex.ai/api/parsing/job/1233a97c-a0ad-4a49-ade7-932c2ec65dd9 \"HTTP/1.1 200 OK\"\n",
      "INFO: HTTP Request: GET https://api.cloud.llamaindex.ai/api/parsing/job/1233a97c-a0ad-4a49-ade7-932c2ec65dd9 \"HTTP/1.1 200 OK\"\n",
      "INFO: HTTP Request: GET https://api.cloud.llamaindex.ai/api/parsing/job/1233a97c-a0ad-4a49-ade7-932c2ec65dd9 \"HTTP/1.1 200 OK\"\n",
      "INFO: HTTP Request: GET https://api.cloud.llamaindex.ai/api/parsing/job/1233a97c-a0ad-4a49-ade7-932c2ec65dd9 \"HTTP/1.1 200 OK\"\n",
      "INFO: HTTP Request: GET https://api.cloud.llamaindex.ai/api/parsing/job/1233a97c-a0ad-4a49-ade7-932c2ec65dd9 \"HTTP/1.1 200 OK\"\n",
      "INFO: HTTP Request: GET https://api.cloud.llamaindex.ai/api/parsing/job/1233a97c-a0ad-4a49-ade7-932c2ec65dd9 \"HTTP/1.1 200 OK\"\n",
      "INFO: HTTP Request: GET https://api.cloud.llamaindex.ai/api/parsing/job/1233a97c-a0ad-4a49-ade7-932c2ec65dd9 \"HTTP/1.1 200 OK\"\n",
      "INFO: HTTP Request: GET https://api.cloud.llamaindex.ai/api/parsing/job/1233a97c-a0ad-4a49-ade7-932c2ec65dd9 \"HTTP/1.1 200 OK\"\n",
      "INFO: HTTP Request: GET https://api.cloud.llamaindex.ai/api/parsing/job/1233a97c-a0ad-4a49-ade7-932c2ec65dd9 \"HTTP/1.1 200 OK\"\n",
      "INFO: HTTP Request: GET https://api.cloud.llamaindex.ai/api/parsing/job/1233a97c-a0ad-4a49-ade7-932c2ec65dd9/result/text \"HTTP/1.1 200 OK\"\n"
     ]
    },
    {
     "name": "stdout",
     "output_type": "stream",
     "text": [
      "data/Menu/Il Firmamento.pdf\n"
     ]
    },
    {
     "name": "stderr",
     "output_type": "stream",
     "text": [
      "INFO: HTTP Request: POST https://api.cloud.llamaindex.ai/api/parsing/upload \"HTTP/1.1 200 OK\"\n"
     ]
    },
    {
     "name": "stdout",
     "output_type": "stream",
     "text": [
      "Started parsing the file under job_id acce69c0-edea-40ed-91bb-a3fde619cbe2\n"
     ]
    },
    {
     "name": "stderr",
     "output_type": "stream",
     "text": [
      "INFO: HTTP Request: GET https://api.cloud.llamaindex.ai/api/parsing/job/acce69c0-edea-40ed-91bb-a3fde619cbe2 \"HTTP/1.1 200 OK\"\n",
      "INFO: HTTP Request: GET https://api.cloud.llamaindex.ai/api/parsing/job/acce69c0-edea-40ed-91bb-a3fde619cbe2 \"HTTP/1.1 200 OK\"\n",
      "INFO: HTTP Request: GET https://api.cloud.llamaindex.ai/api/parsing/job/acce69c0-edea-40ed-91bb-a3fde619cbe2 \"HTTP/1.1 200 OK\"\n",
      "INFO: HTTP Request: GET https://api.cloud.llamaindex.ai/api/parsing/job/acce69c0-edea-40ed-91bb-a3fde619cbe2 \"HTTP/1.1 200 OK\"\n",
      "INFO: HTTP Request: GET https://api.cloud.llamaindex.ai/api/parsing/job/acce69c0-edea-40ed-91bb-a3fde619cbe2 \"HTTP/1.1 200 OK\"\n",
      "INFO: HTTP Request: GET https://api.cloud.llamaindex.ai/api/parsing/job/acce69c0-edea-40ed-91bb-a3fde619cbe2 \"HTTP/1.1 200 OK\"\n",
      "INFO: HTTP Request: GET https://api.cloud.llamaindex.ai/api/parsing/job/acce69c0-edea-40ed-91bb-a3fde619cbe2 \"HTTP/1.1 200 OK\"\n",
      "INFO: HTTP Request: GET https://api.cloud.llamaindex.ai/api/parsing/job/acce69c0-edea-40ed-91bb-a3fde619cbe2 \"HTTP/1.1 200 OK\"\n",
      "INFO: HTTP Request: GET https://api.cloud.llamaindex.ai/api/parsing/job/acce69c0-edea-40ed-91bb-a3fde619cbe2 \"HTTP/1.1 200 OK\"\n",
      "INFO: HTTP Request: GET https://api.cloud.llamaindex.ai/api/parsing/job/acce69c0-edea-40ed-91bb-a3fde619cbe2 \"HTTP/1.1 200 OK\"\n",
      "INFO: HTTP Request: GET https://api.cloud.llamaindex.ai/api/parsing/job/acce69c0-edea-40ed-91bb-a3fde619cbe2/result/text \"HTTP/1.1 200 OK\"\n"
     ]
    },
    {
     "name": "stdout",
     "output_type": "stream",
     "text": [
      "data/Menu/L infinito in un Boccone.pdf\n"
     ]
    },
    {
     "name": "stderr",
     "output_type": "stream",
     "text": [
      "INFO: HTTP Request: POST https://api.cloud.llamaindex.ai/api/parsing/upload \"HTTP/1.1 200 OK\"\n"
     ]
    },
    {
     "name": "stdout",
     "output_type": "stream",
     "text": [
      "Started parsing the file under job_id b51a9683-2c58-461d-b4df-29f672f19ad4\n"
     ]
    },
    {
     "name": "stderr",
     "output_type": "stream",
     "text": [
      "INFO: HTTP Request: GET https://api.cloud.llamaindex.ai/api/parsing/job/b51a9683-2c58-461d-b4df-29f672f19ad4 \"HTTP/1.1 200 OK\"\n",
      "INFO: HTTP Request: GET https://api.cloud.llamaindex.ai/api/parsing/job/b51a9683-2c58-461d-b4df-29f672f19ad4 \"HTTP/1.1 200 OK\"\n",
      "INFO: HTTP Request: GET https://api.cloud.llamaindex.ai/api/parsing/job/b51a9683-2c58-461d-b4df-29f672f19ad4 \"HTTP/1.1 200 OK\"\n",
      "INFO: HTTP Request: GET https://api.cloud.llamaindex.ai/api/parsing/job/b51a9683-2c58-461d-b4df-29f672f19ad4 \"HTTP/1.1 200 OK\"\n",
      "INFO: HTTP Request: GET https://api.cloud.llamaindex.ai/api/parsing/job/b51a9683-2c58-461d-b4df-29f672f19ad4 \"HTTP/1.1 200 OK\"\n",
      "INFO: HTTP Request: GET https://api.cloud.llamaindex.ai/api/parsing/job/b51a9683-2c58-461d-b4df-29f672f19ad4 \"HTTP/1.1 200 OK\"\n",
      "INFO: HTTP Request: GET https://api.cloud.llamaindex.ai/api/parsing/job/b51a9683-2c58-461d-b4df-29f672f19ad4 \"HTTP/1.1 200 OK\"\n",
      "INFO: HTTP Request: GET https://api.cloud.llamaindex.ai/api/parsing/job/b51a9683-2c58-461d-b4df-29f672f19ad4 \"HTTP/1.1 200 OK\"\n",
      "INFO: HTTP Request: GET https://api.cloud.llamaindex.ai/api/parsing/job/b51a9683-2c58-461d-b4df-29f672f19ad4 \"HTTP/1.1 200 OK\"\n",
      "INFO: HTTP Request: GET https://api.cloud.llamaindex.ai/api/parsing/job/b51a9683-2c58-461d-b4df-29f672f19ad4 \"HTTP/1.1 200 OK\"\n"
     ]
    },
    {
     "name": "stdout",
     "output_type": "stream",
     "text": [
      "."
     ]
    },
    {
     "name": "stderr",
     "output_type": "stream",
     "text": [
      "INFO: HTTP Request: GET https://api.cloud.llamaindex.ai/api/parsing/job/b51a9683-2c58-461d-b4df-29f672f19ad4 \"HTTP/1.1 200 OK\"\n",
      "INFO: HTTP Request: GET https://api.cloud.llamaindex.ai/api/parsing/job/b51a9683-2c58-461d-b4df-29f672f19ad4 \"HTTP/1.1 200 OK\"\n",
      "INFO: HTTP Request: GET https://api.cloud.llamaindex.ai/api/parsing/job/b51a9683-2c58-461d-b4df-29f672f19ad4/result/text \"HTTP/1.1 200 OK\"\n"
     ]
    },
    {
     "name": "stdout",
     "output_type": "stream",
     "text": [
      "data/Menu/L Essenza del Multiverso su Pandora.pdf\n"
     ]
    },
    {
     "name": "stderr",
     "output_type": "stream",
     "text": [
      "INFO: HTTP Request: POST https://api.cloud.llamaindex.ai/api/parsing/upload \"HTTP/1.1 200 OK\"\n"
     ]
    },
    {
     "name": "stdout",
     "output_type": "stream",
     "text": [
      "Started parsing the file under job_id 5cec811a-c28a-4d74-9071-d25b52ea2b77\n"
     ]
    },
    {
     "name": "stderr",
     "output_type": "stream",
     "text": [
      "INFO: HTTP Request: GET https://api.cloud.llamaindex.ai/api/parsing/job/5cec811a-c28a-4d74-9071-d25b52ea2b77 \"HTTP/1.1 200 OK\"\n",
      "INFO: HTTP Request: GET https://api.cloud.llamaindex.ai/api/parsing/job/5cec811a-c28a-4d74-9071-d25b52ea2b77 \"HTTP/1.1 200 OK\"\n",
      "INFO: HTTP Request: GET https://api.cloud.llamaindex.ai/api/parsing/job/5cec811a-c28a-4d74-9071-d25b52ea2b77 \"HTTP/1.1 200 OK\"\n",
      "INFO: HTTP Request: GET https://api.cloud.llamaindex.ai/api/parsing/job/5cec811a-c28a-4d74-9071-d25b52ea2b77 \"HTTP/1.1 200 OK\"\n",
      "INFO: HTTP Request: GET https://api.cloud.llamaindex.ai/api/parsing/job/5cec811a-c28a-4d74-9071-d25b52ea2b77 \"HTTP/1.1 200 OK\"\n",
      "INFO: HTTP Request: GET https://api.cloud.llamaindex.ai/api/parsing/job/5cec811a-c28a-4d74-9071-d25b52ea2b77 \"HTTP/1.1 200 OK\"\n",
      "INFO: HTTP Request: GET https://api.cloud.llamaindex.ai/api/parsing/job/5cec811a-c28a-4d74-9071-d25b52ea2b77 \"HTTP/1.1 200 OK\"\n",
      "INFO: HTTP Request: GET https://api.cloud.llamaindex.ai/api/parsing/job/5cec811a-c28a-4d74-9071-d25b52ea2b77 \"HTTP/1.1 200 OK\"\n",
      "INFO: HTTP Request: GET https://api.cloud.llamaindex.ai/api/parsing/job/5cec811a-c28a-4d74-9071-d25b52ea2b77 \"HTTP/1.1 200 OK\"\n",
      "INFO: HTTP Request: GET https://api.cloud.llamaindex.ai/api/parsing/job/5cec811a-c28a-4d74-9071-d25b52ea2b77 \"HTTP/1.1 200 OK\"\n",
      "INFO: HTTP Request: GET https://api.cloud.llamaindex.ai/api/parsing/job/5cec811a-c28a-4d74-9071-d25b52ea2b77/result/text \"HTTP/1.1 200 OK\"\n"
     ]
    },
    {
     "name": "stdout",
     "output_type": "stream",
     "text": [
      "data/Menu/Ristorante delle Dune Stellari.pdf\n"
     ]
    },
    {
     "name": "stderr",
     "output_type": "stream",
     "text": [
      "INFO: HTTP Request: POST https://api.cloud.llamaindex.ai/api/parsing/upload \"HTTP/1.1 200 OK\"\n"
     ]
    },
    {
     "name": "stdout",
     "output_type": "stream",
     "text": [
      "Started parsing the file under job_id 6327b95b-88af-4f71-91c3-2f34926a2793\n"
     ]
    },
    {
     "name": "stderr",
     "output_type": "stream",
     "text": [
      "INFO: HTTP Request: GET https://api.cloud.llamaindex.ai/api/parsing/job/6327b95b-88af-4f71-91c3-2f34926a2793 \"HTTP/1.1 200 OK\"\n",
      "INFO: HTTP Request: GET https://api.cloud.llamaindex.ai/api/parsing/job/6327b95b-88af-4f71-91c3-2f34926a2793 \"HTTP/1.1 200 OK\"\n",
      "INFO: HTTP Request: GET https://api.cloud.llamaindex.ai/api/parsing/job/6327b95b-88af-4f71-91c3-2f34926a2793 \"HTTP/1.1 200 OK\"\n",
      "INFO: HTTP Request: GET https://api.cloud.llamaindex.ai/api/parsing/job/6327b95b-88af-4f71-91c3-2f34926a2793 \"HTTP/1.1 200 OK\"\n",
      "INFO: HTTP Request: GET https://api.cloud.llamaindex.ai/api/parsing/job/6327b95b-88af-4f71-91c3-2f34926a2793 \"HTTP/1.1 200 OK\"\n",
      "INFO: HTTP Request: GET https://api.cloud.llamaindex.ai/api/parsing/job/6327b95b-88af-4f71-91c3-2f34926a2793 \"HTTP/1.1 200 OK\"\n",
      "INFO: HTTP Request: GET https://api.cloud.llamaindex.ai/api/parsing/job/6327b95b-88af-4f71-91c3-2f34926a2793 \"HTTP/1.1 200 OK\"\n",
      "INFO: HTTP Request: GET https://api.cloud.llamaindex.ai/api/parsing/job/6327b95b-88af-4f71-91c3-2f34926a2793 \"HTTP/1.1 200 OK\"\n",
      "INFO: HTTP Request: GET https://api.cloud.llamaindex.ai/api/parsing/job/6327b95b-88af-4f71-91c3-2f34926a2793 \"HTTP/1.1 200 OK\"\n",
      "INFO: HTTP Request: GET https://api.cloud.llamaindex.ai/api/parsing/job/6327b95b-88af-4f71-91c3-2f34926a2793 \"HTTP/1.1 200 OK\"\n"
     ]
    },
    {
     "name": "stdout",
     "output_type": "stream",
     "text": [
      "."
     ]
    },
    {
     "name": "stderr",
     "output_type": "stream",
     "text": [
      "INFO: HTTP Request: GET https://api.cloud.llamaindex.ai/api/parsing/job/6327b95b-88af-4f71-91c3-2f34926a2793 \"HTTP/1.1 200 OK\"\n",
      "INFO: HTTP Request: GET https://api.cloud.llamaindex.ai/api/parsing/job/6327b95b-88af-4f71-91c3-2f34926a2793/result/text \"HTTP/1.1 200 OK\"\n"
     ]
    }
   ],
   "source": [
    "# bring in our LLAMA_CLOUD_API_KEY\n",
    "from dotenv import load_dotenv\n",
    "load_dotenv()\n",
    "\n",
    "# bring in deps\n",
    "from llama_parse import LlamaParse\n",
    "from llama_index.core import SimpleDirectoryReader\n",
    "\n",
    "# set up parser\n",
    "parser = LlamaParse(\n",
    "    result_type=\"text\"  # \"markdown\" and \"text\" are available\n",
    ")\n",
    "\n",
    "from pathlib import Path\n",
    "\n",
    "# Define the folder path\n",
    "folder_path = Path('./data/Menu')\n",
    "\n",
    "menus = {}\n",
    "\n",
    "# Iterate through all files in the folder\n",
    "for filename in folder_path.iterdir():\n",
    "    # Build the full file path\n",
    "    print(filename)\n",
    "    \n",
    "    # Check if it's a file (and not a directory)\n",
    "    if filename.is_file():\n",
    "        # use SimpleDirectoryReader to parse our file\n",
    "        file_extractor = {\".pdf\": parser}\n",
    "        documents = SimpleDirectoryReader(input_files=[filename], file_extractor=file_extractor).load_data()\n",
    "        doc_text = \"\"\n",
    "        for i in range(0, len(documents)):\n",
    "            doc_text += documents[i].text\n",
    "        menus[filename] = doc_text"
   ]
  },
  {
   "cell_type": "code",
   "execution_count": 110,
   "metadata": {},
   "outputs": [],
   "source": [
    "import pandas as pd\n",
    "df = pd.DataFrame(columns=[\"FileName\", \"Text\"])\n",
    "\n",
    "for key, text in menus.items():\n",
    "    key_name = key.name.split('/')[-1]  # Split the string by '/' and take the last part\n",
    "    new_row = pd.DataFrame([[key_name, text]], columns=[\"FileName\", \"Text\"])\n",
    "    df = pd.concat([df, new_row], ignore_index=True)"
   ]
  },
  {
   "cell_type": "code",
   "execution_count": 111,
   "metadata": {},
   "outputs": [
    {
     "name": "stdout",
     "output_type": "stream",
     "text": [
      "                                   FileName                                               Text\n",
      "0                       Sapore del Dune.pdf  Ristorante \"Sapore del Dune\"\\nChef Alessandra ...\n",
      "1       Universo Gastronomico di Namecc.pdf  Universo Gastronomico di Namecc\\nChef Alice Qu...\n",
      "2                 L Equilibrio Quantico.pdf  Ristorante \"L'Equilibrio Quantico\"\\nChef Aless...\n",
      "3            L Architetto dell Universo.pdf  Ristorante \"L'Architetto dell'Universo\"\\nChef ...\n",
      "4                     L Essenza Cosmica.pdf  Ristorante \"L'Essenza Cosmica\"\\n\\nChef Alessan...\n",
      "5                   Stelle Astrofisiche.pdf  Ristorante \"Stelle Astrofisiche\"\\nChef Alessan...\n",
      "6                   L Essenza di Asgard.pdf  Ristorante: L'Essenza di Asgard\\nChef Palissan...\n",
      "7                        Eco di Pandora.pdf  Ristorante \"L'Eco di Pandora\"\\nChef Alessandra...\n",
      "8                      L Eco dei Sapori.pdf  L'Eco dei Sapori\\nChef Aurora Vessanti\\n\\nNell...\n",
      "9                  L Essenza delle Dune.pdf  Ristorante \"L'Essenza delle Dune\"\\nChef Alessa...\n",
      "10                 L Universo in Cucina.pdf  Ristorante \"L'Universo in Cucina\"\\nChef Crina ...\n",
      "11                      Cosmica Essenza.pdf  Cosmica Essenza\\nAlla guida dello Chef Aurelio...\n",
      "12           L Oasi delle Dune Stellari.pdf  Ristorante \"L'Oasi delle Dune Stellari\"\\nChef:...\n",
      "13                   Le Stelle Danzanti.pdf  Ristorante \"Le Stelle Danzanti\"\\nChef Asteria ...\n",
      "14                    Sala del Valhalla.pdf  Sala del Valhalla\\nBanchetto Asgardiano di Ecc...\n",
      "15      Stelle dell Infinito Celestiale.pdf  Ristorante \"Stelle dell'Infinito Celestiale\"\\n...\n",
      "16                  Ristorante Quantico.pdf  Ristorante Quantico\\nChef Alessandra Temporini...\n",
      "17              Le Dimensioni del Gusto.pdf  Ristorante \"Le Dimensioni del Gusto\"\\n        ...\n",
      "18                            Datapizza.pdf  Ristorante \"L'Infinito Sapore\"\\nViaggio nel Te...\n",
      "19                     Tutti a TARSvola.pdf  Ristorante \"Tutti a TARSvola\"\\nChef Executive:...\n",
      "20                   Armonia Universale.pdf  Ristorante \"Armonia Universale\"\\nChef: Maestro...\n",
      "21                Le Stelle che Ballano.pdf  Ristorante \"Le Stelle che Ballano\"\\nChef Aless...\n",
      "22                    L Etere del Gusto.pdf  Ristorante \"L'Etere del Gusto\"\\nChef Executivo...\n",
      "23                Essenza dell Infinito.pdf  Ristorante \"L'Essenza dell'Infinito\"\\nChef Lun...\n",
      "24                        Anima Cosmica.pdf  Ristorante \"Anima Cosmica\"\\nChef Aurora Stella...\n",
      "25                    Eredita Galattica.pdf  L'Eredità Galattica\\nHub Temporale della Gastr...\n",
      "26                        Il Firmamento.pdf  Il Firmamento\\nChef: Maestro Alessio \"Eterno\" ...\n",
      "27             L infinito in un Boccone.pdf  Ristorante \"L'Infinito in un Boccone\"\\n\\nChef ...\n",
      "28  L Essenza del Multiverso su Pandora.pdf  L'Essenza del Multiverso su Pandora\\nChef Matt...\n",
      "29       Ristorante delle Dune Stellari.pdf  Il Ristorante delle Dune Stellari\\nChef Alessa...\n"
     ]
    }
   ],
   "source": [
    "print(df)"
   ]
  },
  {
   "cell_type": "code",
   "execution_count": 117,
   "metadata": {},
   "outputs": [],
   "source": [
    "import csv \n",
    "\n",
    "with open(\"./output/menus.csv\", 'w', newline='', encoding = 'utf-8') as csvfile:\n",
    "    writer = csv.writer(csvfile)\n",
    "    for key, value in menus.items():\n",
    "        key_name = key.name.split('/')[-1]  # Split the string by '/' and take the last part\n",
    "        writer.writerow([key_name, value])"
   ]
  }
 ],
 "metadata": {
  "kernelspec": {
   "display_name": ".venv",
   "language": "python",
   "name": "python3"
  },
  "language_info": {
   "codemirror_mode": {
    "name": "ipython",
    "version": 3
   },
   "file_extension": ".py",
   "mimetype": "text/x-python",
   "name": "python",
   "nbconvert_exporter": "python",
   "pygments_lexer": "ipython3",
   "version": "3.12.3"
  }
 },
 "nbformat": 4,
 "nbformat_minor": 2
}
