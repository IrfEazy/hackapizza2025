{
 "cells": [
  {
   "metadata": {},
   "cell_type": "markdown",
   "source": "# Hackapizza 2025\n"
  },
  {
   "metadata": {},
   "cell_type": "markdown",
   "source": "## Imports\n"
  },
  {
   "cell_type": "code",
   "metadata": {},
   "source": [
    "import ast\n",
    "import csv\n",
    "import re\n",
    "from pathlib import Path\n",
    "\n",
    "import nest_asyncio\n",
    "import pandas as pd\n",
    "from dotenv import load_dotenv\n",
    "from ibm_watsonx_ai import Credentials\n",
    "from ibm_watsonx_ai.foundation_models import ModelInference\n",
    "from llama_index.core import SimpleDirectoryReader\n",
    "from llama_parse import LlamaParse\n"
   ],
   "outputs": [],
   "execution_count": null
  },
  {
   "cell_type": "code",
   "metadata": {},
   "source": [
    "credentials = Credentials(\n",
    "    url=\"https://us-south.ml.cloud.ibm.com\",\n",
    "    api_key=\"AnzfgthfcrfRzttoXGiKZUJDMRlcB3w4uemf0PJGFFT5\"\n",
    ")\n",
    "\n",
    "OVERWRITE = False\n"
   ],
   "outputs": [],
   "execution_count": null
  },
  {
   "cell_type": "code",
   "metadata": {},
   "source": [
    "model = ModelInference(\n",
    "    model_id=\"mistralai/mistral-large\",  # Che conosciamo bene 😊🏆\n",
    "    credentials=credentials,\n",
    "    project_id=\"5c33debb-5a25-4bfe-8392-ede4b20884fe\",\n",
    "    params={\n",
    "        \"max_tokens\": 200\n",
    "    }\n",
    ")\n"
   ],
   "outputs": [],
   "execution_count": null
  },
  {
   "cell_type": "code",
   "metadata": {},
   "source": [
    "# Apply nest_asyncio to allow nested event loops\n",
    "nest_asyncio.apply()\n",
    "\n",
    "# bring in our LLAMA_CLOUD_API_KEY\n",
    "load_dotenv()\n",
    "\n",
    "# set up parser\n",
    "parser = LlamaParse(\n",
    "    result_type=\"text\"  # \"markdown\" and \"text\" are available\n",
    ")\n",
    "\n",
    "# Define the folder path\n",
    "folder_path = Path('./data/Menu')\n",
    "\n",
    "menus = {}\n",
    "\n",
    "# Iterate through all files in the folder\n",
    "for filename in folder_path.iterdir():\n",
    "    if filename.is_file():\n",
    "        # use SimpleDirectoryReader to parse our file\n",
    "        file_extractor = {\".pdf\": parser}\n",
    "        documents = SimpleDirectoryReader(input_files=[filename], file_extractor=file_extractor).load_data()\n",
    "        doc_text = \"\"\n",
    "\n",
    "        for i in range(0, len(documents)):\n",
    "            doc_text += documents[i].text\n",
    "\n",
    "        menus[filename] = doc_text\n"
   ],
   "outputs": [],
   "execution_count": null
  },
  {
   "cell_type": "code",
   "metadata": {},
   "source": [
    "df = pd.DataFrame(columns=[\"FileName\", \"Text\"])\n",
    "\n",
    "for key, text in menus.items():\n",
    "    key_name = key.name.split('/')[-1]  # Split the string by '/' and take the last part\n",
    "    new_row = pd.DataFrame([[key_name, text]], columns=[\"FileName\", \"Text\"])\n",
    "    df = pd.concat([df, new_row], ignore_index=True)\n"
   ],
   "outputs": [],
   "execution_count": null
  },
  {
   "cell_type": "code",
   "metadata": {},
   "source": "print(df)\n",
   "outputs": [],
   "execution_count": null
  },
  {
   "cell_type": "code",
   "metadata": {},
   "source": [
    "with open(\"./output/menus.csv\", 'w', newline='', encoding='utf-8') as csvfile:\n",
    "    writer = csv.writer(csvfile)\n",
    "\n",
    "    for key, value in menus.items():\n",
    "        key_name = key.name.split('/')[-1]  # Split the string by '/' and take the last part\n",
    "        writer.writerow([key_name, value])\n"
   ],
   "outputs": [],
   "execution_count": null
  },
  {
   "metadata": {},
   "cell_type": "code",
   "outputs": [],
   "execution_count": null,
   "source": [
    "MENUS = Path('output/menus.csv')\n",
    "menus = pd.read_csv(filepath_or_buffer=MENUS, header=None, names=['FileName', 'Text'])\n",
    "menus_metadata_df = pd.DataFrame(columns=['Ristorante', 'Pianeta', 'Chef', 'Licenze'])\n",
    "\n",
    "for idx, menu in menus.iterrows():\n",
    "    content = menu['Text'].split(sep='Menu', maxsplit=1)[0]\n",
    "    result = model.chat(messages=[\n",
    "        {\n",
    "            'role': 'system',\n",
    "            'content': \"Estrai i metadata dal seguente testo individuando il nome del ristorante, il nome del pianeta, il nome dello chef, e le licenze del ristorante e scrivi nel seguente modo la tua risposta rimpiazzando solo i valori dei campi, come un dizionario:\\n{\\\"Ristorante\\\": nome_ristorante, \\\"Pianeta\\\": nome_pianeta, \\\"Chef\\\": nome_chef, \\\"Licenze\\\": lista_di_licenze}. Se non trovi valore in uno dei campi, scrivi la stringa vuota \\\"\\\".\"\n",
    "        },\n",
    "        {\n",
    "            'role': 'user',\n",
    "            'content': content\n",
    "        }\n",
    "    ])\n",
    "    ans = re.sub(pattern=r'^[^\\{]*', repl='', string=result['choices'][0]['message']['content'])\n",
    "    ans = re.sub(pattern=r'[^\\}]*$', repl='', string=ans)\n",
    "\n",
    "    try:\n",
    "        menus_metadata_df = pd.concat([menus_metadata_df, pd.DataFrame([ast.literal_eval(ans)])])\n",
    "    except:\n",
    "        print(ans)\n",
    "\n",
    "        break\n",
    "\n",
    "if OVERWRITE:\n",
    "    menus_metadata_df.to_pickle(path=Path('data/menus_metadata.pkl'))\n"
   ]
  }
 ],
 "metadata": {
  "kernelspec": {
   "display_name": ".venv",
   "language": "python",
   "name": "python3"
  },
  "language_info": {
   "codemirror_mode": {
    "name": "ipython",
    "version": 3
   },
   "file_extension": ".py",
   "mimetype": "text/x-python",
   "name": "python",
   "nbconvert_exporter": "python",
   "pygments_lexer": "ipython3",
   "version": "3.12.3"
  }
 },
 "nbformat": 4,
 "nbformat_minor": 2
}
