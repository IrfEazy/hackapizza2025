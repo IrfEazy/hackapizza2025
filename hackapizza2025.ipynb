{
 "cells": [
  {
   "cell_type": "code",
   "execution_count": 1,
   "metadata": {},
   "outputs": [],
   "source": [
    "from ibm_watsonx_ai import Credentials\n",
    "from ibm_watsonx_ai.foundation_models import ModelInference"
   ]
  },
  {
   "cell_type": "code",
   "execution_count": 2,
   "metadata": {},
   "outputs": [],
   "source": [
    "credentials = Credentials(\n",
    "    url=\"https://us-south.ml.cloud.ibm.com\",\n",
    "    api_key=\"AnzfgthfcrfRzttoXGiKZUJDMRlcB3w4uemf0PJGFFT5\"\n",
    ")"
   ]
  },
  {
   "cell_type": "code",
   "execution_count": 6,
   "metadata": {},
   "outputs": [
    {
     "name": "stdout",
     "output_type": "stream",
     "text": [
      " Datapizza è spesso considerata una delle community più interessanti e dinamiche in Italia per diversi motivi:\n",
      "\n",
      "1. **Focus sui Dati e l'Innovazione**: Datapizza si concentra su temi avanzati come l'analisi dei dati, l'intelligenza artificiale, il machine learning e altre tecnologie innovative. Questo attira professionisti e appassionati che sono alla ricerca di conoscenze all'avanguardia.\n",
      "\n",
      "2. **Eventi di Qualità**: La community organizza regolarmente eventi, meetup e workshop che offrono l'opportunità di apprendere da esperti del settore, partecipare a discussioni approfondite e fare networking con altri professionisti.\n",
      "\n",
      "3. **Comunità Aperta e Inclusiva**: Datapizza è nota per\n"
     ]
    }
   ],
   "source": [
    "model = ModelInference(\n",
    "    model_id=\"mistralai/mistral-large\", # Che conosciamo bene 😊🏆 \n",
    "    credentials=credentials,\n",
    "    project_id=\"5c33debb-5a25-4bfe-8392-ede4b20884fe\",\n",
    "    params={\n",
    "        \"max_tokens\": 200\n",
    "      }\n",
    ")\n",
    "\n",
    "result = model.chat(messages=[{'role': 'user', 'content': \"Perchè Datapizza è la community più figa d'Italia?\"}])\n",
    "\n",
    "print(result['choices'][0]['message']['content'])"
   ]
  }
 ],
 "metadata": {
  "kernelspec": {
   "display_name": ".venv",
   "language": "python",
   "name": "python3"
  },
  "language_info": {
   "codemirror_mode": {
    "name": "ipython",
    "version": 3
   },
   "file_extension": ".py",
   "mimetype": "text/x-python",
   "name": "python",
   "nbconvert_exporter": "python",
   "pygments_lexer": "ipython3",
   "version": "3.12.3"
  }
 },
 "nbformat": 4,
 "nbformat_minor": 2
}
