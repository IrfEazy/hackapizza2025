{
 "cells": [
  {
   "cell_type": "markdown",
   "metadata": {},
   "source": [
    "# Import dataset"
   ]
  },
  {
   "cell_type": "code",
   "execution_count": 7,
   "metadata": {},
   "outputs": [
    {
     "data": {
      "text/html": [
       "<div>\n",
       "<style scoped>\n",
       "    .dataframe tbody tr th:only-of-type {\n",
       "        vertical-align: middle;\n",
       "    }\n",
       "\n",
       "    .dataframe tbody tr th {\n",
       "        vertical-align: top;\n",
       "    }\n",
       "\n",
       "    .dataframe thead th {\n",
       "        text-align: right;\n",
       "    }\n",
       "</style>\n",
       "<table border=\"1\" class=\"dataframe\">\n",
       "  <thead>\n",
       "    <tr style=\"text-align: right;\">\n",
       "      <th></th>\n",
       "      <th>FileName</th>\n",
       "      <th>Text</th>\n",
       "    </tr>\n",
       "  </thead>\n",
       "  <tbody>\n",
       "    <tr>\n",
       "      <th>0</th>\n",
       "      <td>Sapore del Dune.pdf</td>\n",
       "      <td>Ristorante \"Sapore del Dune\"\\nChef Alessandra ...</td>\n",
       "    </tr>\n",
       "    <tr>\n",
       "      <th>1</th>\n",
       "      <td>Universo Gastronomico di Namecc.pdf</td>\n",
       "      <td>Universo Gastronomico di Namecc\\nChef Alice Qu...</td>\n",
       "    </tr>\n",
       "    <tr>\n",
       "      <th>2</th>\n",
       "      <td>L Equilibrio Quantico.pdf</td>\n",
       "      <td>Ristorante \"L'Equilibrio Quantico\"\\nChef Aless...</td>\n",
       "    </tr>\n",
       "    <tr>\n",
       "      <th>3</th>\n",
       "      <td>L Architetto dell Universo.pdf</td>\n",
       "      <td>Ristorante \"L'Architetto dell'Universo\"\\nChef ...</td>\n",
       "    </tr>\n",
       "    <tr>\n",
       "      <th>4</th>\n",
       "      <td>L Essenza Cosmica.pdf</td>\n",
       "      <td>Ristorante \"L'Essenza Cosmica\"\\n\\nChef Alessan...</td>\n",
       "    </tr>\n",
       "    <tr>\n",
       "      <th>5</th>\n",
       "      <td>Stelle Astrofisiche.pdf</td>\n",
       "      <td>Ristorante \"Stelle Astrofisiche\"\\nChef Alessan...</td>\n",
       "    </tr>\n",
       "    <tr>\n",
       "      <th>6</th>\n",
       "      <td>L Essenza di Asgard.pdf</td>\n",
       "      <td>Ristorante: L'Essenza di Asgard\\nChef Palissan...</td>\n",
       "    </tr>\n",
       "    <tr>\n",
       "      <th>7</th>\n",
       "      <td>Eco di Pandora.pdf</td>\n",
       "      <td>Ristorante \"L'Eco di Pandora\"\\nChef Alessandra...</td>\n",
       "    </tr>\n",
       "    <tr>\n",
       "      <th>8</th>\n",
       "      <td>L Eco dei Sapori.pdf</td>\n",
       "      <td>L'Eco dei Sapori\\nChef Aurora Vessanti\\n\\nNell...</td>\n",
       "    </tr>\n",
       "    <tr>\n",
       "      <th>9</th>\n",
       "      <td>L Essenza delle Dune.pdf</td>\n",
       "      <td>Ristorante \"L'Essenza delle Dune\"\\nChef Alessa...</td>\n",
       "    </tr>\n",
       "    <tr>\n",
       "      <th>10</th>\n",
       "      <td>L Universo in Cucina.pdf</td>\n",
       "      <td>Ristorante \"L'Universo in Cucina\"\\nChef Crina ...</td>\n",
       "    </tr>\n",
       "    <tr>\n",
       "      <th>11</th>\n",
       "      <td>Cosmica Essenza.pdf</td>\n",
       "      <td>Cosmica Essenza\\nAlla guida dello Chef Aurelio...</td>\n",
       "    </tr>\n",
       "    <tr>\n",
       "      <th>12</th>\n",
       "      <td>L Oasi delle Dune Stellari.pdf</td>\n",
       "      <td>Ristorante \"L'Oasi delle Dune Stellari\"\\nChef:...</td>\n",
       "    </tr>\n",
       "    <tr>\n",
       "      <th>13</th>\n",
       "      <td>Le Stelle Danzanti.pdf</td>\n",
       "      <td>Ristorante \"Le Stelle Danzanti\"\\nChef Asteria ...</td>\n",
       "    </tr>\n",
       "    <tr>\n",
       "      <th>14</th>\n",
       "      <td>Sala del Valhalla.pdf</td>\n",
       "      <td>Sala del Valhalla\\nBanchetto Asgardiano di Ecc...</td>\n",
       "    </tr>\n",
       "    <tr>\n",
       "      <th>15</th>\n",
       "      <td>Stelle dell Infinito Celestiale.pdf</td>\n",
       "      <td>Ristorante \"Stelle dell'Infinito Celestiale\"\\n...</td>\n",
       "    </tr>\n",
       "    <tr>\n",
       "      <th>16</th>\n",
       "      <td>Ristorante Quantico.pdf</td>\n",
       "      <td>Ristorante Quantico\\nChef Alessandra Temporini...</td>\n",
       "    </tr>\n",
       "    <tr>\n",
       "      <th>17</th>\n",
       "      <td>Le Dimensioni del Gusto.pdf</td>\n",
       "      <td>Ristorante \"Le Dimensioni del Gusto\"\\n        ...</td>\n",
       "    </tr>\n",
       "    <tr>\n",
       "      <th>18</th>\n",
       "      <td>Datapizza.pdf</td>\n",
       "      <td>Ristorante \"L'Infinito Sapore\"\\nViaggio nel Te...</td>\n",
       "    </tr>\n",
       "    <tr>\n",
       "      <th>19</th>\n",
       "      <td>Tutti a TARSvola.pdf</td>\n",
       "      <td>Ristorante \"Tutti a TARSvola\"\\nChef Executive:...</td>\n",
       "    </tr>\n",
       "    <tr>\n",
       "      <th>20</th>\n",
       "      <td>Armonia Universale.pdf</td>\n",
       "      <td>Ristorante \"Armonia Universale\"\\nChef: Maestro...</td>\n",
       "    </tr>\n",
       "    <tr>\n",
       "      <th>21</th>\n",
       "      <td>Le Stelle che Ballano.pdf</td>\n",
       "      <td>Ristorante \"Le Stelle che Ballano\"\\nChef Aless...</td>\n",
       "    </tr>\n",
       "    <tr>\n",
       "      <th>22</th>\n",
       "      <td>L Etere del Gusto.pdf</td>\n",
       "      <td>Ristorante \"L'Etere del Gusto\"\\nChef Executivo...</td>\n",
       "    </tr>\n",
       "    <tr>\n",
       "      <th>23</th>\n",
       "      <td>Essenza dell Infinito.pdf</td>\n",
       "      <td>Ristorante \"L'Essenza dell'Infinito\"\\nChef Lun...</td>\n",
       "    </tr>\n",
       "    <tr>\n",
       "      <th>24</th>\n",
       "      <td>Anima Cosmica.pdf</td>\n",
       "      <td>Ristorante \"Anima Cosmica\"\\nChef Aurora Stella...</td>\n",
       "    </tr>\n",
       "    <tr>\n",
       "      <th>25</th>\n",
       "      <td>Eredita Galattica.pdf</td>\n",
       "      <td>L'Eredità Galattica\\nHub Temporale della Gastr...</td>\n",
       "    </tr>\n",
       "    <tr>\n",
       "      <th>26</th>\n",
       "      <td>Il Firmamento.pdf</td>\n",
       "      <td>Il Firmamento\\nChef: Maestro Alessio \"Eterno\" ...</td>\n",
       "    </tr>\n",
       "    <tr>\n",
       "      <th>27</th>\n",
       "      <td>L infinito in un Boccone.pdf</td>\n",
       "      <td>Ristorante \"L'Infinito in un Boccone\"\\n\\nChef ...</td>\n",
       "    </tr>\n",
       "    <tr>\n",
       "      <th>28</th>\n",
       "      <td>L Essenza del Multiverso su Pandora.pdf</td>\n",
       "      <td>L'Essenza del Multiverso su Pandora\\nChef Matt...</td>\n",
       "    </tr>\n",
       "    <tr>\n",
       "      <th>29</th>\n",
       "      <td>Ristorante delle Dune Stellari.pdf</td>\n",
       "      <td>Il Ristorante delle Dune Stellari\\nChef Alessa...</td>\n",
       "    </tr>\n",
       "  </tbody>\n",
       "</table>\n",
       "</div>"
      ],
      "text/plain": [
       "                                   FileName  \\\n",
       "0                       Sapore del Dune.pdf   \n",
       "1       Universo Gastronomico di Namecc.pdf   \n",
       "2                 L Equilibrio Quantico.pdf   \n",
       "3            L Architetto dell Universo.pdf   \n",
       "4                     L Essenza Cosmica.pdf   \n",
       "5                   Stelle Astrofisiche.pdf   \n",
       "6                   L Essenza di Asgard.pdf   \n",
       "7                        Eco di Pandora.pdf   \n",
       "8                      L Eco dei Sapori.pdf   \n",
       "9                  L Essenza delle Dune.pdf   \n",
       "10                 L Universo in Cucina.pdf   \n",
       "11                      Cosmica Essenza.pdf   \n",
       "12           L Oasi delle Dune Stellari.pdf   \n",
       "13                   Le Stelle Danzanti.pdf   \n",
       "14                    Sala del Valhalla.pdf   \n",
       "15      Stelle dell Infinito Celestiale.pdf   \n",
       "16                  Ristorante Quantico.pdf   \n",
       "17              Le Dimensioni del Gusto.pdf   \n",
       "18                            Datapizza.pdf   \n",
       "19                     Tutti a TARSvola.pdf   \n",
       "20                   Armonia Universale.pdf   \n",
       "21                Le Stelle che Ballano.pdf   \n",
       "22                    L Etere del Gusto.pdf   \n",
       "23                Essenza dell Infinito.pdf   \n",
       "24                        Anima Cosmica.pdf   \n",
       "25                    Eredita Galattica.pdf   \n",
       "26                        Il Firmamento.pdf   \n",
       "27             L infinito in un Boccone.pdf   \n",
       "28  L Essenza del Multiverso su Pandora.pdf   \n",
       "29       Ristorante delle Dune Stellari.pdf   \n",
       "\n",
       "                                                 Text  \n",
       "0   Ristorante \"Sapore del Dune\"\\nChef Alessandra ...  \n",
       "1   Universo Gastronomico di Namecc\\nChef Alice Qu...  \n",
       "2   Ristorante \"L'Equilibrio Quantico\"\\nChef Aless...  \n",
       "3   Ristorante \"L'Architetto dell'Universo\"\\nChef ...  \n",
       "4   Ristorante \"L'Essenza Cosmica\"\\n\\nChef Alessan...  \n",
       "5   Ristorante \"Stelle Astrofisiche\"\\nChef Alessan...  \n",
       "6   Ristorante: L'Essenza di Asgard\\nChef Palissan...  \n",
       "7   Ristorante \"L'Eco di Pandora\"\\nChef Alessandra...  \n",
       "8   L'Eco dei Sapori\\nChef Aurora Vessanti\\n\\nNell...  \n",
       "9   Ristorante \"L'Essenza delle Dune\"\\nChef Alessa...  \n",
       "10  Ristorante \"L'Universo in Cucina\"\\nChef Crina ...  \n",
       "11  Cosmica Essenza\\nAlla guida dello Chef Aurelio...  \n",
       "12  Ristorante \"L'Oasi delle Dune Stellari\"\\nChef:...  \n",
       "13  Ristorante \"Le Stelle Danzanti\"\\nChef Asteria ...  \n",
       "14  Sala del Valhalla\\nBanchetto Asgardiano di Ecc...  \n",
       "15  Ristorante \"Stelle dell'Infinito Celestiale\"\\n...  \n",
       "16  Ristorante Quantico\\nChef Alessandra Temporini...  \n",
       "17  Ristorante \"Le Dimensioni del Gusto\"\\n        ...  \n",
       "18  Ristorante \"L'Infinito Sapore\"\\nViaggio nel Te...  \n",
       "19  Ristorante \"Tutti a TARSvola\"\\nChef Executive:...  \n",
       "20  Ristorante \"Armonia Universale\"\\nChef: Maestro...  \n",
       "21  Ristorante \"Le Stelle che Ballano\"\\nChef Aless...  \n",
       "22  Ristorante \"L'Etere del Gusto\"\\nChef Executivo...  \n",
       "23  Ristorante \"L'Essenza dell'Infinito\"\\nChef Lun...  \n",
       "24  Ristorante \"Anima Cosmica\"\\nChef Aurora Stella...  \n",
       "25  L'Eredità Galattica\\nHub Temporale della Gastr...  \n",
       "26  Il Firmamento\\nChef: Maestro Alessio \"Eterno\" ...  \n",
       "27  Ristorante \"L'Infinito in un Boccone\"\\n\\nChef ...  \n",
       "28  L'Essenza del Multiverso su Pandora\\nChef Matt...  \n",
       "29  Il Ristorante delle Dune Stellari\\nChef Alessa...  "
      ]
     },
     "metadata": {},
     "output_type": "display_data"
    },
    {
     "name": "stdout",
     "output_type": "stream",
     "text": [
      "DataFrame loaded with 30 rows and 2 columns.\n"
     ]
    }
   ],
   "source": [
    "import pandas as pd\n",
    "\n",
    "# Define the file path\n",
    "csv_file_path = './output/menus.csv'\n",
    "\n",
    "# Read the CSV file and assign headers explicitly\n",
    "df = pd.read_csv(csv_file_path, header=None, names=[\"FileName\", \"Text\"])\n",
    "\n",
    "# Display the first few rows of the DataFrame\n",
    "display(df)\n",
    "\n",
    "# Confirm the data has been successfully loaded\n",
    "print(f\"DataFrame loaded with {len(df)} rows and {len(df.columns)} columns.\")"
   ]
  },
  {
   "cell_type": "code",
   "execution_count": 8,
   "metadata": {},
   "outputs": [],
   "source": [
    "from langchain import hub\n",
    "from langchain.text_splitter import RecursiveCharacterTextSplitter\n",
    "from langchain_core.output_parsers import StrOutputParser\n",
    "from langchain_core.runnables import RunnablePassthrough"
   ]
  },
  {
   "cell_type": "code",
   "execution_count": 10,
   "metadata": {},
   "outputs": [
    {
     "data": {
      "text/plain": [
       "Document(metadata={'FileName': 'Sapore del Dune.pdf'}, page_content='Ristorante \"Sapore del Dune\"\\nChef Alessandra Quanti\\n\\nNel cuore arido di Tatooine, dove i mondi si mescolano e le stelle guidano i viaggiatori intergalattici, Chef\\nAlessandra Quanti porta una rivoluzione culinaria che sfida le distanze siderali. Non è raro vedere i\\ncommensali rimanere incantati osservando i suoi piatti che sembrano danzare tra le dune e le stelle, frutto\\ndella sua straordinaria padronanza degli stati quantici, che le permette di esplorare e materializzare le infinite\\npossibilità nascoste in ogni ingrediente rarefatto del deserto.\\n\\nLa sua storia ebbe inizio nei laboratori di spezie di Mos Eisley, dove la passione per la gastronomia\\nmolecolare si fuse con la sua profonda comprensione dell\\'universo subatomico. Fu proprio durante un\\nesperimento particolarmente intenso con i Cristalli Kyber che scoprì la sua innata capacità di percepire le\\nprobabilità culinarie, un dono che trasformò ogni sua creazione in un\\'esperienza di perfezione matematica\\nanche tra le tempeste di sabbia.\\n\\nLe sue presentazioni sono vere opere d\\'arte viventi, dove la luce danza e si trasforma, creando atmosfere\\nche portano gli ospiti in un viaggio tra le galassie. I commensali più attenti potrebbero notare come alcuni\\nelementi dei suoi piatti sembrino sfidare gentilmente la gravità, un\\'abilità raffinata durante il suo periodo\\ncome chef a bordo di uno Star Destroyer, dove la cucina assumeva significati completamente nuovi.\\n\\nUn giorno, un peculiare incidente con un forno quantico di sua invenzione le donò una comprensione unica\\ndel tempo culinario. Questo \"fortunato incidente\", come ama definirlo, le permise di perfezionare l\\'arte della\\ncottura a livelli inimmaginabili, orchestrando ogni secondo in una danza perfetta di temperature, anche nei\\nclimi più extraterritoriali.\\n\\nAl Sapore del Dune, ogni serata è un viaggio attraverso le infinite possibilità del gusto. Chef Quanti non si\\nlimita a cucinare: plasma la realtà stessa del cibo, trasformando ogni pasto in un\\'esperienza che trascende i\\nconfini tradizionali della gastronomia. Come ama ricordare ai suoi ospiti: \"In cucina, come nell\\'universo, tutto\\nè possibile. Dobbiamo solo saper osservare tutte le possibilità simultaneamente, per poi scegliere la più\\nstraordinaria.\"\\n\\nLe skill certificate dello Chef sono:\\n\\n           Psionica II\\n           Temporale I\\n           Gravitazionale I\\n           Quantistica 13\\n           Luce II\\n\\nIl ristorante possiede una tecnologia LTK II\\n\\nMenu\\nSinfonia Quantistica delle Stelle\\nIngredienti\\n           Shard di Prisma Stellare\\n           Lattuga Namecciana\\n           Radici di SingolaritàFibra di Sintetex\\n           Carne di Balena spaziale\\n           Teste di Idra\\n           Nettare di Sirena\\n           Sale Temporale\\n\\nTecniche\\n           Marinatura Temporale Sincronizzata\\n           Cottura Sottovuoto Frugale Energeticamente Negativa\\n           Cottura a Vapore Termocinetica Multipla\\n           Cottura a Vapore Ecodinamico Bilanciato\\n\\nSinfonia Quantistica dell\\'Universo\\nIngredienti\\n           Shard di Prisma Stellare\\n           Foglie di Nebulosa\\n           Lattuga Namecciana\\n           Teste di Idra\\n           Carne di Mucca\\n           Farina di Nettuno\\n           Riso di Cassandra\\n           Fusilli del Vento\\n           Nduja Fritta Tanto\\n\\nTecniche\\n           Cottura Sottovuoto Frugale Energeticamente Negativa\\n           Cottura a Vapore Termocinetica Multipla\\n           Marinatura Temporale Sincronizzata\\n\\nEvanescenza Quantica\\nIngredienti\\n           Cristalli di Memoria\\n           Radici di Singolarità\\n           Lattuga Namecciana\\n           Baccacedro\\n           Granuli di Nebbia Arcobaleno\\n           Plasma Vitale\\n           Petali di Eco\\n\\nTecniche\\n           Cottura Sottovuoto Frugale Energeticamente Negativa\\n           Grigliatura Eletro-Molecolare a Spaziatura Variabile\\n           Bollitura Termografica a Rotazione Veloce\\n           Affumicatura a Stratificazione Quantica\\n           Saltare in Padella ClassicaGalassia di Sapori Sublimi\\nIngredienti\\n           Frammenti di Supernova\\n           Baccacedro\\n           Foglie di Nebulosa\\n           Radici di Singolarità\\n           Amido di Stellarion\\n           Fusilli del Vento\\n\\nTecniche\\n           Cottura con Microonde Entropiche Sincronizzate\\n           Congelamento Bio-Luminiscente Sincronico\\n           Cottura Sottovuoto Frugale Energeticamente Negativa\\n           Marinatura Temporale Sincronizzata\\n           Impasto Gravitazionale Vorticoso\\n\\nGalassia di Sapore Quantico\\nIngredienti\\n           Polvere di Stelle\\n           Alghe Bioluminescenti\\n           Colonia di Mycoflora\\n           Carne di Drago\\n           Teste di Idra\\n           Plasma Vitale\\n           Nduja Fritta Tanto\\n\\nTecniche\\n           Grigliatura Eletro-Molecolare a Spaziatura Variabile\\n           Cottura a Vapore Termocinetica Multipla\\n           Cottura Sottovuoto Frugale Energeticamente Negativa\\n           Impasto Gravitazionale Vorticoso\\n\\nInterstellare Risveglio di Kraken\\nIngredienti\\n           Polvere di Pulsar\\n           Liane di Plasmodio\\n           Radici di Singolarità\\n           Carne di Kraken\\n           Amido di Stellarion\\n           Riso di Cassandra\\n           Plasma Vitale\\n           Nduja Fritta TantoTecniche\\n          Congelamento Bio-Luminiscente Sincronico\\n          Affumicatura a Stratificazione Quantica\\n          Bollitura Infrasonica Armonizzata\\n\\nSinfonia Temporale delle Profondità Infrasoniche\\nIngredienti\\n          Polvere di Crononite\\n          Carne di Kraken\\n          Carne di Balena spaziale\\n          Funghi Orbitali\\n          Sale Temporale\\n\\nTecniche\\n          Saltare in Padella Classica\\n          Bollitura Infrasonica Armonizzata\\n          Cottura Sottovuoto Frugale Energeticamente Negativa\\n\\nPioggia di Dimensioni Galattiche\\nIngredienti\\n          Shard di Prisma Stellare\\n          Lattuga Namecciana\\n          Biscotti della Galassia\\n          Pane degli Abissi\\n          Nettare di Sirena\\n          Essenza di Vuoto\\n\\nTecniche\\n          Bollitura Termografica a Rotazione Veloce\\n          Affumicatura a Stratificazione Quantica\\n          Fermentazione Quantico Biometrica\\n\\nOde Cosmica di Terra e Stelle\\nIngredienti\\n          Polvere di Stelle\\n          Alghe Bioluminescenti\\n          Teste di Idra\\n          Fibra di Sintetex\\n          Carne di Balena spaziale\\n          Spaghi del Sole\\n          Nettare di Sirena\\n          Spezie MelangeTecniche\\n            Grigliatura Eletro-Molecolare a Spaziatura Variabile\\n            Marinatura Temporale Sincronizzata\\n\\nSinfonia Galattica\\nIngredienti\\n            Cristalli di Nebulite\\n            Colonia di Mycoflora\\n            Teste di Idra\\n            Carne di Xenodonte\\n            Carne di Drago\\n            Pane degli Abissi\\n            Funghi dell’Etere\\n\\nTecniche\\n            Cottura a Vapore con Flusso di Particelle Isoarmoniche\\n            Marinatura Temporale Sincronizzata')"
      ]
     },
     "execution_count": 10,
     "metadata": {},
     "output_type": "execute_result"
    }
   ],
   "source": [
    "from langchain_community.document_loaders import DataFrameLoader\n",
    "\n",
    "loader = DataFrameLoader(df, page_content_column=\"Text\")\n",
    "docs_data = loader.load()\n",
    "docs_data[0]"
   ]
  },
  {
   "cell_type": "code",
   "execution_count": 206,
   "metadata": {},
   "outputs": [
    {
     "name": "stdout",
     "output_type": "stream",
     "text": [
      "[Document(metadata={'FileName': 'Sapore del Dune.pdf'}, page_content='Ristorante \"Sapore del Dune\"\\nChef Alessandra Quanti'),\n",
      " Document(metadata={'FileName': 'Sapore del Dune.pdf'}, page_content='Nel cuore arido di Tatooine, dove i mondi si mescolano e le stelle guidano i viaggiatori intergalattici, Chef\\nAlessandra Quanti porta una rivoluzione culinaria che sfida le distanze siderali. Non è raro vedere i\\ncommensali rimanere incantati osservando i suoi piatti che sembrano danzare tra le dune e le stelle, frutto\\ndella sua straordinaria padronanza degli stati quantici, che le permette di esplorare e materializzare le infinite\\npossibilità nascoste in ogni ingrediente rarefatto del deserto.'),\n",
      " Document(metadata={'FileName': 'Sapore del Dune.pdf'}, page_content=\"La sua storia ebbe inizio nei laboratori di spezie di Mos Eisley, dove la passione per la gastronomia\\nmolecolare si fuse con la sua profonda comprensione dell'universo subatomico. Fu proprio durante un\\nesperimento particolarmente intenso con i Cristalli Kyber che scoprì la sua innata capacità di percepire le\\nprobabilità culinarie, un dono che trasformò ogni sua creazione in un'esperienza di perfezione matematica\\nanche tra le tempeste di sabbia.\"),\n",
      " Document(metadata={'FileName': 'Sapore del Dune.pdf'}, page_content=\"Le sue presentazioni sono vere opere d'arte viventi, dove la luce danza e si trasforma, creando atmosfere\\nche portano gli ospiti in un viaggio tra le galassie. I commensali più attenti potrebbero notare come alcuni\\nelementi dei suoi piatti sembrino sfidare gentilmente la gravità, un'abilità raffinata durante il suo periodo\\ncome chef a bordo di uno Star Destroyer, dove la cucina assumeva significati completamente nuovi.\"),\n",
      " Document(metadata={'FileName': 'Sapore del Dune.pdf'}, page_content='Un giorno, un peculiare incidente con un forno quantico di sua invenzione le donò una comprensione unica\\ndel tempo culinario. Questo \"fortunato incidente\", come ama definirlo, le permise di perfezionare l\\'arte della\\ncottura a livelli inimmaginabili, orchestrando ogni secondo in una danza perfetta di temperature, anche nei\\nclimi più extraterritoriali.'),\n",
      " Document(metadata={'FileName': 'Sapore del Dune.pdf'}, page_content='Al Sapore del Dune, ogni serata è un viaggio attraverso le infinite possibilità del gusto. Chef Quanti non si\\nlimita a cucinare: plasma la realtà stessa del cibo, trasformando ogni pasto in un\\'esperienza che trascende i\\nconfini tradizionali della gastronomia. Come ama ricordare ai suoi ospiti: \"In cucina, come nell\\'universo, tutto\\nè possibile. Dobbiamo solo saper osservare tutte le possibilità simultaneamente, per poi scegliere la più\\nstraordinaria.\"\\n\\nLe skill certificate dello Chef sono:')]\n",
      "1638\n"
     ]
    }
   ],
   "source": [
    "# Split\n",
    "import pprint\n",
    "# Possible improvements - future hypertuning of chunk_size and chunk_overlap to improve results and try different slitters\n",
    "text_splitter = RecursiveCharacterTextSplitter(chunk_size=500, chunk_overlap = 200)\n",
    "splits = text_splitter.split_documents(docs_data)\n",
    "pprint.pprint(splits[0:6])\n",
    "pprint.pprint(len(splits))"
   ]
  },
  {
   "cell_type": "markdown",
   "metadata": {},
   "source": [
    "# Watsonx"
   ]
  },
  {
   "cell_type": "code",
   "execution_count": 96,
   "metadata": {},
   "outputs": [],
   "source": [
    "from ibm_watsonx_ai import Credentials\n",
    "from ibm_watsonx_ai.foundation_models import ModelInference"
   ]
  },
  {
   "cell_type": "code",
   "execution_count": 107,
   "metadata": {},
   "outputs": [],
   "source": [
    "credentials = Credentials(\n",
    "    url=\"https://us-south.ml.cloud.ibm.com\",\n",
    "    api_key=\"AnzfgthfcrfRzttoXGiKZUJDMRlcB3w4uemf0PJGFFT5\"\n",
    ")\n",
    "\n",
    "OVERWRITE = False\n"
   ]
  },
  {
   "cell_type": "code",
   "execution_count": 147,
   "metadata": {},
   "outputs": [],
   "source": [
    "from langchain_ibm import WatsonxLLM, WatsonxEmbeddings\n",
    "\n",
    "watsonLLM = WatsonxLLM(\n",
    "    model_id=\"mistralai/mistral-large\",  # Che conosciamo bene 😊🏆\n",
    "    url=\"https://us-south.ml.cloud.ibm.com\",\n",
    "    apikey=\"AnzfgthfcrfRzttoXGiKZUJDMRlcB3w4uemf0PJGFFT5\",\n",
    "    project_id=\"5c33debb-5a25-4bfe-8392-ede4b20884fe\",\n",
    "    params={\n",
    "        \"max_new_tokens\": 1024\n",
    "    }\n",
    ")"
   ]
  },
  {
   "cell_type": "code",
   "execution_count": 125,
   "metadata": {},
   "outputs": [],
   "source": [
    "embeddings = WatsonxEmbeddings(\n",
    "    model_id=\"ibm/granite-embedding-107m-multilingual\",\n",
    "    url=credentials[\"url\"],\n",
    "    apikey=credentials[\"api_key\"],\n",
    "    project_id=\"5c33debb-5a25-4bfe-8392-ede4b20884fe\",\n",
    ")"
   ]
  },
  {
   "cell_type": "code",
   "execution_count": 207,
   "metadata": {},
   "outputs": [],
   "source": [
    "from langchain.vectorstores import FAISS\n",
    "vectorstore = FAISS.from_documents(splits, embeddings)\n",
    "vectorstore.save_local(\"local_model_index\")"
   ]
  },
  {
   "cell_type": "code",
   "execution_count": 208,
   "metadata": {},
   "outputs": [
    {
     "data": {
      "text/plain": [
       "1638"
      ]
     },
     "execution_count": 208,
     "metadata": {},
     "output_type": "execute_result"
    }
   ],
   "source": [
    "vectorstore = FAISS.load_local(\"local_model_index\", embeddings, allow_dangerous_deserialization=True)\n",
    "vectorstore.index.ntotal"
   ]
  },
  {
   "cell_type": "code",
   "execution_count": 209,
   "metadata": {},
   "outputs": [
    {
     "data": {
      "text/plain": [
       "VectorStoreRetriever(tags=['FAISS', 'WatsonxEmbeddings'], vectorstore=<langchain_community.vectorstores.faiss.FAISS object at 0x7ccd624ba120>, search_kwargs={'k': 5})"
      ]
     },
     "execution_count": 209,
     "metadata": {},
     "output_type": "execute_result"
    }
   ],
   "source": [
    "retriever = vectorstore.as_retriever(search_kwargs={\"k\": 5})\n",
    "retriever"
   ]
  },
  {
   "cell_type": "code",
   "execution_count": 235,
   "metadata": {},
   "outputs": [],
   "source": [
    "from langchain.retrievers import EnsembleRetriever, TFIDFRetriever, BM25Retriever\n",
    "\n",
    "# Initialize the BM25 retriever\n",
    "sparse_retriever = TFIDFRetriever.from_documents(splits)\n",
    "sparse_retriever.k =  5\n",
    "\n",
    "# Initialize the ensemble retriever\n",
    "ensemble_retriever = EnsembleRetriever(retrievers=[sparse_retriever, retriever], weights=[0.4, 0.6])"
   ]
  },
  {
   "cell_type": "code",
   "execution_count": 237,
   "metadata": {},
   "outputs": [
    {
     "name": "stdout",
     "output_type": "stream",
     "text": [
      "\n",
      "Assistente: [\"Sinfonia Cosmica di Andromeda\", \"Risveglio Cosmico: Una Sinfonia di Sapori Universali\", \"Odissea Celestiale\"]\n"
     ]
    }
   ],
   "source": [
    "from langchain_core.prompts import ChatPromptTemplate\n",
    "\n",
    "# Prompt\n",
    "template = \"\"\"\n",
    "Rispondi a domande relative a piatti e ristoranti galattici. \n",
    "Dato il contesto estratto dai documenti relativi a ristoranti di vari pianeti, ognuno con un menu di piatti e specifici ingredienti, \n",
    "rispondi alla domanda del cliente basandoti solo su queste informazioni.\n",
    "\n",
    "Istruzioni:\n",
    "1. Leggi solo il contesto fornito, che include descrizioni dei piatti, degli ingredienti e delle tecniche.\n",
    "2. Ritorna esclusivamente l'elenco dei nomi dei piatti che rispondono alla domanda, senza alcuna informazione aggiuntiva.\n",
    "3. Assicurati di scrivere la risposta come nel seguente formato: [\"Piatto 1\", \"Piatto 2\"].\n",
    "\n",
    "Contesto: {context}\n",
    "Domanda: {question}\"\n",
    "\"\"\"\n",
    "\n",
    "prompt = ChatPromptTemplate.from_template(template)\n",
    "prompt\n",
    "\n",
    "# Post-processing\n",
    "def format_docs(splits):\n",
    "    return \"\\n\\n\".join(doc.page_content for doc in splits)\n",
    "\n",
    "# Chain\n",
    "rag_chain = (\n",
    "    {\"context\": ensemble_retriever | format_docs, \"question\": RunnablePassthrough()}\n",
    "    | prompt\n",
    "    | watsonLLM\n",
    "    | StrOutputParser()\n",
    ")\n",
    "\n",
    "# Question\n",
    "question = \"Quali piatti sono preparati utilizzando la tecnica della Sferificazione a Gravità Psionica Variabile?\"\n",
    "response_text = rag_chain.invoke(question)\n",
    "print(response_text)"
   ]
  },
  {
   "cell_type": "code",
   "execution_count": 238,
   "metadata": {},
   "outputs": [
    {
     "name": "stdout",
     "output_type": "stream",
     "text": [
      "('\\n'\n",
      " 'Assistente: [\"Sinfonia Cosmica di Andromeda\", \"Risveglio Cosmico: Una '\n",
      " 'Sinfonia di Sapori Universali\", \"Odissea Celestiale\"]')\n"
     ]
    }
   ],
   "source": [
    "import pprint\n",
    "pprint.pprint(response_text)"
   ]
  },
  {
   "cell_type": "code",
   "execution_count": 280,
   "metadata": {},
   "outputs": [],
   "source": [
    "def levenshteinDistance(s1, s2):\n",
    "    if len(s1) > len(s2):\n",
    "        s1, s2 = s2, s1\n",
    "\n",
    "    distances = range(len(s1) + 1)\n",
    "    for i2, c2 in enumerate(s2):\n",
    "        distances_ = [i2+1]\n",
    "        for i1, c1 in enumerate(s1):\n",
    "            if c1 == c2:\n",
    "                distances_.append(distances[i1])\n",
    "            else:\n",
    "                distances_.append(1 + min((distances[i1], distances[i1 + 1], distances_[-1])))\n",
    "        distances = distances_\n",
    "    return distances[-1]"
   ]
  },
  {
   "cell_type": "code",
   "execution_count": 310,
   "metadata": {},
   "outputs": [],
   "source": [
    "import json\n",
    "with open('./data/Misc/dish_mapping.json', 'r') as f:\n",
    "    json_data = json.load(f)"
   ]
  },
  {
   "cell_type": "code",
   "execution_count": 344,
   "metadata": {},
   "outputs": [],
   "source": [
    "def generate_submission(json_data = json_data):\n",
    "    import re, json, ast\n",
    "    domande_test = pd.read_csv('./data/domande.csv')\n",
    "    out = pd.DataFrame(columns=['row_id', 'result'])\n",
    "    i = 1\n",
    "\n",
    "    for q in domande_test['domanda'][:2]:\n",
    "        response = rag_chain.invoke(q)\n",
    "        match = re.search(r'\\[[^\\]]*\\]', response)\n",
    "        string_list = ast.literal_eval(match.group(0))\n",
    "        \n",
    "        string_list_proj = []\n",
    "\n",
    "        for s1 in string_list:\n",
    "            opt = float('inf')\n",
    "            s1_proj = ''\n",
    "\n",
    "            for s2 in list(json_data.keys()):\n",
    "                dist = levenshteinDistance(s1, s2)\n",
    "                if dist < opt:\n",
    "                    opt = dist\n",
    "                    s1_proj = s2\n",
    "\n",
    "            string_list_proj += [json_data[s1_proj]]\n",
    "\n",
    "        out = pd.concat([out, pd.DataFrame([[int(i), f'{\",\".join(str(s) for s in string_list_proj)}']], columns=['row_id', 'result'])], ignore_index=True)\n",
    "        i=i+1\n",
    "    \n",
    "    return out"
   ]
  },
  {
   "cell_type": "code",
   "execution_count": 345,
   "metadata": {},
   "outputs": [
    {
     "ename": "AttributeError",
     "evalue": "'Index' object has no attribute '_format_native_types'",
     "output_type": "error",
     "traceback": [
      "\u001b[0;31m---------------------------------------------------------------------------\u001b[0m",
      "\u001b[0;31mAttributeError\u001b[0m                            Traceback (most recent call last)",
      "Cell \u001b[0;32mIn[345], line 2\u001b[0m\n\u001b[1;32m      1\u001b[0m out \u001b[38;5;241m=\u001b[39m generate_submission()\n\u001b[0;32m----> 2\u001b[0m \u001b[43mout\u001b[49m\u001b[38;5;241;43m.\u001b[39;49m\u001b[43mto_csv\u001b[49m\u001b[43m(\u001b[49m\u001b[43mpath_or_buf\u001b[49m\u001b[38;5;241;43m=\u001b[39;49m\u001b[38;5;124;43m'\u001b[39;49m\u001b[38;5;124;43msubmission.csv\u001b[39;49m\u001b[38;5;124;43m'\u001b[39;49m\u001b[43m,\u001b[49m\u001b[43m \u001b[49m\u001b[43mindex\u001b[49m\u001b[38;5;241;43m=\u001b[39;49m\u001b[38;5;28;43;01mFalse\u001b[39;49;00m\u001b[43m)\u001b[49m\n",
      "File \u001b[0;32m~/VSCodeProjects/PythonProjects/.venv/lib/python3.12/site-packages/pandas/util/_decorators.py:333\u001b[0m, in \u001b[0;36mdeprecate_nonkeyword_arguments.<locals>.decorate.<locals>.wrapper\u001b[0;34m(*args, **kwargs)\u001b[0m\n\u001b[1;32m    327\u001b[0m \u001b[38;5;28;01mif\u001b[39;00m \u001b[38;5;28mlen\u001b[39m(args) \u001b[38;5;241m>\u001b[39m num_allow_args:\n\u001b[1;32m    328\u001b[0m     warnings\u001b[38;5;241m.\u001b[39mwarn(\n\u001b[1;32m    329\u001b[0m         msg\u001b[38;5;241m.\u001b[39mformat(arguments\u001b[38;5;241m=\u001b[39m_format_argument_list(allow_args)),\n\u001b[1;32m    330\u001b[0m         \u001b[38;5;167;01mFutureWarning\u001b[39;00m,\n\u001b[1;32m    331\u001b[0m         stacklevel\u001b[38;5;241m=\u001b[39mfind_stack_level(),\n\u001b[1;32m    332\u001b[0m     )\n\u001b[0;32m--> 333\u001b[0m \u001b[38;5;28;01mreturn\u001b[39;00m \u001b[43mfunc\u001b[49m\u001b[43m(\u001b[49m\u001b[38;5;241;43m*\u001b[39;49m\u001b[43margs\u001b[49m\u001b[43m,\u001b[49m\u001b[43m \u001b[49m\u001b[38;5;241;43m*\u001b[39;49m\u001b[38;5;241;43m*\u001b[39;49m\u001b[43mkwargs\u001b[49m\u001b[43m)\u001b[49m\n",
      "File \u001b[0;32m~/VSCodeProjects/PythonProjects/.venv/lib/python3.12/site-packages/pandas/core/generic.py:3967\u001b[0m, in \u001b[0;36mto_csv\u001b[0;34m(self, path_or_buf, sep, na_rep, float_format, columns, header, index, index_label, mode, encoding, compression, quoting, quotechar, lineterminator, chunksize, date_format, doublequote, escapechar, decimal, errors, storage_options)\u001b[0m\n\u001b[1;32m   3962\u001b[0m \u001b[38;5;129m@final\u001b[39m\n\u001b[1;32m   3963\u001b[0m \u001b[38;5;28;01mdef\u001b[39;00m\u001b[38;5;250m \u001b[39m\u001b[38;5;21mtake\u001b[39m(\u001b[38;5;28mself\u001b[39m, indices, axis: Axis \u001b[38;5;241m=\u001b[39m \u001b[38;5;241m0\u001b[39m, \u001b[38;5;241m*\u001b[39m\u001b[38;5;241m*\u001b[39mkwargs) \u001b[38;5;241m-\u001b[39m\u001b[38;5;241m>\u001b[39m Self:\n\u001b[1;32m   3964\u001b[0m \u001b[38;5;250m    \u001b[39m\u001b[38;5;124;03m\"\"\"\u001b[39;00m\n\u001b[1;32m   3965\u001b[0m \u001b[38;5;124;03m    Return the elements in the given *positional* indices along an axis.\u001b[39;00m\n\u001b[1;32m   3966\u001b[0m \n\u001b[0;32m-> 3967\u001b[0m \u001b[38;5;124;03m    This means that we are not indexing according to actual values in\u001b[39;00m\n\u001b[1;32m   3968\u001b[0m \u001b[38;5;124;03m    the index attribute of the object. We are indexing according to the\u001b[39;00m\n\u001b[1;32m   3969\u001b[0m \u001b[38;5;124;03m    actual position of the element in the object.\u001b[39;00m\n\u001b[1;32m   3970\u001b[0m \n\u001b[1;32m   3971\u001b[0m \u001b[38;5;124;03m    Parameters\u001b[39;00m\n\u001b[1;32m   3972\u001b[0m \u001b[38;5;124;03m    ----------\u001b[39;00m\n\u001b[1;32m   3973\u001b[0m \u001b[38;5;124;03m    indices : array-like\u001b[39;00m\n\u001b[1;32m   3974\u001b[0m \u001b[38;5;124;03m        An array of ints indicating which positions to take.\u001b[39;00m\n\u001b[1;32m   3975\u001b[0m \u001b[38;5;124;03m    axis : {0 or 'index', 1 or 'columns', None}, default 0\u001b[39;00m\n\u001b[1;32m   3976\u001b[0m \u001b[38;5;124;03m        The axis on which to select elements. ``0`` means that we are\u001b[39;00m\n\u001b[1;32m   3977\u001b[0m \u001b[38;5;124;03m        selecting rows, ``1`` means that we are selecting columns.\u001b[39;00m\n\u001b[1;32m   3978\u001b[0m \u001b[38;5;124;03m        For `Series` this parameter is unused and defaults to 0.\u001b[39;00m\n\u001b[1;32m   3979\u001b[0m \u001b[38;5;124;03m    **kwargs\u001b[39;00m\n\u001b[1;32m   3980\u001b[0m \u001b[38;5;124;03m        For compatibility with :meth:`numpy.take`. Has no effect on the\u001b[39;00m\n\u001b[1;32m   3981\u001b[0m \u001b[38;5;124;03m        output.\u001b[39;00m\n\u001b[1;32m   3982\u001b[0m \n\u001b[1;32m   3983\u001b[0m \u001b[38;5;124;03m    Returns\u001b[39;00m\n\u001b[1;32m   3984\u001b[0m \u001b[38;5;124;03m    -------\u001b[39;00m\n\u001b[1;32m   3985\u001b[0m \u001b[38;5;124;03m    same type as caller\u001b[39;00m\n\u001b[1;32m   3986\u001b[0m \u001b[38;5;124;03m        An array-like containing the elements taken from the object.\u001b[39;00m\n\u001b[1;32m   3987\u001b[0m \n\u001b[1;32m   3988\u001b[0m \u001b[38;5;124;03m    See Also\u001b[39;00m\n\u001b[1;32m   3989\u001b[0m \u001b[38;5;124;03m    --------\u001b[39;00m\n\u001b[1;32m   3990\u001b[0m \u001b[38;5;124;03m    DataFrame.loc : Select a subset of a DataFrame by labels.\u001b[39;00m\n\u001b[1;32m   3991\u001b[0m \u001b[38;5;124;03m    DataFrame.iloc : Select a subset of a DataFrame by positions.\u001b[39;00m\n\u001b[1;32m   3992\u001b[0m \u001b[38;5;124;03m    numpy.take : Take elements from an array along an axis.\u001b[39;00m\n\u001b[1;32m   3993\u001b[0m \n\u001b[1;32m   3994\u001b[0m \u001b[38;5;124;03m    Examples\u001b[39;00m\n\u001b[1;32m   3995\u001b[0m \u001b[38;5;124;03m    --------\u001b[39;00m\n\u001b[1;32m   3996\u001b[0m \u001b[38;5;124;03m    >>> df = pd.DataFrame([('falcon', 'bird', 389.0),\u001b[39;00m\n\u001b[1;32m   3997\u001b[0m \u001b[38;5;124;03m    ...                    ('parrot', 'bird', 24.0),\u001b[39;00m\n\u001b[1;32m   3998\u001b[0m \u001b[38;5;124;03m    ...                    ('lion', 'mammal', 80.5),\u001b[39;00m\n\u001b[1;32m   3999\u001b[0m \u001b[38;5;124;03m    ...                    ('monkey', 'mammal', np.nan)],\u001b[39;00m\n\u001b[1;32m   4000\u001b[0m \u001b[38;5;124;03m    ...                   columns=['name', 'class', 'max_speed'],\u001b[39;00m\n\u001b[1;32m   4001\u001b[0m \u001b[38;5;124;03m    ...                   index=[0, 2, 3, 1])\u001b[39;00m\n\u001b[1;32m   4002\u001b[0m \u001b[38;5;124;03m    >>> df\u001b[39;00m\n\u001b[1;32m   4003\u001b[0m \u001b[38;5;124;03m         name   class  max_speed\u001b[39;00m\n\u001b[1;32m   4004\u001b[0m \u001b[38;5;124;03m    0  falcon    bird      389.0\u001b[39;00m\n\u001b[1;32m   4005\u001b[0m \u001b[38;5;124;03m    2  parrot    bird       24.0\u001b[39;00m\n\u001b[1;32m   4006\u001b[0m \u001b[38;5;124;03m    3    lion  mammal       80.5\u001b[39;00m\n\u001b[1;32m   4007\u001b[0m \u001b[38;5;124;03m    1  monkey  mammal        NaN\u001b[39;00m\n\u001b[1;32m   4008\u001b[0m \n\u001b[1;32m   4009\u001b[0m \u001b[38;5;124;03m    Take elements at positions 0 and 3 along the axis 0 (default).\u001b[39;00m\n\u001b[1;32m   4010\u001b[0m \n\u001b[1;32m   4011\u001b[0m \u001b[38;5;124;03m    Note how the actual indices selected (0 and 1) do not correspond to\u001b[39;00m\n\u001b[1;32m   4012\u001b[0m \u001b[38;5;124;03m    our selected indices 0 and 3. That's because we are selecting the 0th\u001b[39;00m\n\u001b[1;32m   4013\u001b[0m \u001b[38;5;124;03m    and 3rd rows, not rows whose indices equal 0 and 3.\u001b[39;00m\n\u001b[1;32m   4014\u001b[0m \n\u001b[1;32m   4015\u001b[0m \u001b[38;5;124;03m    >>> df.take([0, 3])\u001b[39;00m\n\u001b[1;32m   4016\u001b[0m \u001b[38;5;124;03m         name   class  max_speed\u001b[39;00m\n\u001b[1;32m   4017\u001b[0m \u001b[38;5;124;03m    0  falcon    bird      389.0\u001b[39;00m\n\u001b[1;32m   4018\u001b[0m \u001b[38;5;124;03m    1  monkey  mammal        NaN\u001b[39;00m\n\u001b[1;32m   4019\u001b[0m \n\u001b[1;32m   4020\u001b[0m \u001b[38;5;124;03m    Take elements at indices 1 and 2 along the axis 1 (column selection).\u001b[39;00m\n\u001b[1;32m   4021\u001b[0m \n\u001b[1;32m   4022\u001b[0m \u001b[38;5;124;03m    >>> df.take([1, 2], axis=1)\u001b[39;00m\n\u001b[1;32m   4023\u001b[0m \u001b[38;5;124;03m        class  max_speed\u001b[39;00m\n\u001b[1;32m   4024\u001b[0m \u001b[38;5;124;03m    0    bird      389.0\u001b[39;00m\n\u001b[1;32m   4025\u001b[0m \u001b[38;5;124;03m    2    bird       24.0\u001b[39;00m\n\u001b[1;32m   4026\u001b[0m \u001b[38;5;124;03m    3  mammal       80.5\u001b[39;00m\n\u001b[1;32m   4027\u001b[0m \u001b[38;5;124;03m    1  mammal        NaN\u001b[39;00m\n\u001b[1;32m   4028\u001b[0m \n\u001b[1;32m   4029\u001b[0m \u001b[38;5;124;03m    We may take elements using negative integers for positive indices,\u001b[39;00m\n\u001b[1;32m   4030\u001b[0m \u001b[38;5;124;03m    starting from the end of the object, just like with Python lists.\u001b[39;00m\n\u001b[1;32m   4031\u001b[0m \n\u001b[1;32m   4032\u001b[0m \u001b[38;5;124;03m    >>> df.take([-1, -2])\u001b[39;00m\n\u001b[1;32m   4033\u001b[0m \u001b[38;5;124;03m         name   class  max_speed\u001b[39;00m\n\u001b[1;32m   4034\u001b[0m \u001b[38;5;124;03m    1  monkey  mammal        NaN\u001b[39;00m\n\u001b[1;32m   4035\u001b[0m \u001b[38;5;124;03m    3    lion  mammal       80.5\u001b[39;00m\n\u001b[1;32m   4036\u001b[0m \u001b[38;5;124;03m    \"\"\"\u001b[39;00m\n\u001b[1;32m   4038\u001b[0m     nv\u001b[38;5;241m.\u001b[39mvalidate_take((), kwargs)\n\u001b[1;32m   4040\u001b[0m     \u001b[38;5;28;01mif\u001b[39;00m \u001b[38;5;129;01mnot\u001b[39;00m \u001b[38;5;28misinstance\u001b[39m(indices, \u001b[38;5;28mslice\u001b[39m):\n",
      "File \u001b[0;32m~/VSCodeProjects/PythonProjects/.venv/lib/python3.12/site-packages/pandas/io/formats/format.py:995\u001b[0m, in \u001b[0;36mto_csv\u001b[0;34m(self, path_or_buf, encoding, sep, columns, index_label, mode, compression, quoting, quotechar, lineterminator, chunksize, date_format, doublequote, escapechar, errors, storage_options)\u001b[0m\n\u001b[1;32m      0\u001b[0m <Error retrieving source code with stack_data see ipython/ipython#13598>\n",
      "File \u001b[0;32m~/VSCodeProjects/PythonProjects/.venv/lib/python3.12/site-packages/pandas/io/formats/csvs.py:96\u001b[0m, in \u001b[0;36mCSVFormatter.__init__\u001b[0;34m(self, formatter, path_or_buf, sep, cols, index_label, mode, encoding, errors, compression, quoting, lineterminator, chunksize, quotechar, date_format, doublequote, escapechar, storage_options)\u001b[0m\n\u001b[1;32m     94\u001b[0m \u001b[38;5;28mself\u001b[39m\u001b[38;5;241m.\u001b[39mlineterminator \u001b[38;5;241m=\u001b[39m lineterminator \u001b[38;5;129;01mor\u001b[39;00m os\u001b[38;5;241m.\u001b[39mlinesep\n\u001b[1;32m     95\u001b[0m \u001b[38;5;28mself\u001b[39m\u001b[38;5;241m.\u001b[39mdate_format \u001b[38;5;241m=\u001b[39m date_format\n\u001b[0;32m---> 96\u001b[0m \u001b[38;5;28mself\u001b[39m\u001b[38;5;241m.\u001b[39mcols \u001b[38;5;241m=\u001b[39m \u001b[38;5;28;43mself\u001b[39;49m\u001b[38;5;241;43m.\u001b[39;49m\u001b[43m_initialize_columns\u001b[49m\u001b[43m(\u001b[49m\u001b[43mcols\u001b[49m\u001b[43m)\u001b[49m\n\u001b[1;32m     97\u001b[0m \u001b[38;5;28mself\u001b[39m\u001b[38;5;241m.\u001b[39mchunksize \u001b[38;5;241m=\u001b[39m \u001b[38;5;28mself\u001b[39m\u001b[38;5;241m.\u001b[39m_initialize_chunksize(chunksize)\n",
      "File \u001b[0;32m~/VSCodeProjects/PythonProjects/.venv/lib/python3.12/site-packages/pandas/io/formats/csvs.py:168\u001b[0m, in \u001b[0;36mCSVFormatter._initialize_columns\u001b[0;34m(self, cols)\u001b[0m\n\u001b[1;32m    165\u001b[0m \u001b[38;5;66;03m# update columns to include possible multiplicity of dupes\u001b[39;00m\n\u001b[1;32m    166\u001b[0m \u001b[38;5;66;03m# and make sure cols is just a list of labels\u001b[39;00m\n\u001b[1;32m    167\u001b[0m new_cols \u001b[38;5;241m=\u001b[39m \u001b[38;5;28mself\u001b[39m\u001b[38;5;241m.\u001b[39mobj\u001b[38;5;241m.\u001b[39mcolumns\n\u001b[0;32m--> 168\u001b[0m \u001b[38;5;28;01mreturn\u001b[39;00m \u001b[43mnew_cols\u001b[49m\u001b[38;5;241;43m.\u001b[39;49m\u001b[43m_format_native_types\u001b[49m(\u001b[38;5;241m*\u001b[39m\u001b[38;5;241m*\u001b[39m\u001b[38;5;28mself\u001b[39m\u001b[38;5;241m.\u001b[39m_number_format)\n",
      "\u001b[0;31mAttributeError\u001b[0m: 'Index' object has no attribute '_format_native_types'"
     ]
    }
   ],
   "source": [
    "out = generate_submission()\n",
    "out.to_csv(path_or_buf='submission.csv', index=False)"
   ]
  },
  {
   "cell_type": "code",
   "execution_count": 340,
   "metadata": {},
   "outputs": [],
   "source": [
    "import csv\n",
    "\n",
    "out = generate_submission()\n",
    "\n",
    "with open('submission.csv', mode='w', newline='') as file:\n",
    "    writer = csv.writer(file)\n",
    "    \n",
    "    # Write the header\n",
    "    writer.writerow(out.columns)\n",
    "    \n",
    "    # Write the data rows\n",
    "    writer.writerows(out.values)\n",
    "\n",
    "#out.to_csv(\"submission.csv\", ignore_index=True)"
   ]
  },
  {
   "cell_type": "code",
   "execution_count": 338,
   "metadata": {},
   "outputs": [
    {
     "data": {
      "text/plain": [
       "str"
      ]
     },
     "execution_count": 338,
     "metadata": {},
     "output_type": "execute_result"
    }
   ],
   "source": [
    "type(out['result'][0])"
   ]
  },
  {
   "cell_type": "code",
   "execution_count": 302,
   "metadata": {},
   "outputs": [
    {
     "data": {
      "text/plain": [
       "0    Quali sono i piatti che includono le Chocobo W...\n",
       "1    Quali piatti dovrei scegliere per un banchetto...\n",
       "Name: domanda, dtype: object"
      ]
     },
     "execution_count": 302,
     "metadata": {},
     "output_type": "execute_result"
    }
   ],
   "source": [
    "domande_test = pd.read_csv('./data/domande.csv')\n",
    "domande_test['domanda'][0:2]"
   ]
  },
  {
   "cell_type": "code",
   "execution_count": 304,
   "metadata": {},
   "outputs": [
    {
     "name": "stdout",
     "output_type": "stream",
     "text": [
      "Quali sono i piatti che includono le Chocobo Wings come ingrediente? \n",
      "Assistente: [\"Il Viaggio Celeste\"]\n",
      "Quali piatti dovrei scegliere per un banchetto a tema magico che includa le celebri Cioccorane? \n",
      "[\"Gnocchi del Crepuscolo\", \"Sinfonia Celestiale dei Ricordi\", \"Sfere del Ricordo Astrale\"]\n"
     ]
    }
   ],
   "source": [
    "domande_test = pd.read_csv('./data/domande.csv')\n",
    "\n",
    "for q in domande_test['domanda'][:2]:\n",
    "    response = rag_chain.invoke(q)\n",
    "    print(q, response)"
   ]
  }
 ],
 "metadata": {
  "kernelspec": {
   "display_name": ".venv",
   "language": "python",
   "name": "python3"
  },
  "language_info": {
   "codemirror_mode": {
    "name": "ipython",
    "version": 3
   },
   "file_extension": ".py",
   "mimetype": "text/x-python",
   "name": "python",
   "nbconvert_exporter": "python",
   "pygments_lexer": "ipython3",
   "version": "3.12.3"
  }
 },
 "nbformat": 4,
 "nbformat_minor": 2
}
