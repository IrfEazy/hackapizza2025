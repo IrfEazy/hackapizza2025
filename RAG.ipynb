{
 "cells": [
  {
   "cell_type": "markdown",
   "metadata": {},
   "source": [
    "# Import dataset"
   ]
  },
  {
   "cell_type": "code",
   "execution_count": 7,
   "metadata": {},
   "outputs": [
    {
     "data": {
      "text/html": [
       "<div>\n",
       "<style scoped>\n",
       "    .dataframe tbody tr th:only-of-type {\n",
       "        vertical-align: middle;\n",
       "    }\n",
       "\n",
       "    .dataframe tbody tr th {\n",
       "        vertical-align: top;\n",
       "    }\n",
       "\n",
       "    .dataframe thead th {\n",
       "        text-align: right;\n",
       "    }\n",
       "</style>\n",
       "<table border=\"1\" class=\"dataframe\">\n",
       "  <thead>\n",
       "    <tr style=\"text-align: right;\">\n",
       "      <th></th>\n",
       "      <th>FileName</th>\n",
       "      <th>Text</th>\n",
       "    </tr>\n",
       "  </thead>\n",
       "  <tbody>\n",
       "    <tr>\n",
       "      <th>0</th>\n",
       "      <td>Sapore del Dune.pdf</td>\n",
       "      <td>Ristorante \"Sapore del Dune\"\\nChef Alessandra ...</td>\n",
       "    </tr>\n",
       "    <tr>\n",
       "      <th>1</th>\n",
       "      <td>Universo Gastronomico di Namecc.pdf</td>\n",
       "      <td>Universo Gastronomico di Namecc\\nChef Alice Qu...</td>\n",
       "    </tr>\n",
       "    <tr>\n",
       "      <th>2</th>\n",
       "      <td>L Equilibrio Quantico.pdf</td>\n",
       "      <td>Ristorante \"L'Equilibrio Quantico\"\\nChef Aless...</td>\n",
       "    </tr>\n",
       "    <tr>\n",
       "      <th>3</th>\n",
       "      <td>L Architetto dell Universo.pdf</td>\n",
       "      <td>Ristorante \"L'Architetto dell'Universo\"\\nChef ...</td>\n",
       "    </tr>\n",
       "    <tr>\n",
       "      <th>4</th>\n",
       "      <td>L Essenza Cosmica.pdf</td>\n",
       "      <td>Ristorante \"L'Essenza Cosmica\"\\n\\nChef Alessan...</td>\n",
       "    </tr>\n",
       "    <tr>\n",
       "      <th>5</th>\n",
       "      <td>Stelle Astrofisiche.pdf</td>\n",
       "      <td>Ristorante \"Stelle Astrofisiche\"\\nChef Alessan...</td>\n",
       "    </tr>\n",
       "    <tr>\n",
       "      <th>6</th>\n",
       "      <td>L Essenza di Asgard.pdf</td>\n",
       "      <td>Ristorante: L'Essenza di Asgard\\nChef Palissan...</td>\n",
       "    </tr>\n",
       "    <tr>\n",
       "      <th>7</th>\n",
       "      <td>Eco di Pandora.pdf</td>\n",
       "      <td>Ristorante \"L'Eco di Pandora\"\\nChef Alessandra...</td>\n",
       "    </tr>\n",
       "    <tr>\n",
       "      <th>8</th>\n",
       "      <td>L Eco dei Sapori.pdf</td>\n",
       "      <td>L'Eco dei Sapori\\nChef Aurora Vessanti\\n\\nNell...</td>\n",
       "    </tr>\n",
       "    <tr>\n",
       "      <th>9</th>\n",
       "      <td>L Essenza delle Dune.pdf</td>\n",
       "      <td>Ristorante \"L'Essenza delle Dune\"\\nChef Alessa...</td>\n",
       "    </tr>\n",
       "    <tr>\n",
       "      <th>10</th>\n",
       "      <td>L Universo in Cucina.pdf</td>\n",
       "      <td>Ristorante \"L'Universo in Cucina\"\\nChef Crina ...</td>\n",
       "    </tr>\n",
       "    <tr>\n",
       "      <th>11</th>\n",
       "      <td>Cosmica Essenza.pdf</td>\n",
       "      <td>Cosmica Essenza\\nAlla guida dello Chef Aurelio...</td>\n",
       "    </tr>\n",
       "    <tr>\n",
       "      <th>12</th>\n",
       "      <td>L Oasi delle Dune Stellari.pdf</td>\n",
       "      <td>Ristorante \"L'Oasi delle Dune Stellari\"\\nChef:...</td>\n",
       "    </tr>\n",
       "    <tr>\n",
       "      <th>13</th>\n",
       "      <td>Le Stelle Danzanti.pdf</td>\n",
       "      <td>Ristorante \"Le Stelle Danzanti\"\\nChef Asteria ...</td>\n",
       "    </tr>\n",
       "    <tr>\n",
       "      <th>14</th>\n",
       "      <td>Sala del Valhalla.pdf</td>\n",
       "      <td>Sala del Valhalla\\nBanchetto Asgardiano di Ecc...</td>\n",
       "    </tr>\n",
       "    <tr>\n",
       "      <th>15</th>\n",
       "      <td>Stelle dell Infinito Celestiale.pdf</td>\n",
       "      <td>Ristorante \"Stelle dell'Infinito Celestiale\"\\n...</td>\n",
       "    </tr>\n",
       "    <tr>\n",
       "      <th>16</th>\n",
       "      <td>Ristorante Quantico.pdf</td>\n",
       "      <td>Ristorante Quantico\\nChef Alessandra Temporini...</td>\n",
       "    </tr>\n",
       "    <tr>\n",
       "      <th>17</th>\n",
       "      <td>Le Dimensioni del Gusto.pdf</td>\n",
       "      <td>Ristorante \"Le Dimensioni del Gusto\"\\n        ...</td>\n",
       "    </tr>\n",
       "    <tr>\n",
       "      <th>18</th>\n",
       "      <td>Datapizza.pdf</td>\n",
       "      <td>Ristorante \"L'Infinito Sapore\"\\nViaggio nel Te...</td>\n",
       "    </tr>\n",
       "    <tr>\n",
       "      <th>19</th>\n",
       "      <td>Tutti a TARSvola.pdf</td>\n",
       "      <td>Ristorante \"Tutti a TARSvola\"\\nChef Executive:...</td>\n",
       "    </tr>\n",
       "    <tr>\n",
       "      <th>20</th>\n",
       "      <td>Armonia Universale.pdf</td>\n",
       "      <td>Ristorante \"Armonia Universale\"\\nChef: Maestro...</td>\n",
       "    </tr>\n",
       "    <tr>\n",
       "      <th>21</th>\n",
       "      <td>Le Stelle che Ballano.pdf</td>\n",
       "      <td>Ristorante \"Le Stelle che Ballano\"\\nChef Aless...</td>\n",
       "    </tr>\n",
       "    <tr>\n",
       "      <th>22</th>\n",
       "      <td>L Etere del Gusto.pdf</td>\n",
       "      <td>Ristorante \"L'Etere del Gusto\"\\nChef Executivo...</td>\n",
       "    </tr>\n",
       "    <tr>\n",
       "      <th>23</th>\n",
       "      <td>Essenza dell Infinito.pdf</td>\n",
       "      <td>Ristorante \"L'Essenza dell'Infinito\"\\nChef Lun...</td>\n",
       "    </tr>\n",
       "    <tr>\n",
       "      <th>24</th>\n",
       "      <td>Anima Cosmica.pdf</td>\n",
       "      <td>Ristorante \"Anima Cosmica\"\\nChef Aurora Stella...</td>\n",
       "    </tr>\n",
       "    <tr>\n",
       "      <th>25</th>\n",
       "      <td>Eredita Galattica.pdf</td>\n",
       "      <td>L'Eredità Galattica\\nHub Temporale della Gastr...</td>\n",
       "    </tr>\n",
       "    <tr>\n",
       "      <th>26</th>\n",
       "      <td>Il Firmamento.pdf</td>\n",
       "      <td>Il Firmamento\\nChef: Maestro Alessio \"Eterno\" ...</td>\n",
       "    </tr>\n",
       "    <tr>\n",
       "      <th>27</th>\n",
       "      <td>L infinito in un Boccone.pdf</td>\n",
       "      <td>Ristorante \"L'Infinito in un Boccone\"\\n\\nChef ...</td>\n",
       "    </tr>\n",
       "    <tr>\n",
       "      <th>28</th>\n",
       "      <td>L Essenza del Multiverso su Pandora.pdf</td>\n",
       "      <td>L'Essenza del Multiverso su Pandora\\nChef Matt...</td>\n",
       "    </tr>\n",
       "    <tr>\n",
       "      <th>29</th>\n",
       "      <td>Ristorante delle Dune Stellari.pdf</td>\n",
       "      <td>Il Ristorante delle Dune Stellari\\nChef Alessa...</td>\n",
       "    </tr>\n",
       "  </tbody>\n",
       "</table>\n",
       "</div>"
      ],
      "text/plain": [
       "                                   FileName  \\\n",
       "0                       Sapore del Dune.pdf   \n",
       "1       Universo Gastronomico di Namecc.pdf   \n",
       "2                 L Equilibrio Quantico.pdf   \n",
       "3            L Architetto dell Universo.pdf   \n",
       "4                     L Essenza Cosmica.pdf   \n",
       "5                   Stelle Astrofisiche.pdf   \n",
       "6                   L Essenza di Asgard.pdf   \n",
       "7                        Eco di Pandora.pdf   \n",
       "8                      L Eco dei Sapori.pdf   \n",
       "9                  L Essenza delle Dune.pdf   \n",
       "10                 L Universo in Cucina.pdf   \n",
       "11                      Cosmica Essenza.pdf   \n",
       "12           L Oasi delle Dune Stellari.pdf   \n",
       "13                   Le Stelle Danzanti.pdf   \n",
       "14                    Sala del Valhalla.pdf   \n",
       "15      Stelle dell Infinito Celestiale.pdf   \n",
       "16                  Ristorante Quantico.pdf   \n",
       "17              Le Dimensioni del Gusto.pdf   \n",
       "18                            Datapizza.pdf   \n",
       "19                     Tutti a TARSvola.pdf   \n",
       "20                   Armonia Universale.pdf   \n",
       "21                Le Stelle che Ballano.pdf   \n",
       "22                    L Etere del Gusto.pdf   \n",
       "23                Essenza dell Infinito.pdf   \n",
       "24                        Anima Cosmica.pdf   \n",
       "25                    Eredita Galattica.pdf   \n",
       "26                        Il Firmamento.pdf   \n",
       "27             L infinito in un Boccone.pdf   \n",
       "28  L Essenza del Multiverso su Pandora.pdf   \n",
       "29       Ristorante delle Dune Stellari.pdf   \n",
       "\n",
       "                                                 Text  \n",
       "0   Ristorante \"Sapore del Dune\"\\nChef Alessandra ...  \n",
       "1   Universo Gastronomico di Namecc\\nChef Alice Qu...  \n",
       "2   Ristorante \"L'Equilibrio Quantico\"\\nChef Aless...  \n",
       "3   Ristorante \"L'Architetto dell'Universo\"\\nChef ...  \n",
       "4   Ristorante \"L'Essenza Cosmica\"\\n\\nChef Alessan...  \n",
       "5   Ristorante \"Stelle Astrofisiche\"\\nChef Alessan...  \n",
       "6   Ristorante: L'Essenza di Asgard\\nChef Palissan...  \n",
       "7   Ristorante \"L'Eco di Pandora\"\\nChef Alessandra...  \n",
       "8   L'Eco dei Sapori\\nChef Aurora Vessanti\\n\\nNell...  \n",
       "9   Ristorante \"L'Essenza delle Dune\"\\nChef Alessa...  \n",
       "10  Ristorante \"L'Universo in Cucina\"\\nChef Crina ...  \n",
       "11  Cosmica Essenza\\nAlla guida dello Chef Aurelio...  \n",
       "12  Ristorante \"L'Oasi delle Dune Stellari\"\\nChef:...  \n",
       "13  Ristorante \"Le Stelle Danzanti\"\\nChef Asteria ...  \n",
       "14  Sala del Valhalla\\nBanchetto Asgardiano di Ecc...  \n",
       "15  Ristorante \"Stelle dell'Infinito Celestiale\"\\n...  \n",
       "16  Ristorante Quantico\\nChef Alessandra Temporini...  \n",
       "17  Ristorante \"Le Dimensioni del Gusto\"\\n        ...  \n",
       "18  Ristorante \"L'Infinito Sapore\"\\nViaggio nel Te...  \n",
       "19  Ristorante \"Tutti a TARSvola\"\\nChef Executive:...  \n",
       "20  Ristorante \"Armonia Universale\"\\nChef: Maestro...  \n",
       "21  Ristorante \"Le Stelle che Ballano\"\\nChef Aless...  \n",
       "22  Ristorante \"L'Etere del Gusto\"\\nChef Executivo...  \n",
       "23  Ristorante \"L'Essenza dell'Infinito\"\\nChef Lun...  \n",
       "24  Ristorante \"Anima Cosmica\"\\nChef Aurora Stella...  \n",
       "25  L'Eredità Galattica\\nHub Temporale della Gastr...  \n",
       "26  Il Firmamento\\nChef: Maestro Alessio \"Eterno\" ...  \n",
       "27  Ristorante \"L'Infinito in un Boccone\"\\n\\nChef ...  \n",
       "28  L'Essenza del Multiverso su Pandora\\nChef Matt...  \n",
       "29  Il Ristorante delle Dune Stellari\\nChef Alessa...  "
      ]
     },
     "metadata": {},
     "output_type": "display_data"
    },
    {
     "name": "stdout",
     "output_type": "stream",
     "text": [
      "DataFrame loaded with 30 rows and 2 columns.\n"
     ]
    }
   ],
   "source": [
    "import pandas as pd\n",
    "\n",
    "# Define the file path\n",
    "csv_file_path = './output/menus.csv'\n",
    "\n",
    "# Read the CSV file and assign headers explicitly\n",
    "df = pd.read_csv(csv_file_path, header=None, names=[\"FileName\", \"Text\"])\n",
    "\n",
    "# Display the first few rows of the DataFrame\n",
    "display(df)\n",
    "\n",
    "# Confirm the data has been successfully loaded\n",
    "print(f\"DataFrame loaded with {len(df)} rows and {len(df.columns)} columns.\")"
   ]
  },
  {
   "cell_type": "code",
   "execution_count": 8,
   "metadata": {},
   "outputs": [],
   "source": [
    "from langchain import hub\n",
    "from langchain.text_splitter import RecursiveCharacterTextSplitter\n",
    "from langchain_core.output_parsers import StrOutputParser\n",
    "from langchain_core.runnables import RunnablePassthrough"
   ]
  },
  {
   "cell_type": "code",
   "execution_count": 10,
   "metadata": {},
   "outputs": [
    {
     "data": {
      "text/plain": [
       "Document(metadata={'FileName': 'Sapore del Dune.pdf'}, page_content='Ristorante \"Sapore del Dune\"\\nChef Alessandra Quanti\\n\\nNel cuore arido di Tatooine, dove i mondi si mescolano e le stelle guidano i viaggiatori intergalattici, Chef\\nAlessandra Quanti porta una rivoluzione culinaria che sfida le distanze siderali. Non è raro vedere i\\ncommensali rimanere incantati osservando i suoi piatti che sembrano danzare tra le dune e le stelle, frutto\\ndella sua straordinaria padronanza degli stati quantici, che le permette di esplorare e materializzare le infinite\\npossibilità nascoste in ogni ingrediente rarefatto del deserto.\\n\\nLa sua storia ebbe inizio nei laboratori di spezie di Mos Eisley, dove la passione per la gastronomia\\nmolecolare si fuse con la sua profonda comprensione dell\\'universo subatomico. Fu proprio durante un\\nesperimento particolarmente intenso con i Cristalli Kyber che scoprì la sua innata capacità di percepire le\\nprobabilità culinarie, un dono che trasformò ogni sua creazione in un\\'esperienza di perfezione matematica\\nanche tra le tempeste di sabbia.\\n\\nLe sue presentazioni sono vere opere d\\'arte viventi, dove la luce danza e si trasforma, creando atmosfere\\nche portano gli ospiti in un viaggio tra le galassie. I commensali più attenti potrebbero notare come alcuni\\nelementi dei suoi piatti sembrino sfidare gentilmente la gravità, un\\'abilità raffinata durante il suo periodo\\ncome chef a bordo di uno Star Destroyer, dove la cucina assumeva significati completamente nuovi.\\n\\nUn giorno, un peculiare incidente con un forno quantico di sua invenzione le donò una comprensione unica\\ndel tempo culinario. Questo \"fortunato incidente\", come ama definirlo, le permise di perfezionare l\\'arte della\\ncottura a livelli inimmaginabili, orchestrando ogni secondo in una danza perfetta di temperature, anche nei\\nclimi più extraterritoriali.\\n\\nAl Sapore del Dune, ogni serata è un viaggio attraverso le infinite possibilità del gusto. Chef Quanti non si\\nlimita a cucinare: plasma la realtà stessa del cibo, trasformando ogni pasto in un\\'esperienza che trascende i\\nconfini tradizionali della gastronomia. Come ama ricordare ai suoi ospiti: \"In cucina, come nell\\'universo, tutto\\nè possibile. Dobbiamo solo saper osservare tutte le possibilità simultaneamente, per poi scegliere la più\\nstraordinaria.\"\\n\\nLe skill certificate dello Chef sono:\\n\\n           Psionica II\\n           Temporale I\\n           Gravitazionale I\\n           Quantistica 13\\n           Luce II\\n\\nIl ristorante possiede una tecnologia LTK II\\n\\nMenu\\nSinfonia Quantistica delle Stelle\\nIngredienti\\n           Shard di Prisma Stellare\\n           Lattuga Namecciana\\n           Radici di SingolaritàFibra di Sintetex\\n           Carne di Balena spaziale\\n           Teste di Idra\\n           Nettare di Sirena\\n           Sale Temporale\\n\\nTecniche\\n           Marinatura Temporale Sincronizzata\\n           Cottura Sottovuoto Frugale Energeticamente Negativa\\n           Cottura a Vapore Termocinetica Multipla\\n           Cottura a Vapore Ecodinamico Bilanciato\\n\\nSinfonia Quantistica dell\\'Universo\\nIngredienti\\n           Shard di Prisma Stellare\\n           Foglie di Nebulosa\\n           Lattuga Namecciana\\n           Teste di Idra\\n           Carne di Mucca\\n           Farina di Nettuno\\n           Riso di Cassandra\\n           Fusilli del Vento\\n           Nduja Fritta Tanto\\n\\nTecniche\\n           Cottura Sottovuoto Frugale Energeticamente Negativa\\n           Cottura a Vapore Termocinetica Multipla\\n           Marinatura Temporale Sincronizzata\\n\\nEvanescenza Quantica\\nIngredienti\\n           Cristalli di Memoria\\n           Radici di Singolarità\\n           Lattuga Namecciana\\n           Baccacedro\\n           Granuli di Nebbia Arcobaleno\\n           Plasma Vitale\\n           Petali di Eco\\n\\nTecniche\\n           Cottura Sottovuoto Frugale Energeticamente Negativa\\n           Grigliatura Eletro-Molecolare a Spaziatura Variabile\\n           Bollitura Termografica a Rotazione Veloce\\n           Affumicatura a Stratificazione Quantica\\n           Saltare in Padella ClassicaGalassia di Sapori Sublimi\\nIngredienti\\n           Frammenti di Supernova\\n           Baccacedro\\n           Foglie di Nebulosa\\n           Radici di Singolarità\\n           Amido di Stellarion\\n           Fusilli del Vento\\n\\nTecniche\\n           Cottura con Microonde Entropiche Sincronizzate\\n           Congelamento Bio-Luminiscente Sincronico\\n           Cottura Sottovuoto Frugale Energeticamente Negativa\\n           Marinatura Temporale Sincronizzata\\n           Impasto Gravitazionale Vorticoso\\n\\nGalassia di Sapore Quantico\\nIngredienti\\n           Polvere di Stelle\\n           Alghe Bioluminescenti\\n           Colonia di Mycoflora\\n           Carne di Drago\\n           Teste di Idra\\n           Plasma Vitale\\n           Nduja Fritta Tanto\\n\\nTecniche\\n           Grigliatura Eletro-Molecolare a Spaziatura Variabile\\n           Cottura a Vapore Termocinetica Multipla\\n           Cottura Sottovuoto Frugale Energeticamente Negativa\\n           Impasto Gravitazionale Vorticoso\\n\\nInterstellare Risveglio di Kraken\\nIngredienti\\n           Polvere di Pulsar\\n           Liane di Plasmodio\\n           Radici di Singolarità\\n           Carne di Kraken\\n           Amido di Stellarion\\n           Riso di Cassandra\\n           Plasma Vitale\\n           Nduja Fritta TantoTecniche\\n          Congelamento Bio-Luminiscente Sincronico\\n          Affumicatura a Stratificazione Quantica\\n          Bollitura Infrasonica Armonizzata\\n\\nSinfonia Temporale delle Profondità Infrasoniche\\nIngredienti\\n          Polvere di Crononite\\n          Carne di Kraken\\n          Carne di Balena spaziale\\n          Funghi Orbitali\\n          Sale Temporale\\n\\nTecniche\\n          Saltare in Padella Classica\\n          Bollitura Infrasonica Armonizzata\\n          Cottura Sottovuoto Frugale Energeticamente Negativa\\n\\nPioggia di Dimensioni Galattiche\\nIngredienti\\n          Shard di Prisma Stellare\\n          Lattuga Namecciana\\n          Biscotti della Galassia\\n          Pane degli Abissi\\n          Nettare di Sirena\\n          Essenza di Vuoto\\n\\nTecniche\\n          Bollitura Termografica a Rotazione Veloce\\n          Affumicatura a Stratificazione Quantica\\n          Fermentazione Quantico Biometrica\\n\\nOde Cosmica di Terra e Stelle\\nIngredienti\\n          Polvere di Stelle\\n          Alghe Bioluminescenti\\n          Teste di Idra\\n          Fibra di Sintetex\\n          Carne di Balena spaziale\\n          Spaghi del Sole\\n          Nettare di Sirena\\n          Spezie MelangeTecniche\\n            Grigliatura Eletro-Molecolare a Spaziatura Variabile\\n            Marinatura Temporale Sincronizzata\\n\\nSinfonia Galattica\\nIngredienti\\n            Cristalli di Nebulite\\n            Colonia di Mycoflora\\n            Teste di Idra\\n            Carne di Xenodonte\\n            Carne di Drago\\n            Pane degli Abissi\\n            Funghi dell’Etere\\n\\nTecniche\\n            Cottura a Vapore con Flusso di Particelle Isoarmoniche\\n            Marinatura Temporale Sincronizzata')"
      ]
     },
     "execution_count": 10,
     "metadata": {},
     "output_type": "execute_result"
    }
   ],
   "source": [
    "from langchain_community.document_loaders import DataFrameLoader\n",
    "\n",
    "loader = DataFrameLoader(df, page_content_column=\"Text\")\n",
    "docs_data = loader.load()\n",
    "docs_data[0]"
   ]
  },
  {
   "cell_type": "code",
   "execution_count": 87,
   "metadata": {},
   "outputs": [
    {
     "name": "stdout",
     "output_type": "stream",
     "text": [
      "[Document(metadata={'FileName': 'Sapore del Dune.pdf'}, page_content='Ristorante \"Sapore del Dune\"\\nChef Alessandra Quanti'),\n",
      " Document(metadata={'FileName': 'Sapore del Dune.pdf'}, page_content='Nel cuore arido di Tatooine, dove i mondi si mescolano e le stelle guidano i viaggiatori intergalattici, Chef\\nAlessandra Quanti porta una rivoluzione culinaria che sfida le distanze siderali. Non è raro vedere i\\ncommensali rimanere incantati osservando i suoi piatti che sembrano danzare tra le dune e le stelle, frutto\\ndella sua straordinaria padronanza degli stati quantici, che le permette di esplorare e materializzare le infinite\\npossibilità nascoste in ogni ingrediente rarefatto del deserto.'),\n",
      " Document(metadata={'FileName': 'Sapore del Dune.pdf'}, page_content=\"La sua storia ebbe inizio nei laboratori di spezie di Mos Eisley, dove la passione per la gastronomia\\nmolecolare si fuse con la sua profonda comprensione dell'universo subatomico. Fu proprio durante un\\nesperimento particolarmente intenso con i Cristalli Kyber che scoprì la sua innata capacità di percepire le\\nprobabilità culinarie, un dono che trasformò ogni sua creazione in un'esperienza di perfezione matematica\\nanche tra le tempeste di sabbia.\"),\n",
      " Document(metadata={'FileName': 'Sapore del Dune.pdf'}, page_content=\"Le sue presentazioni sono vere opere d'arte viventi, dove la luce danza e si trasforma, creando atmosfere\\nche portano gli ospiti in un viaggio tra le galassie. I commensali più attenti potrebbero notare come alcuni\\nelementi dei suoi piatti sembrino sfidare gentilmente la gravità, un'abilità raffinata durante il suo periodo\\ncome chef a bordo di uno Star Destroyer, dove la cucina assumeva significati completamente nuovi.\"),\n",
      " Document(metadata={'FileName': 'Sapore del Dune.pdf'}, page_content='Un giorno, un peculiare incidente con un forno quantico di sua invenzione le donò una comprensione unica\\ndel tempo culinario. Questo \"fortunato incidente\", come ama definirlo, le permise di perfezionare l\\'arte della\\ncottura a livelli inimmaginabili, orchestrando ogni secondo in una danza perfetta di temperature, anche nei\\nclimi più extraterritoriali.'),\n",
      " Document(metadata={'FileName': 'Sapore del Dune.pdf'}, page_content='Al Sapore del Dune, ogni serata è un viaggio attraverso le infinite possibilità del gusto. Chef Quanti non si\\nlimita a cucinare: plasma la realtà stessa del cibo, trasformando ogni pasto in un\\'esperienza che trascende i\\nconfini tradizionali della gastronomia. Come ama ricordare ai suoi ospiti: \"In cucina, come nell\\'universo, tutto\\nè possibile. Dobbiamo solo saper osservare tutte le possibilità simultaneamente, per poi scegliere la più\\nstraordinaria.\"\\n\\nLe skill certificate dello Chef sono:')]\n",
      "1638\n"
     ]
    }
   ],
   "source": [
    "# Split\n",
    "import pprint\n",
    "# Possible improvements - future hypertuning of chunk_size and chunk_overlap to improve results and try different slitters\n",
    "text_splitter = RecursiveCharacterTextSplitter(chunk_size=500)\n",
    "splits = text_splitter.split_documents(docs_data)\n",
    "pprint.pprint(splits[0:6])\n",
    "pprint.pprint(len(splits))"
   ]
  },
  {
   "cell_type": "code",
   "execution_count": 88,
   "metadata": {},
   "outputs": [
    {
     "data": {
      "text/plain": [
       "[Document(metadata={'FileName': 'Sapore del Dune.pdf'}, page_content='Ristorante \"Sapore del Dune\"\\nChef Alessandra Quanti'),\n",
       " Document(metadata={'FileName': 'Sapore del Dune.pdf'}, page_content='Nel cuore arido di Tatooine, dove i mondi si mescolano e le stelle guidano i viaggiatori intergalattici, Chef\\nAlessandra Quanti porta una rivoluzione culinaria che sfida le distanze siderali. Non è raro vedere i\\ncommensali rimanere incantati osservando i suoi piatti che sembrano danzare tra le dune e le stelle, frutto\\ndella sua straordinaria padronanza degli stati quantici, che le permette di esplorare e materializzare le infinite\\npossibilità nascoste in ogni ingrediente rarefatto del deserto.'),\n",
       " Document(metadata={'FileName': 'Sapore del Dune.pdf'}, page_content=\"La sua storia ebbe inizio nei laboratori di spezie di Mos Eisley, dove la passione per la gastronomia\\nmolecolare si fuse con la sua profonda comprensione dell'universo subatomico. Fu proprio durante un\\nesperimento particolarmente intenso con i Cristalli Kyber che scoprì la sua innata capacità di percepire le\\nprobabilità culinarie, un dono che trasformò ogni sua creazione in un'esperienza di perfezione matematica\\nanche tra le tempeste di sabbia.\"),\n",
       " Document(metadata={'FileName': 'Sapore del Dune.pdf'}, page_content=\"Le sue presentazioni sono vere opere d'arte viventi, dove la luce danza e si trasforma, creando atmosfere\\nche portano gli ospiti in un viaggio tra le galassie. I commensali più attenti potrebbero notare come alcuni\\nelementi dei suoi piatti sembrino sfidare gentilmente la gravità, un'abilità raffinata durante il suo periodo\\ncome chef a bordo di uno Star Destroyer, dove la cucina assumeva significati completamente nuovi.\"),\n",
       " Document(metadata={'FileName': 'Sapore del Dune.pdf'}, page_content='Un giorno, un peculiare incidente con un forno quantico di sua invenzione le donò una comprensione unica\\ndel tempo culinario. Questo \"fortunato incidente\", come ama definirlo, le permise di perfezionare l\\'arte della\\ncottura a livelli inimmaginabili, orchestrando ogni secondo in una danza perfetta di temperature, anche nei\\nclimi più extraterritoriali.'),\n",
       " Document(metadata={'FileName': 'Sapore del Dune.pdf'}, page_content='Al Sapore del Dune, ogni serata è un viaggio attraverso le infinite possibilità del gusto. Chef Quanti non si\\nlimita a cucinare: plasma la realtà stessa del cibo, trasformando ogni pasto in un\\'esperienza che trascende i\\nconfini tradizionali della gastronomia. Come ama ricordare ai suoi ospiti: \"In cucina, come nell\\'universo, tutto\\nè possibile. Dobbiamo solo saper osservare tutte le possibilità simultaneamente, per poi scegliere la più\\nstraordinaria.\"\\n\\nLe skill certificate dello Chef sono:'),\n",
       " Document(metadata={'FileName': 'Sapore del Dune.pdf'}, page_content='Le skill certificate dello Chef sono:\\n\\n           Psionica II\\n           Temporale I\\n           Gravitazionale I\\n           Quantistica 13\\n           Luce II\\n\\nIl ristorante possiede una tecnologia LTK II\\n\\nMenu\\nSinfonia Quantistica delle Stelle\\nIngredienti\\n           Shard di Prisma Stellare\\n           Lattuga Namecciana\\n           Radici di SingolaritàFibra di Sintetex\\n           Carne di Balena spaziale\\n           Teste di Idra\\n           Nettare di Sirena\\n           Sale Temporale'),\n",
       " Document(metadata={'FileName': 'Sapore del Dune.pdf'}, page_content='Tecniche\\n           Marinatura Temporale Sincronizzata\\n           Cottura Sottovuoto Frugale Energeticamente Negativa\\n           Cottura a Vapore Termocinetica Multipla\\n           Cottura a Vapore Ecodinamico Bilanciato'),\n",
       " Document(metadata={'FileName': 'Sapore del Dune.pdf'}, page_content=\"Sinfonia Quantistica dell'Universo\\nIngredienti\\n           Shard di Prisma Stellare\\n           Foglie di Nebulosa\\n           Lattuga Namecciana\\n           Teste di Idra\\n           Carne di Mucca\\n           Farina di Nettuno\\n           Riso di Cassandra\\n           Fusilli del Vento\\n           Nduja Fritta Tanto\\n\\nTecniche\\n           Cottura Sottovuoto Frugale Energeticamente Negativa\\n           Cottura a Vapore Termocinetica Multipla\\n           Marinatura Temporale Sincronizzata\"),\n",
       " Document(metadata={'FileName': 'Sapore del Dune.pdf'}, page_content='Tecniche\\n           Cottura Sottovuoto Frugale Energeticamente Negativa\\n           Cottura a Vapore Termocinetica Multipla\\n           Marinatura Temporale Sincronizzata\\n\\nEvanescenza Quantica\\nIngredienti\\n           Cristalli di Memoria\\n           Radici di Singolarità\\n           Lattuga Namecciana\\n           Baccacedro\\n           Granuli di Nebbia Arcobaleno\\n           Plasma Vitale\\n           Petali di Eco'),\n",
       " Document(metadata={'FileName': 'Sapore del Dune.pdf'}, page_content='Tecniche\\n           Cottura Sottovuoto Frugale Energeticamente Negativa\\n           Grigliatura Eletro-Molecolare a Spaziatura Variabile\\n           Bollitura Termografica a Rotazione Veloce\\n           Affumicatura a Stratificazione Quantica\\n           Saltare in Padella ClassicaGalassia di Sapori Sublimi\\nIngredienti\\n           Frammenti di Supernova\\n           Baccacedro\\n           Foglie di Nebulosa\\n           Radici di Singolarità\\n           Amido di Stellarion\\n           Fusilli del Vento'),\n",
       " Document(metadata={'FileName': 'Sapore del Dune.pdf'}, page_content='Tecniche\\n           Cottura con Microonde Entropiche Sincronizzate\\n           Congelamento Bio-Luminiscente Sincronico\\n           Cottura Sottovuoto Frugale Energeticamente Negativa\\n           Marinatura Temporale Sincronizzata\\n           Impasto Gravitazionale Vorticoso'),\n",
       " Document(metadata={'FileName': 'Sapore del Dune.pdf'}, page_content='Galassia di Sapore Quantico\\nIngredienti\\n           Polvere di Stelle\\n           Alghe Bioluminescenti\\n           Colonia di Mycoflora\\n           Carne di Drago\\n           Teste di Idra\\n           Plasma Vitale\\n           Nduja Fritta Tanto\\n\\nTecniche\\n           Grigliatura Eletro-Molecolare a Spaziatura Variabile\\n           Cottura a Vapore Termocinetica Multipla\\n           Cottura Sottovuoto Frugale Energeticamente Negativa\\n           Impasto Gravitazionale Vorticoso'),\n",
       " Document(metadata={'FileName': 'Sapore del Dune.pdf'}, page_content='Interstellare Risveglio di Kraken\\nIngredienti\\n           Polvere di Pulsar\\n           Liane di Plasmodio\\n           Radici di Singolarità\\n           Carne di Kraken\\n           Amido di Stellarion\\n           Riso di Cassandra\\n           Plasma Vitale\\n           Nduja Fritta TantoTecniche\\n          Congelamento Bio-Luminiscente Sincronico\\n          Affumicatura a Stratificazione Quantica\\n          Bollitura Infrasonica Armonizzata'),\n",
       " Document(metadata={'FileName': 'Sapore del Dune.pdf'}, page_content='Sinfonia Temporale delle Profondità Infrasoniche\\nIngredienti\\n          Polvere di Crononite\\n          Carne di Kraken\\n          Carne di Balena spaziale\\n          Funghi Orbitali\\n          Sale Temporale\\n\\nTecniche\\n          Saltare in Padella Classica\\n          Bollitura Infrasonica Armonizzata\\n          Cottura Sottovuoto Frugale Energeticamente Negativa'),\n",
       " Document(metadata={'FileName': 'Sapore del Dune.pdf'}, page_content='Tecniche\\n          Saltare in Padella Classica\\n          Bollitura Infrasonica Armonizzata\\n          Cottura Sottovuoto Frugale Energeticamente Negativa\\n\\nPioggia di Dimensioni Galattiche\\nIngredienti\\n          Shard di Prisma Stellare\\n          Lattuga Namecciana\\n          Biscotti della Galassia\\n          Pane degli Abissi\\n          Nettare di Sirena\\n          Essenza di Vuoto'),\n",
       " Document(metadata={'FileName': 'Sapore del Dune.pdf'}, page_content='Tecniche\\n          Bollitura Termografica a Rotazione Veloce\\n          Affumicatura a Stratificazione Quantica\\n          Fermentazione Quantico Biometrica'),\n",
       " Document(metadata={'FileName': 'Sapore del Dune.pdf'}, page_content='Ode Cosmica di Terra e Stelle\\nIngredienti\\n          Polvere di Stelle\\n          Alghe Bioluminescenti\\n          Teste di Idra\\n          Fibra di Sintetex\\n          Carne di Balena spaziale\\n          Spaghi del Sole\\n          Nettare di Sirena\\n          Spezie MelangeTecniche\\n            Grigliatura Eletro-Molecolare a Spaziatura Variabile\\n            Marinatura Temporale Sincronizzata'),\n",
       " Document(metadata={'FileName': 'Sapore del Dune.pdf'}, page_content='Sinfonia Galattica\\nIngredienti\\n            Cristalli di Nebulite\\n            Colonia di Mycoflora\\n            Teste di Idra\\n            Carne di Xenodonte\\n            Carne di Drago\\n            Pane degli Abissi\\n            Funghi dell’Etere\\n\\nTecniche\\n            Cottura a Vapore con Flusso di Particelle Isoarmoniche\\n            Marinatura Temporale Sincronizzata'),\n",
       " Document(metadata={'FileName': 'Universo Gastronomico di Namecc.pdf'}, page_content=\"Universo Gastronomico di Namecc\\nChef Alice Quantum-Rossi\\n\\nNel cuore vibrante di Namecc, dove il mondo naturale si fonde con l'incredibile energia cosmica del pianeta,\\nsorge un ristorante che reinterpreta la gastronomia in modi mai immaginati prima. In questo luogo, la Chef\\nAlice Quantum-Rossi, grazie al suo background in fisica quantistica, ha creato un'oasi culinaria in cui ogni\\npasto diventa un viaggio attraverso le infinite possibilità del gusto.\")]"
      ]
     },
     "execution_count": 88,
     "metadata": {},
     "output_type": "execute_result"
    }
   ],
   "source": [
    "trial = splits[:20]\n",
    "trial"
   ]
  },
  {
   "cell_type": "code",
   "execution_count": 89,
   "metadata": {},
   "outputs": [],
   "source": [
    "from sentence_transformers import SentenceTransformer\n",
    "\n",
    "#Model: \"ibm-granite/granite-embedding-107m-multilingual\"\n",
    "#Number of dimensions: 384\n",
    "#Input token limits: 512\n",
    "\n",
    "model_path = \"ibm-granite/granite-embedding-107m-multilingual\"\n",
    "# Load the Sentence Transformer model\n",
    "model = SentenceTransformer(model_path)"
   ]
  },
  {
   "cell_type": "code",
   "execution_count": 80,
   "metadata": {},
   "outputs": [],
   "source": [
    "class EmbeddingFunc:\n",
    "    def embed_documents(self, texts):\n",
    "        return model.encode(texts)\n",
    "    \n",
    "    def __call__(self, texts):\n",
    "        return self.embed_documents(texts)"
   ]
  },
  {
   "cell_type": "code",
   "execution_count": 90,
   "metadata": {},
   "outputs": [
    {
     "name": "stderr",
     "output_type": "stream",
     "text": [
      "`embedding_function` is expected to be an Embeddings object, support for passing in a function will soon be removed.\n"
     ]
    }
   ],
   "source": [
    "from langchain_community.vectorstores import FAISS\n",
    "vectorstore = FAISS.from_documents(trial, EmbeddingFunc())\n",
    "vectorstore.save_local(\"local_model_index\")"
   ]
  },
  {
   "cell_type": "code",
   "execution_count": 91,
   "metadata": {},
   "outputs": [
    {
     "data": {
      "text/plain": [
       "20"
      ]
     },
     "execution_count": 91,
     "metadata": {},
     "output_type": "execute_result"
    }
   ],
   "source": [
    "vectorstore.index.ntotal"
   ]
  },
  {
   "cell_type": "code",
   "execution_count": 92,
   "metadata": {},
   "outputs": [
    {
     "data": {
      "text/plain": [
       "VectorStoreRetriever(tags=['FAISS'], vectorstore=<langchain_community.vectorstores.faiss.FAISS object at 0x7ccd622e51c0>, search_kwargs={'k': 5})"
      ]
     },
     "execution_count": 92,
     "metadata": {},
     "output_type": "execute_result"
    }
   ],
   "source": [
    "retriever = vectorstore.as_retriever(search_kwargs={\"k\": 5})\n",
    "retriever"
   ]
  },
  {
   "cell_type": "code",
   "execution_count": 93,
   "metadata": {},
   "outputs": [
    {
     "name": "stdout",
     "output_type": "stream",
     "text": [
      "[Document(id='95ea81a9-62f6-4a22-8c08-b0056388e81b', metadata={'FileName': 'Sapore del Dune.pdf'}, page_content='Le skill certificate dello Chef sono:\\n\\n           Psionica II\\n           Temporale I\\n           Gravitazionale I\\n           Quantistica 13\\n           Luce II\\n\\nIl ristorante possiede una tecnologia LTK II\\n\\nMenu\\nSinfonia Quantistica delle Stelle\\nIngredienti\\n           Shard di Prisma Stellare\\n           Lattuga Namecciana\\n           Radici di SingolaritàFibra di Sintetex\\n           Carne di Balena spaziale\\n           Teste di Idra\\n           Nettare di Sirena\\n           Sale Temporale'),\n",
      " Document(id='2ecae0f5-ba21-46cf-96c0-14046c690211', metadata={'FileName': 'Sapore del Dune.pdf'}, page_content='Galassia di Sapore Quantico\\nIngredienti\\n           Polvere di Stelle\\n           Alghe Bioluminescenti\\n           Colonia di Mycoflora\\n           Carne di Drago\\n           Teste di Idra\\n           Plasma Vitale\\n           Nduja Fritta Tanto\\n\\nTecniche\\n           Grigliatura Eletro-Molecolare a Spaziatura Variabile\\n           Cottura a Vapore Termocinetica Multipla\\n           Cottura Sottovuoto Frugale Energeticamente Negativa\\n           Impasto Gravitazionale Vorticoso'),\n",
      " Document(id='b9ab1f30-8bf2-42f3-aa10-344d6f8330f5', metadata={'FileName': 'Sapore del Dune.pdf'}, page_content='Ode Cosmica di Terra e Stelle\\nIngredienti\\n          Polvere di Stelle\\n          Alghe Bioluminescenti\\n          Teste di Idra\\n          Fibra di Sintetex\\n          Carne di Balena spaziale\\n          Spaghi del Sole\\n          Nettare di Sirena\\n          Spezie MelangeTecniche\\n            Grigliatura Eletro-Molecolare a Spaziatura Variabile\\n            Marinatura Temporale Sincronizzata'),\n",
      " Document(id='88781ae6-db5c-473a-b5f9-46ade809a58e', metadata={'FileName': 'Sapore del Dune.pdf'}, page_content='Al Sapore del Dune, ogni serata è un viaggio attraverso le infinite possibilità del gusto. Chef Quanti non si\\nlimita a cucinare: plasma la realtà stessa del cibo, trasformando ogni pasto in un\\'esperienza che trascende i\\nconfini tradizionali della gastronomia. Come ama ricordare ai suoi ospiti: \"In cucina, come nell\\'universo, tutto\\nè possibile. Dobbiamo solo saper osservare tutte le possibilità simultaneamente, per poi scegliere la più\\nstraordinaria.\"\\n\\nLe skill certificate dello Chef sono:'),\n",
      " Document(id='75446e23-2a01-4f39-8b82-486d0701d03a', metadata={'FileName': 'Sapore del Dune.pdf'}, page_content='Sinfonia Galattica\\nIngredienti\\n            Cristalli di Nebulite\\n            Colonia di Mycoflora\\n            Teste di Idra\\n            Carne di Xenodonte\\n            Carne di Drago\\n            Pane degli Abissi\\n            Funghi dell’Etere\\n\\nTecniche\\n            Cottura a Vapore con Flusso di Particelle Isoarmoniche\\n            Marinatura Temporale Sincronizzata')]\n"
     ]
    }
   ],
   "source": [
    "question = \"Dimmi i piatti con Teste di idra\"\n",
    "retrieved_documents = retriever.invoke(question)\n",
    "\n",
    "pprint.pprint(retrieved_documents)"
   ]
  },
  {
   "cell_type": "code",
   "execution_count": 39,
   "metadata": {},
   "outputs": [],
   "source": [
    "from langchain_ollama import ChatOllama\n",
    "\n",
    "model_llama = ChatOllama(\n",
    "    model=\"llama3.2\", \n",
    "    temperature=0\n",
    ")"
   ]
  },
  {
   "cell_type": "code",
   "execution_count": 94,
   "metadata": {},
   "outputs": [
    {
     "name": "stdout",
     "output_type": "stream",
     "text": [
      "('Sono felice di aiutarti a scoprire i piatti della galassia di Chef Quanti!\\n'\n",
      " '\\n'\n",
      " 'Secondo il menu, ci sono due piatti che contengono Teste di Idra:\\n'\n",
      " '\\n'\n",
      " '1.  Sinfonia Quantistica delle Stelle: contiene Teste di Idra\\n'\n",
      " '2.  Galassia di Sapore Quantico: contiene Teste di Idra')\n"
     ]
    }
   ],
   "source": [
    "from langchain.prompts import ChatPromptTemplate\n",
    "\n",
    "# Prompt\n",
    "template = \"\"\"\n",
    "Comportati come un assistente che risponde alle domande del cliente su vari cibi e ristoranti.\n",
    "Rispondi alla domanda basandoti solo sui seguenti documenti: {context}\n",
    "\n",
    "Domanda relativa alla galassia: {question}\n",
    "\"\"\"\n",
    "\n",
    "prompt = ChatPromptTemplate.from_template(template)\n",
    "prompt\n",
    "\n",
    "# Post-processing\n",
    "def format_docs(splits):\n",
    "    return \"\\n\\n\".join(doc.page_content for doc in splits)\n",
    "\n",
    "# Chain\n",
    "rag_chain = (\n",
    "    {\"context\": retriever | format_docs, \"question\": RunnablePassthrough()}\n",
    "    | prompt\n",
    "    | model_llama\n",
    "    | StrOutputParser()\n",
    ")\n",
    "\n",
    "# Question\n",
    "response_text = rag_chain.invoke(question)\n",
    "pprint.pprint(response_text)"
   ]
  },
  {
   "cell_type": "markdown",
   "metadata": {},
   "source": [
    "# Bge"
   ]
  },
  {
   "cell_type": "code",
   "execution_count": 95,
   "metadata": {},
   "outputs": [],
   "source": [
    "from sentence_transformers import SentenceTransformer\n",
    "\n",
    "model = SentenceTransformer(\"BAAI/bge-m3\")"
   ]
  },
  {
   "cell_type": "code",
   "execution_count": null,
   "metadata": {},
   "outputs": [],
   "source": []
  }
 ],
 "metadata": {
  "kernelspec": {
   "display_name": ".venv",
   "language": "python",
   "name": "python3"
  },
  "language_info": {
   "codemirror_mode": {
    "name": "ipython",
    "version": 3
   },
   "file_extension": ".py",
   "mimetype": "text/x-python",
   "name": "python",
   "nbconvert_exporter": "python",
   "pygments_lexer": "ipython3",
   "version": "3.12.3"
  }
 },
 "nbformat": 4,
 "nbformat_minor": 2
}
