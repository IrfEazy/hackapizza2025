{
 "cells": [
  {
   "cell_type": "markdown",
   "metadata": {},
   "source": [
    "# Import dataset"
   ]
  },
  {
   "cell_type": "code",
   "metadata": {
    "ExecuteTime": {
     "end_time": "2025-01-18T22:10:20.332500Z",
     "start_time": "2025-01-18T22:10:20.290833Z"
    }
   },
   "source": [
    "\n",
    "import json\n",
    "from pprint import pprint\n",
    "\n",
    "import pandas as pd\n",
    "from ibm_watsonx_ai import Credentials\n",
    "from langchain.retrievers import EnsembleRetriever, TFIDFRetriever\n",
    "from langchain.text_splitter import RecursiveCharacterTextSplitter\n",
    "from langchain.vectorstores import FAISS\n",
    "from langchain_community.document_loaders import DataFrameLoader\n",
    "from langchain_core.output_parsers import StrOutputParser\n",
    "from langchain_core.prompts import ChatPromptTemplate\n",
    "from langchain_core.runnables import RunnablePassthrough\n",
    "from langchain_ibm import WatsonxLLM, WatsonxEmbeddings\n",
    "\n",
    "# Define the file path\n",
    "csv_file_path = './output/menus.csv'\n",
    "\n",
    "# Read the CSV file and assign headers explicitly\n",
    "df = pd.read_csv(csv_file_path, header=None, names=[\"FileName\", \"Text\"])\n",
    "\n",
    "# Display the first few rows of the DataFrame\n",
    "display(df)\n",
    "\n",
    "# Confirm the data has been successfully loaded\n",
    "print(f\"DataFrame loaded with {len(df)} rows and {len(df.columns)} columns.\")\n"
   ],
   "outputs": [
    {
     "data": {
      "text/plain": [
       "                                   FileName  \\\n",
       "0                       Sapore del Dune.pdf   \n",
       "1       Universo Gastronomico di Namecc.pdf   \n",
       "2                 L Equilibrio Quantico.pdf   \n",
       "3            L Architetto dell Universo.pdf   \n",
       "4                     L Essenza Cosmica.pdf   \n",
       "5                   Stelle Astrofisiche.pdf   \n",
       "6                   L Essenza di Asgard.pdf   \n",
       "7                        Eco di Pandora.pdf   \n",
       "8                      L Eco dei Sapori.pdf   \n",
       "9                  L Essenza delle Dune.pdf   \n",
       "10                 L Universo in Cucina.pdf   \n",
       "11                      Cosmica Essenza.pdf   \n",
       "12           L Oasi delle Dune Stellari.pdf   \n",
       "13                   Le Stelle Danzanti.pdf   \n",
       "14                    Sala del Valhalla.pdf   \n",
       "15      Stelle dell Infinito Celestiale.pdf   \n",
       "16                  Ristorante Quantico.pdf   \n",
       "17              Le Dimensioni del Gusto.pdf   \n",
       "18                            Datapizza.pdf   \n",
       "19                     Tutti a TARSvola.pdf   \n",
       "20                   Armonia Universale.pdf   \n",
       "21                Le Stelle che Ballano.pdf   \n",
       "22                    L Etere del Gusto.pdf   \n",
       "23                Essenza dell Infinito.pdf   \n",
       "24                        Anima Cosmica.pdf   \n",
       "25                    Eredita Galattica.pdf   \n",
       "26                        Il Firmamento.pdf   \n",
       "27             L infinito in un Boccone.pdf   \n",
       "28  L Essenza del Multiverso su Pandora.pdf   \n",
       "29       Ristorante delle Dune Stellari.pdf   \n",
       "\n",
       "                                                 Text  \n",
       "0   Ristorante \"Sapore del Dune\"\\nChef Alessandra ...  \n",
       "1   Universo Gastronomico di Namecc\\nChef Alice Qu...  \n",
       "2   Ristorante \"L'Equilibrio Quantico\"\\nChef Aless...  \n",
       "3   Ristorante \"L'Architetto dell'Universo\"\\nChef ...  \n",
       "4   Ristorante \"L'Essenza Cosmica\"\\n\\nChef Alessan...  \n",
       "5   Ristorante \"Stelle Astrofisiche\"\\nChef Alessan...  \n",
       "6   Ristorante: L'Essenza di Asgard\\nChef Palissan...  \n",
       "7   Ristorante \"L'Eco di Pandora\"\\nChef Alessandra...  \n",
       "8   L'Eco dei Sapori\\nChef Aurora Vessanti\\n\\nNell...  \n",
       "9   Ristorante \"L'Essenza delle Dune\"\\nChef Alessa...  \n",
       "10  Ristorante \"L'Universo in Cucina\"\\nChef Crina ...  \n",
       "11  Cosmica Essenza\\nAlla guida dello Chef Aurelio...  \n",
       "12  Ristorante \"L'Oasi delle Dune Stellari\"\\nChef:...  \n",
       "13  Ristorante \"Le Stelle Danzanti\"\\nChef Asteria ...  \n",
       "14  Sala del Valhalla\\nBanchetto Asgardiano di Ecc...  \n",
       "15  Ristorante \"Stelle dell'Infinito Celestiale\"\\n...  \n",
       "16  Ristorante Quantico\\nChef Alessandra Temporini...  \n",
       "17  Ristorante \"Le Dimensioni del Gusto\"\\n        ...  \n",
       "18  Ristorante \"L'Infinito Sapore\"\\nViaggio nel Te...  \n",
       "19  Ristorante \"Tutti a TARSvola\"\\nChef Executive:...  \n",
       "20  Ristorante \"Armonia Universale\"\\nChef: Maestro...  \n",
       "21  Ristorante \"Le Stelle che Ballano\"\\nChef Aless...  \n",
       "22  Ristorante \"L'Etere del Gusto\"\\nChef Executivo...  \n",
       "23  Ristorante \"L'Essenza dell'Infinito\"\\nChef Lun...  \n",
       "24  Ristorante \"Anima Cosmica\"\\nChef Aurora Stella...  \n",
       "25  L'Eredità Galattica\\nHub Temporale della Gastr...  \n",
       "26  Il Firmamento\\nChef: Maestro Alessio \"Eterno\" ...  \n",
       "27  Ristorante \"L'Infinito in un Boccone\"\\n\\nChef ...  \n",
       "28  L'Essenza del Multiverso su Pandora\\nChef Matt...  \n",
       "29  Il Ristorante delle Dune Stellari\\nChef Alessa...  "
      ],
      "text/html": [
       "<div>\n",
       "<style scoped>\n",
       "    .dataframe tbody tr th:only-of-type {\n",
       "        vertical-align: middle;\n",
       "    }\n",
       "\n",
       "    .dataframe tbody tr th {\n",
       "        vertical-align: top;\n",
       "    }\n",
       "\n",
       "    .dataframe thead th {\n",
       "        text-align: right;\n",
       "    }\n",
       "</style>\n",
       "<table border=\"1\" class=\"dataframe\">\n",
       "  <thead>\n",
       "    <tr style=\"text-align: right;\">\n",
       "      <th></th>\n",
       "      <th>FileName</th>\n",
       "      <th>Text</th>\n",
       "    </tr>\n",
       "  </thead>\n",
       "  <tbody>\n",
       "    <tr>\n",
       "      <th>0</th>\n",
       "      <td>Sapore del Dune.pdf</td>\n",
       "      <td>Ristorante \"Sapore del Dune\"\\nChef Alessandra ...</td>\n",
       "    </tr>\n",
       "    <tr>\n",
       "      <th>1</th>\n",
       "      <td>Universo Gastronomico di Namecc.pdf</td>\n",
       "      <td>Universo Gastronomico di Namecc\\nChef Alice Qu...</td>\n",
       "    </tr>\n",
       "    <tr>\n",
       "      <th>2</th>\n",
       "      <td>L Equilibrio Quantico.pdf</td>\n",
       "      <td>Ristorante \"L'Equilibrio Quantico\"\\nChef Aless...</td>\n",
       "    </tr>\n",
       "    <tr>\n",
       "      <th>3</th>\n",
       "      <td>L Architetto dell Universo.pdf</td>\n",
       "      <td>Ristorante \"L'Architetto dell'Universo\"\\nChef ...</td>\n",
       "    </tr>\n",
       "    <tr>\n",
       "      <th>4</th>\n",
       "      <td>L Essenza Cosmica.pdf</td>\n",
       "      <td>Ristorante \"L'Essenza Cosmica\"\\n\\nChef Alessan...</td>\n",
       "    </tr>\n",
       "    <tr>\n",
       "      <th>5</th>\n",
       "      <td>Stelle Astrofisiche.pdf</td>\n",
       "      <td>Ristorante \"Stelle Astrofisiche\"\\nChef Alessan...</td>\n",
       "    </tr>\n",
       "    <tr>\n",
       "      <th>6</th>\n",
       "      <td>L Essenza di Asgard.pdf</td>\n",
       "      <td>Ristorante: L'Essenza di Asgard\\nChef Palissan...</td>\n",
       "    </tr>\n",
       "    <tr>\n",
       "      <th>7</th>\n",
       "      <td>Eco di Pandora.pdf</td>\n",
       "      <td>Ristorante \"L'Eco di Pandora\"\\nChef Alessandra...</td>\n",
       "    </tr>\n",
       "    <tr>\n",
       "      <th>8</th>\n",
       "      <td>L Eco dei Sapori.pdf</td>\n",
       "      <td>L'Eco dei Sapori\\nChef Aurora Vessanti\\n\\nNell...</td>\n",
       "    </tr>\n",
       "    <tr>\n",
       "      <th>9</th>\n",
       "      <td>L Essenza delle Dune.pdf</td>\n",
       "      <td>Ristorante \"L'Essenza delle Dune\"\\nChef Alessa...</td>\n",
       "    </tr>\n",
       "    <tr>\n",
       "      <th>10</th>\n",
       "      <td>L Universo in Cucina.pdf</td>\n",
       "      <td>Ristorante \"L'Universo in Cucina\"\\nChef Crina ...</td>\n",
       "    </tr>\n",
       "    <tr>\n",
       "      <th>11</th>\n",
       "      <td>Cosmica Essenza.pdf</td>\n",
       "      <td>Cosmica Essenza\\nAlla guida dello Chef Aurelio...</td>\n",
       "    </tr>\n",
       "    <tr>\n",
       "      <th>12</th>\n",
       "      <td>L Oasi delle Dune Stellari.pdf</td>\n",
       "      <td>Ristorante \"L'Oasi delle Dune Stellari\"\\nChef:...</td>\n",
       "    </tr>\n",
       "    <tr>\n",
       "      <th>13</th>\n",
       "      <td>Le Stelle Danzanti.pdf</td>\n",
       "      <td>Ristorante \"Le Stelle Danzanti\"\\nChef Asteria ...</td>\n",
       "    </tr>\n",
       "    <tr>\n",
       "      <th>14</th>\n",
       "      <td>Sala del Valhalla.pdf</td>\n",
       "      <td>Sala del Valhalla\\nBanchetto Asgardiano di Ecc...</td>\n",
       "    </tr>\n",
       "    <tr>\n",
       "      <th>15</th>\n",
       "      <td>Stelle dell Infinito Celestiale.pdf</td>\n",
       "      <td>Ristorante \"Stelle dell'Infinito Celestiale\"\\n...</td>\n",
       "    </tr>\n",
       "    <tr>\n",
       "      <th>16</th>\n",
       "      <td>Ristorante Quantico.pdf</td>\n",
       "      <td>Ristorante Quantico\\nChef Alessandra Temporini...</td>\n",
       "    </tr>\n",
       "    <tr>\n",
       "      <th>17</th>\n",
       "      <td>Le Dimensioni del Gusto.pdf</td>\n",
       "      <td>Ristorante \"Le Dimensioni del Gusto\"\\n        ...</td>\n",
       "    </tr>\n",
       "    <tr>\n",
       "      <th>18</th>\n",
       "      <td>Datapizza.pdf</td>\n",
       "      <td>Ristorante \"L'Infinito Sapore\"\\nViaggio nel Te...</td>\n",
       "    </tr>\n",
       "    <tr>\n",
       "      <th>19</th>\n",
       "      <td>Tutti a TARSvola.pdf</td>\n",
       "      <td>Ristorante \"Tutti a TARSvola\"\\nChef Executive:...</td>\n",
       "    </tr>\n",
       "    <tr>\n",
       "      <th>20</th>\n",
       "      <td>Armonia Universale.pdf</td>\n",
       "      <td>Ristorante \"Armonia Universale\"\\nChef: Maestro...</td>\n",
       "    </tr>\n",
       "    <tr>\n",
       "      <th>21</th>\n",
       "      <td>Le Stelle che Ballano.pdf</td>\n",
       "      <td>Ristorante \"Le Stelle che Ballano\"\\nChef Aless...</td>\n",
       "    </tr>\n",
       "    <tr>\n",
       "      <th>22</th>\n",
       "      <td>L Etere del Gusto.pdf</td>\n",
       "      <td>Ristorante \"L'Etere del Gusto\"\\nChef Executivo...</td>\n",
       "    </tr>\n",
       "    <tr>\n",
       "      <th>23</th>\n",
       "      <td>Essenza dell Infinito.pdf</td>\n",
       "      <td>Ristorante \"L'Essenza dell'Infinito\"\\nChef Lun...</td>\n",
       "    </tr>\n",
       "    <tr>\n",
       "      <th>24</th>\n",
       "      <td>Anima Cosmica.pdf</td>\n",
       "      <td>Ristorante \"Anima Cosmica\"\\nChef Aurora Stella...</td>\n",
       "    </tr>\n",
       "    <tr>\n",
       "      <th>25</th>\n",
       "      <td>Eredita Galattica.pdf</td>\n",
       "      <td>L'Eredità Galattica\\nHub Temporale della Gastr...</td>\n",
       "    </tr>\n",
       "    <tr>\n",
       "      <th>26</th>\n",
       "      <td>Il Firmamento.pdf</td>\n",
       "      <td>Il Firmamento\\nChef: Maestro Alessio \"Eterno\" ...</td>\n",
       "    </tr>\n",
       "    <tr>\n",
       "      <th>27</th>\n",
       "      <td>L infinito in un Boccone.pdf</td>\n",
       "      <td>Ristorante \"L'Infinito in un Boccone\"\\n\\nChef ...</td>\n",
       "    </tr>\n",
       "    <tr>\n",
       "      <th>28</th>\n",
       "      <td>L Essenza del Multiverso su Pandora.pdf</td>\n",
       "      <td>L'Essenza del Multiverso su Pandora\\nChef Matt...</td>\n",
       "    </tr>\n",
       "    <tr>\n",
       "      <th>29</th>\n",
       "      <td>Ristorante delle Dune Stellari.pdf</td>\n",
       "      <td>Il Ristorante delle Dune Stellari\\nChef Alessa...</td>\n",
       "    </tr>\n",
       "  </tbody>\n",
       "</table>\n",
       "</div>"
      ]
     },
     "metadata": {},
     "output_type": "display_data"
    },
    {
     "name": "stdout",
     "output_type": "stream",
     "text": [
      "DataFrame loaded with 30 rows and 2 columns.\n"
     ]
    }
   ],
   "execution_count": 8
  },
  {
   "cell_type": "code",
   "metadata": {
    "ExecuteTime": {
     "end_time": "2025-01-18T22:10:26.743459Z",
     "start_time": "2025-01-18T22:10:26.720575Z"
    }
   },
   "source": [
    "loader = DataFrameLoader(df, page_content_column=\"Text\")\n",
    "docs_data = loader.load()\n",
    "docs_data[0].model_json_schema()\n"
   ],
   "outputs": [
    {
     "data": {
      "text/plain": [
       "{'description': 'Class for storing a piece of text and associated metadata.\\n\\nExample:\\n\\n    .. code-block:: python\\n\\n        from langchain_core.documents import Document\\n\\n        document = Document(\\n            page_content=\"Hello, world!\",\\n            metadata={\"source\": \"https://example.com\"}\\n        )',\n",
       " 'properties': {'id': {'anyOf': [{'type': 'string'}, {'type': 'null'}],\n",
       "   'default': None,\n",
       "   'title': 'Id'},\n",
       "  'metadata': {'title': 'Metadata', 'type': 'object'},\n",
       "  'page_content': {'title': 'Page Content', 'type': 'string'},\n",
       "  'type': {'const': 'Document',\n",
       "   'default': 'Document',\n",
       "   'title': 'Type',\n",
       "   'type': 'string'}},\n",
       " 'required': ['page_content'],\n",
       " 'title': 'Document',\n",
       " 'type': 'object'}"
      ]
     },
     "execution_count": 10,
     "metadata": {},
     "output_type": "execute_result"
    }
   ],
   "execution_count": 10
  },
  {
   "cell_type": "code",
   "metadata": {
    "ExecuteTime": {
     "end_time": "2025-01-18T22:10:28.760424Z",
     "start_time": "2025-01-18T22:10:28.718922Z"
    }
   },
   "source": [
    "# Possible improvements - future hypertuning of chunk_size and chunk_overlap to improve results and try different slitters\n",
    "text_splitter = RecursiveCharacterTextSplitter(chunk_size=500, chunk_overlap=200)\n",
    "splits = text_splitter.split_documents(docs_data)\n",
    "pprint(splits[0:6])\n",
    "pprint(len(splits))\n"
   ],
   "outputs": [
    {
     "name": "stdout",
     "output_type": "stream",
     "text": [
      "[Document(metadata={'FileName': 'Sapore del Dune.pdf'}, page_content='Ristorante \"Sapore del Dune\"\\nChef Alessandra Quanti'),\n",
      " Document(metadata={'FileName': 'Sapore del Dune.pdf'}, page_content='Nel cuore arido di Tatooine, dove i mondi si mescolano e le stelle guidano i viaggiatori intergalattici, Chef\\nAlessandra Quanti porta una rivoluzione culinaria che sfida le distanze siderali. Non è raro vedere i\\ncommensali rimanere incantati osservando i suoi piatti che sembrano danzare tra le dune e le stelle, frutto\\ndella sua straordinaria padronanza degli stati quantici, che le permette di esplorare e materializzare le infinite\\npossibilità nascoste in ogni ingrediente rarefatto del deserto.'),\n",
      " Document(metadata={'FileName': 'Sapore del Dune.pdf'}, page_content=\"La sua storia ebbe inizio nei laboratori di spezie di Mos Eisley, dove la passione per la gastronomia\\nmolecolare si fuse con la sua profonda comprensione dell'universo subatomico. Fu proprio durante un\\nesperimento particolarmente intenso con i Cristalli Kyber che scoprì la sua innata capacità di percepire le\\nprobabilità culinarie, un dono che trasformò ogni sua creazione in un'esperienza di perfezione matematica\\nanche tra le tempeste di sabbia.\"),\n",
      " Document(metadata={'FileName': 'Sapore del Dune.pdf'}, page_content=\"Le sue presentazioni sono vere opere d'arte viventi, dove la luce danza e si trasforma, creando atmosfere\\nche portano gli ospiti in un viaggio tra le galassie. I commensali più attenti potrebbero notare come alcuni\\nelementi dei suoi piatti sembrino sfidare gentilmente la gravità, un'abilità raffinata durante il suo periodo\\ncome chef a bordo di uno Star Destroyer, dove la cucina assumeva significati completamente nuovi.\"),\n",
      " Document(metadata={'FileName': 'Sapore del Dune.pdf'}, page_content='Un giorno, un peculiare incidente con un forno quantico di sua invenzione le donò una comprensione unica\\ndel tempo culinario. Questo \"fortunato incidente\", come ama definirlo, le permise di perfezionare l\\'arte della\\ncottura a livelli inimmaginabili, orchestrando ogni secondo in una danza perfetta di temperature, anche nei\\nclimi più extraterritoriali.'),\n",
      " Document(metadata={'FileName': 'Sapore del Dune.pdf'}, page_content='Al Sapore del Dune, ogni serata è un viaggio attraverso le infinite possibilità del gusto. Chef Quanti non si\\nlimita a cucinare: plasma la realtà stessa del cibo, trasformando ogni pasto in un\\'esperienza che trascende i\\nconfini tradizionali della gastronomia. Come ama ricordare ai suoi ospiti: \"In cucina, come nell\\'universo, tutto\\nè possibile. Dobbiamo solo saper osservare tutte le possibilità simultaneamente, per poi scegliere la più\\nstraordinaria.\"\\n\\nLe skill certificate dello Chef sono:')]\n",
      "1638\n"
     ]
    }
   ],
   "execution_count": 11
  },
  {
   "cell_type": "markdown",
   "metadata": {},
   "source": [
    "# Watsonx"
   ]
  },
  {
   "cell_type": "code",
   "metadata": {
    "ExecuteTime": {
     "end_time": "2025-01-18T22:10:34.901111Z",
     "start_time": "2025-01-18T22:10:34.895521Z"
    }
   },
   "source": [
    "credentials = Credentials(\n",
    "    url=\"https://us-south.ml.cloud.ibm.com\",\n",
    "    api_key=\"AnzfgthfcrfRzttoXGiKZUJDMRlcB3w4uemf0PJGFFT5\"\n",
    ")\n",
    "\n",
    "OVERWRITE = False\n"
   ],
   "outputs": [],
   "execution_count": 12
  },
  {
   "cell_type": "code",
   "metadata": {
    "ExecuteTime": {
     "end_time": "2025-01-18T22:10:54.337121Z",
     "start_time": "2025-01-18T22:10:52.280499Z"
    }
   },
   "source": [
    "watsonLLM = WatsonxLLM(\n",
    "    model_id=\"mistralai/mistral-large\",  # Che conosciamo bene 😊🏆\n",
    "    url=credentials['url'],\n",
    "    apikey=credentials['api_key'],\n",
    "    project_id=\"5c33debb-5a25-4bfe-8392-ede4b20884fe\",\n",
    "    params={\n",
    "        \"max_new_tokens\": 1024\n",
    "    }\n",
    ")\n"
   ],
   "outputs": [],
   "execution_count": 13
  },
  {
   "cell_type": "code",
   "metadata": {
    "ExecuteTime": {
     "end_time": "2025-01-18T22:11:05.834723Z",
     "start_time": "2025-01-18T22:11:04.892025Z"
    }
   },
   "source": [
    "embeddings = WatsonxEmbeddings(\n",
    "    model_id=\"ibm/granite-embedding-107m-multilingual\",\n",
    "    url=credentials[\"url\"],\n",
    "    apikey=credentials[\"api_key\"],\n",
    "    project_id=\"5c33debb-5a25-4bfe-8392-ede4b20884fe\",\n",
    ")\n"
   ],
   "outputs": [],
   "execution_count": 14
  },
  {
   "cell_type": "code",
   "metadata": {
    "ExecuteTime": {
     "end_time": "2025-01-18T22:12:13.113325Z",
     "start_time": "2025-01-18T22:12:13.102123Z"
    }
   },
   "source": [
    "if OVERWRITE:\n",
    "    vectorstore = FAISS.from_documents(splits, embeddings)\n",
    "    vectorstore.save_local(\"local_model_index\")\n"
   ],
   "outputs": [],
   "execution_count": 16
  },
  {
   "cell_type": "code",
   "metadata": {
    "ExecuteTime": {
     "end_time": "2025-01-18T22:13:19.818876Z",
     "start_time": "2025-01-18T22:13:19.736104Z"
    }
   },
   "source": [
    "vectorstore = FAISS.load_local(\"local_model_index\", embeddings, allow_dangerous_deserialization=True)\n",
    "vectorstore.index.ntotal\n"
   ],
   "outputs": [
    {
     "data": {
      "text/plain": [
       "1638"
      ]
     },
     "execution_count": 18,
     "metadata": {},
     "output_type": "execute_result"
    }
   ],
   "execution_count": 18
  },
  {
   "cell_type": "code",
   "metadata": {
    "ExecuteTime": {
     "end_time": "2025-01-18T22:13:22.938817Z",
     "start_time": "2025-01-18T22:13:22.926802Z"
    }
   },
   "source": [
    "retriever = vectorstore.as_retriever(search_kwargs={\"k\": 5})\n",
    "retriever\n"
   ],
   "outputs": [
    {
     "data": {
      "text/plain": [
       "VectorStoreRetriever(tags=['FAISS', 'WatsonxEmbeddings'], vectorstore=<langchain_community.vectorstores.faiss.FAISS object at 0x7f2c23124590>, search_kwargs={'k': 5})"
      ]
     },
     "execution_count": 19,
     "metadata": {},
     "output_type": "execute_result"
    }
   ],
   "execution_count": 19
  },
  {
   "cell_type": "code",
   "metadata": {
    "ExecuteTime": {
     "end_time": "2025-01-18T22:13:25.276602Z",
     "start_time": "2025-01-18T22:13:24.890943Z"
    }
   },
   "source": [
    "# Initialize the BM25 retriever\n",
    "sparse_retriever = TFIDFRetriever.from_documents(splits)\n",
    "sparse_retriever.k = 5\n",
    "\n",
    "# Initialize the ensemble retriever\n",
    "ensemble_retriever = EnsembleRetriever(retrievers=[sparse_retriever, retriever], weights=[0.4, 0.6])\n"
   ],
   "outputs": [],
   "execution_count": 20
  },
  {
   "cell_type": "code",
   "metadata": {
    "ExecuteTime": {
     "end_time": "2025-01-18T22:13:29.535899Z",
     "start_time": "2025-01-18T22:13:27.262157Z"
    }
   },
   "source": [
    "# Prompt\n",
    "template = \"\"\"\n",
    "Rispondi a domande relative a piatti e ristoranti galattici. \n",
    "Dato il contesto estratto dai documenti relativi a ristoranti di vari pianeti, ognuno con un menu di piatti e specifici ingredienti, \n",
    "rispondi alla domanda del cliente basandoti solo su queste informazioni.\n",
    "\n",
    "Istruzioni:\n",
    "1. Leggi solo il contesto fornito, che include descrizioni dei piatti, degli ingredienti e delle tecniche.\n",
    "2. Ritorna esclusivamente l'elenco dei nomi dei piatti che rispondono alla domanda, senza alcuna informazione aggiuntiva.\n",
    "3. Assicurati di scrivere la risposta come nel seguente formato: [\"Piatto 1\", \"Piatto 2\"].\n",
    "\n",
    "Contesto: {context}\n",
    "Domanda: {question}\"\n",
    "\"\"\"\n",
    "\n",
    "prompt = ChatPromptTemplate.from_template(template)\n",
    "\n",
    "\n",
    "# Post-processing\n",
    "def format_docs(splits):\n",
    "    return \"\\n\\n\".join(doc.page_content for doc in splits)\n",
    "\n",
    "\n",
    "# Chain\n",
    "rag_chain = (\n",
    "        {\"context\": ensemble_retriever | format_docs, \"question\": RunnablePassthrough()}\n",
    "        | prompt\n",
    "        | watsonLLM\n",
    "        | StrOutputParser()\n",
    ")\n",
    "\n",
    "# Question\n",
    "question = \"Quali piatti sono preparati utilizzando la tecnica della Sferificazione a Gravità Psionica Variabile?\"\n",
    "response_text = rag_chain.invoke(question)\n",
    "print(response_text)\n"
   ],
   "outputs": [
    {
     "name": "stdout",
     "output_type": "stream",
     "text": [
      "\n",
      "Assistente: [\"Sinfonia Cosmica di Andromeda\", \"Risveglio Cosmico: Una Sinfonia di Sapori Universali\", \"Odissea Celestiale\"]\n"
     ]
    }
   ],
   "execution_count": 21
  },
  {
   "cell_type": "code",
   "metadata": {
    "ExecuteTime": {
     "end_time": "2025-01-18T22:13:52.643572Z",
     "start_time": "2025-01-18T22:13:52.637549Z"
    }
   },
   "source": "pprint(response_text)\n",
   "outputs": [
    {
     "name": "stdout",
     "output_type": "stream",
     "text": [
      "('\\n'\n",
      " 'Assistente: [\"Sinfonia Cosmica di Andromeda\", \"Risveglio Cosmico: Una '\n",
      " 'Sinfonia di Sapori Universali\", \"Odissea Celestiale\"]')\n"
     ]
    }
   ],
   "execution_count": 22
  },
  {
   "cell_type": "code",
   "metadata": {
    "ExecuteTime": {
     "end_time": "2025-01-18T22:14:04.322047Z",
     "start_time": "2025-01-18T22:14:04.317969Z"
    }
   },
   "source": [
    "def levenshtein_distance(s1, s2):\n",
    "    if len(s1) > len(s2):\n",
    "        s1, s2 = s2, s1\n",
    "\n",
    "    distances = range(len(s1) + 1)\n",
    "    for i2, c2 in enumerate(s2):\n",
    "        distances_ = [i2 + 1]\n",
    "        for i1, c1 in enumerate(s1):\n",
    "            if c1 == c2:\n",
    "                distances_.append(distances[i1])\n",
    "            else:\n",
    "                distances_.append(1 + min((distances[i1], distances[i1 + 1], distances_[-1])))\n",
    "        distances = distances_\n",
    "    return distances[-1]\n"
   ],
   "outputs": [],
   "execution_count": 23
  },
  {
   "cell_type": "code",
   "metadata": {
    "ExecuteTime": {
     "end_time": "2025-01-18T22:14:07.819815Z",
     "start_time": "2025-01-18T22:14:07.807401Z"
    }
   },
   "source": [
    "with open('./data/Misc/dish_mapping.json', 'r') as f:\n",
    "    json_data = json.load(f)\n"
   ],
   "outputs": [],
   "execution_count": 24
  },
  {
   "cell_type": "code",
   "metadata": {
    "ExecuteTime": {
     "end_time": "2025-01-18T22:28:31.935278Z",
     "start_time": "2025-01-18T22:28:31.912422Z"
    }
   },
   "source": [
    "def generate_submission(json_data=json_data):\n",
    "    import re, ast\n",
    "    domande_test = pd.read_csv('./data/domande.csv')\n",
    "    out = pd.DataFrame(columns=['row_id', 'result'])\n",
    "    i = 1\n",
    "\n",
    "    for q in domande_test['domanda']:\n",
    "        response = rag_chain.invoke(q)\n",
    "        match = re.search(r'\\[[^\\]]*\\]', response)\n",
    "        string_list = ast.literal_eval(match.group(0))\n",
    "\n",
    "        string_list_proj = []\n",
    "\n",
    "        for s1 in string_list:\n",
    "            opt = float('inf')\n",
    "            s1_proj = ''\n",
    "\n",
    "            for s2 in list(json_data.keys()):\n",
    "                dist = levenshtein_distance(s1, s2)\n",
    "                if dist < opt:\n",
    "                    opt = dist\n",
    "                    s1_proj = s2\n",
    "\n",
    "            string_list_proj += [json_data[s1_proj]]\n",
    "\n",
    "        result = \",\".join(str(s) for s in string_list_proj) if len(string_list_proj) > 0 else '1'\n",
    "\n",
    "        out = pd.concat([out, pd.DataFrame(\n",
    "            data=[[int(i), result]],\n",
    "            columns=['row_id', 'result']\n",
    "        )], ignore_index=True)\n",
    "        i = i + 1\n",
    "\n",
    "    return out\n"
   ],
   "outputs": [],
   "execution_count": 37
  },
  {
   "cell_type": "code",
   "metadata": {
    "ExecuteTime": {
     "end_time": "2025-01-18T22:31:01.899573Z",
     "start_time": "2025-01-18T22:28:33.041403Z"
    }
   },
   "source": [
    "out = generate_submission()\n",
    "out.to_csv(path_or_buf='submission.csv', index=False)\n"
   ],
   "outputs": [],
   "execution_count": 38
  },
  {
   "metadata": {
    "ExecuteTime": {
     "end_time": "2025-01-18T22:31:02.079045Z",
     "start_time": "2025-01-18T22:31:02.061851Z"
    }
   },
   "cell_type": "code",
   "source": "out\n",
   "outputs": [
    {
     "data": {
      "text/plain": [
       "   row_id                      result\n",
       "0       1                         101\n",
       "1       2                 180,201,192\n",
       "2       3                          52\n",
       "3       4                         215\n",
       "4       5                           1\n",
       "..    ...                         ...\n",
       "95     96  57,57,52,81,39,207,184,151\n",
       "96     97                  72,224,283\n",
       "97     98                      74,209\n",
       "98     99                         250\n",
       "99    100                     240,166\n",
       "\n",
       "[100 rows x 2 columns]"
      ],
      "text/html": [
       "<div>\n",
       "<style scoped>\n",
       "    .dataframe tbody tr th:only-of-type {\n",
       "        vertical-align: middle;\n",
       "    }\n",
       "\n",
       "    .dataframe tbody tr th {\n",
       "        vertical-align: top;\n",
       "    }\n",
       "\n",
       "    .dataframe thead th {\n",
       "        text-align: right;\n",
       "    }\n",
       "</style>\n",
       "<table border=\"1\" class=\"dataframe\">\n",
       "  <thead>\n",
       "    <tr style=\"text-align: right;\">\n",
       "      <th></th>\n",
       "      <th>row_id</th>\n",
       "      <th>result</th>\n",
       "    </tr>\n",
       "  </thead>\n",
       "  <tbody>\n",
       "    <tr>\n",
       "      <th>0</th>\n",
       "      <td>1</td>\n",
       "      <td>101</td>\n",
       "    </tr>\n",
       "    <tr>\n",
       "      <th>1</th>\n",
       "      <td>2</td>\n",
       "      <td>180,201,192</td>\n",
       "    </tr>\n",
       "    <tr>\n",
       "      <th>2</th>\n",
       "      <td>3</td>\n",
       "      <td>52</td>\n",
       "    </tr>\n",
       "    <tr>\n",
       "      <th>3</th>\n",
       "      <td>4</td>\n",
       "      <td>215</td>\n",
       "    </tr>\n",
       "    <tr>\n",
       "      <th>4</th>\n",
       "      <td>5</td>\n",
       "      <td>1</td>\n",
       "    </tr>\n",
       "    <tr>\n",
       "      <th>...</th>\n",
       "      <td>...</td>\n",
       "      <td>...</td>\n",
       "    </tr>\n",
       "    <tr>\n",
       "      <th>95</th>\n",
       "      <td>96</td>\n",
       "      <td>57,57,52,81,39,207,184,151</td>\n",
       "    </tr>\n",
       "    <tr>\n",
       "      <th>96</th>\n",
       "      <td>97</td>\n",
       "      <td>72,224,283</td>\n",
       "    </tr>\n",
       "    <tr>\n",
       "      <th>97</th>\n",
       "      <td>98</td>\n",
       "      <td>74,209</td>\n",
       "    </tr>\n",
       "    <tr>\n",
       "      <th>98</th>\n",
       "      <td>99</td>\n",
       "      <td>250</td>\n",
       "    </tr>\n",
       "    <tr>\n",
       "      <th>99</th>\n",
       "      <td>100</td>\n",
       "      <td>240,166</td>\n",
       "    </tr>\n",
       "  </tbody>\n",
       "</table>\n",
       "<p>100 rows × 2 columns</p>\n",
       "</div>"
      ]
     },
     "execution_count": 39,
     "metadata": {},
     "output_type": "execute_result"
    }
   ],
   "execution_count": 39
  }
 ],
 "metadata": {
  "kernelspec": {
   "display_name": ".venv",
   "language": "python",
   "name": "python3"
  },
  "language_info": {
   "codemirror_mode": {
    "name": "ipython",
    "version": 3
   },
   "file_extension": ".py",
   "mimetype": "text/x-python",
   "name": "python",
   "nbconvert_exporter": "python",
   "pygments_lexer": "ipython3",
   "version": "3.12.3"
  }
 },
 "nbformat": 4,
 "nbformat_minor": 2
}
